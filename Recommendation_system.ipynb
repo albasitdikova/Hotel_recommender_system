{
 "cells": [
  {
   "cell_type": "code",
   "execution_count": 1,
   "metadata": {},
   "outputs": [],
   "source": [
    "import pandas as pd"
   ]
  },
  {
   "cell_type": "code",
   "execution_count": 2,
   "metadata": {},
   "outputs": [],
   "source": [
    "import re\n",
    "import string"
   ]
  },
  {
   "cell_type": "code",
   "execution_count": 3,
   "metadata": {},
   "outputs": [],
   "source": [
    "from nltk.corpus import stopwords\n",
    "import nltk"
   ]
  },
  {
   "cell_type": "code",
   "execution_count": 4,
   "metadata": {},
   "outputs": [],
   "source": [
    "from sklearn.feature_extraction.text import CountVectorizer"
   ]
  },
  {
   "cell_type": "code",
   "execution_count": 5,
   "metadata": {},
   "outputs": [],
   "source": [
    "from sklearn.decomposition import NMF"
   ]
  },
  {
   "cell_type": "code",
   "execution_count": 9,
   "metadata": {},
   "outputs": [
    {
     "name": "stderr",
     "output_type": "stream",
     "text": [
      "/Users/albinasitdikova/opt/anaconda3/lib/python3.8/site-packages/IPython/core/interactiveshell.py:3146: DtypeWarning: Columns (30) have mixed types.Specify dtype option on import or set low_memory=False.\n",
      "  has_raised = await self.run_ast_nodes(code_ast.body, cell_name,\n"
     ]
    }
   ],
   "source": [
    "df_union = pd.read_csv('df_union_all.csv')  "
   ]
  },
  {
   "cell_type": "code",
   "execution_count": null,
   "metadata": {},
   "outputs": [],
   "source": [
    "df_union"
   ]
  },
  {
   "cell_type": "markdown",
   "metadata": {},
   "source": [
    "## Text preprocessing"
   ]
  },
  {
   "cell_type": "code",
   "execution_count": 1,
   "metadata": {},
   "outputs": [
    {
     "ename": "NameError",
     "evalue": "name 'df_union' is not defined",
     "output_type": "error",
     "traceback": [
      "\u001b[0;31m---------------------------------------------------------------------------\u001b[0m",
      "\u001b[0;31mNameError\u001b[0m                                 Traceback (most recent call last)",
      "\u001b[0;32m<ipython-input-1-23bf14ff5c14>\u001b[0m in \u001b[0;36m<module>\u001b[0;34m\u001b[0m\n\u001b[0;32m----> 1\u001b[0;31m \u001b[0mdf_union\u001b[0m\u001b[0;34m.\u001b[0m\u001b[0mcolumns\u001b[0m\u001b[0;34m\u001b[0m\u001b[0;34m\u001b[0m\u001b[0m\n\u001b[0m",
      "\u001b[0;31mNameError\u001b[0m: name 'df_union' is not defined"
     ]
    }
   ],
   "source": [
    "df_union.columns"
   ]
  },
  {
   "cell_type": "markdown",
   "metadata": {},
   "source": [
    "Delete reviews that contains more non-english words than english, because a lot of french words defined as english"
   ]
  },
  {
   "cell_type": "code",
   "execution_count": null,
   "metadata": {},
   "outputs": [],
   "source": [
    "words = set(nltk.corpus.words.words())"
   ]
  },
  {
   "cell_type": "code",
   "execution_count": null,
   "metadata": {},
   "outputs": [],
   "source": [
    "\n",
    "words = set(nltk.corpus.words.words())\n",
    "\n",
    "sent = \"Io andiamo to the beach with my amico.\"\n",
    "\" \".join(w for w in nltk.wordpunct_tokenize(sent) \\\n",
    "         if w.lower() in words or not w.isalpha())\n",
    "# 'Io to the beach with my'"
   ]
  },
  {
   "cell_type": "code",
   "execution_count": null,
   "metadata": {},
   "outputs": [],
   "source": []
  },
  {
   "cell_type": "code",
   "execution_count": null,
   "metadata": {
    "scrolled": true
   },
   "outputs": [],
   "source": [
    "df_union.locality.value_counts()"
   ]
  },
  {
   "cell_type": "code",
   "execution_count": null,
   "metadata": {},
   "outputs": [],
   "source": [
    "# Compound Term Extraction\n",
    "repl = lambda x: x.replace('new york', 'new_york').replace('nyc', 'new_york').replace('times square', 'times_square').replace('new york city', 'new_york')#.replace('nyc', 'new_york').replace('nyc', 'new_york').replace('nyc', 'new_york').replace('nyc', 'new_york')\n",
    "\n",
    "# Text preprocessing steps - remove numbers, captial letters and punctuation\n",
    "alphanumeric = lambda x: re.sub('\\w*\\d\\w*', ' ', x)\n",
    "punc_lower = lambda x: re.sub('[%s]' % re.escape(string.punctuation), ' ', x.lower())\n",
    "\n",
    "words = set(nltk.corpus.words.words())\n",
    "english_only = lambda x: \" \".join(w for w in nltk.wordpunct_tokenize(x) \\\n",
    "         if w.lower() in words or not w.isalpha())\n",
    "\n",
    "df_union['text'] = df_union.text.map(alphanumeric).map(punc_lower).map(repl)#.map(english_only) #.map(repl)\n",
    "df_union['title'] = df_union.title.map(alphanumeric).map(punc_lower).map(repl)#.map(english_only) #.map(repl)\n",
    "df_union.head()"
   ]
  },
  {
   "cell_type": "code",
   "execution_count": null,
   "metadata": {},
   "outputs": [],
   "source": [
    "#instead all non-English review will type 0, and return only English words\n",
    "def is_english(row):\n",
    "    \n",
    "    len_review = len(row)\n",
    "    english_review = \" \".join(w for w in nltk.wordpunct_tokenize(row) \\\n",
    "         if w.lower() in words or not w.isalpha())\n",
    "    \n",
    "    len_english = len(english_review)\n",
    "    \n",
    "    if len_review > len_english * 2:\n",
    "        return 0\n",
    "    else:\n",
    "        return english_review"
   ]
  },
  {
   "cell_type": "code",
   "execution_count": null,
   "metadata": {},
   "outputs": [],
   "source": [
    "df_union.text = df_union.text.apply(is_english)"
   ]
  },
  {
   "cell_type": "code",
   "execution_count": null,
   "metadata": {},
   "outputs": [],
   "source": [
    "df_english = df_union.copy()"
   ]
  },
  {
   "cell_type": "code",
   "execution_count": null,
   "metadata": {},
   "outputs": [],
   "source": [
    "df_english.drop(df_english.loc[df_english['text']==0].index, inplace=True)"
   ]
  },
  {
   "cell_type": "code",
   "execution_count": null,
   "metadata": {},
   "outputs": [],
   "source": [
    "df_english "
   ]
  },
  {
   "cell_type": "code",
   "execution_count": null,
   "metadata": {},
   "outputs": [],
   "source": [
    "# removing stop words from the text\n",
    "stop = stopwords.words('english')\n",
    "stop += ['.', ',', '(', ')', \"'\", '\"']\n",
    "stop += ['hotel', 'stay']\n",
    "stop = set(stop)"
   ]
  },
  {
   "cell_type": "code",
   "execution_count": null,
   "metadata": {},
   "outputs": [],
   "source": [
    "df_union"
   ]
  },
  {
   "cell_type": "markdown",
   "metadata": {},
   "source": [
    "#### Delete reviews where author_id or id id None"
   ]
  },
  {
   "cell_type": "code",
   "execution_count": null,
   "metadata": {},
   "outputs": [],
   "source": [
    "df_english.dropna(subset = [\"offering_id\"], inplace=True)"
   ]
  },
  {
   "cell_type": "code",
   "execution_count": null,
   "metadata": {},
   "outputs": [],
   "source": [
    "df_english.dropna(subset = [\"id\"], inplace=True)"
   ]
  },
  {
   "cell_type": "code",
   "execution_count": null,
   "metadata": {},
   "outputs": [],
   "source": [
    "df_english.reset_index(drop=True,inplace=True)"
   ]
  },
  {
   "cell_type": "code",
   "execution_count": null,
   "metadata": {},
   "outputs": [],
   "source": [
    "df_english"
   ]
  },
  {
   "cell_type": "markdown",
   "metadata": {},
   "source": [
    "## Document-Term Matrix"
   ]
  },
  {
   "cell_type": "code",
   "execution_count": null,
   "metadata": {},
   "outputs": [],
   "source": [
    "# The first document-term matrix has default Count Vectorizer values - counts of unigrams\n",
    "\n",
    "vectorizer = CountVectorizer(stop_words = stop)\n",
    "\n",
    "doc_word = vectorizer.fit_transform(df_english.text)\n",
    "\n",
    "pd.DataFrame(doc_word.toarray(), columns=vectorizer.get_feature_names()).head()"
   ]
  },
  {
   "cell_type": "code",
   "execution_count": null,
   "metadata": {},
   "outputs": [],
   "source": []
  },
  {
   "cell_type": "markdown",
   "metadata": {},
   "source": [
    "## Topic modeling"
   ]
  },
  {
   "cell_type": "markdown",
   "metadata": {},
   "source": [
    "### Non-Negative Matrix Factorization (NMF)"
   ]
  },
  {
   "cell_type": "code",
   "execution_count": null,
   "metadata": {},
   "outputs": [],
   "source": [
    "nmf_model = NMF(10)\n",
    "doc_topic_nmf = nmf_model.fit_transform(doc_word)\n",
    "doc_topic_nmf.shape"
   ]
  },
  {
   "cell_type": "code",
   "execution_count": null,
   "metadata": {},
   "outputs": [],
   "source": [
    "topic_word_nmf = nmf_model.components_\n",
    "topic_word_nmf.shape"
   ]
  },
  {
   "cell_type": "code",
   "execution_count": null,
   "metadata": {},
   "outputs": [],
   "source": [
    "words_nmf = vectorizer.get_feature_names()\n",
    "t = nmf_model.components_.argsort(axis=1)[:,-1:-8:-1]\n",
    "topic_words_nmf = [[words_nmf[e] for e in l] for l in t]\n",
    "topic_words_nmf"
   ]
  },
  {
   "cell_type": "code",
   "execution_count": null,
   "metadata": {},
   "outputs": [],
   "source": []
  },
  {
   "cell_type": "markdown",
   "metadata": {},
   "source": [
    "### Try using TF-IDF instead of Count Vectorizer"
   ]
  },
  {
   "cell_type": "code",
   "execution_count": null,
   "metadata": {},
   "outputs": [],
   "source": [
    "# Create TF-IDF versions of the Count Vectorizers created earlier in the exercise\n",
    "from sklearn.feature_extraction.text import TfidfVectorizer"
   ]
  },
  {
   "cell_type": "code",
   "execution_count": null,
   "metadata": {},
   "outputs": [],
   "source": [
    "tfidf = TfidfVectorizer(stop_words=stop)"
   ]
  },
  {
   "cell_type": "code",
   "execution_count": null,
   "metadata": {},
   "outputs": [],
   "source": [
    "doc_word_tfidf = tfidf.fit_transform(df_english.text)              "
   ]
  },
  {
   "cell_type": "code",
   "execution_count": null,
   "metadata": {},
   "outputs": [],
   "source": [
    "pd.DataFrame(doc_word_tfidf.toarray(), columns=tfidf.get_feature_names()).head()"
   ]
  },
  {
   "cell_type": "markdown",
   "metadata": {},
   "source": [
    "#### NMF - tf-ifd"
   ]
  },
  {
   "cell_type": "code",
   "execution_count": null,
   "metadata": {},
   "outputs": [],
   "source": [
    "nmf_model_2 = NMF(10)\n",
    "doc_topic_nmf_2 = nmf_model_2.fit_transform(doc_word_tfidf)\n",
    "doc_topic_nmf_2.shape"
   ]
  },
  {
   "cell_type": "code",
   "execution_count": null,
   "metadata": {},
   "outputs": [],
   "source": [
    "topic_word_nmf_2 = nmf_model_2.components_\n",
    "topic_word_nmf_2.shape"
   ]
  },
  {
   "cell_type": "code",
   "execution_count": null,
   "metadata": {},
   "outputs": [],
   "source": [
    "words_2 = tfidf.get_feature_names()\n",
    "t_2 = nmf_model_2.components_.argsort(axis=1)[:,-1:-7:-1]\n",
    "topic_words_nmf_2 = [[words_2[e] for e in l] for l in t_2]\n",
    "topic_words_nmf_2"
   ]
  },
  {
   "cell_type": "code",
   "execution_count": null,
   "metadata": {},
   "outputs": [],
   "source": [
    "doc_topic_nmf_2"
   ]
  },
  {
   "cell_type": "code",
   "execution_count": null,
   "metadata": {},
   "outputs": [],
   "source": [
    "H = pd.DataFrame(doc_topic_nmf_2.round(5),\n",
    "                 index = df_english.text\n",
    "                )\n",
    "H"
   ]
  },
  {
   "cell_type": "markdown",
   "metadata": {},
   "source": [
    "### !!! try different topic modeling on tf-idf"
   ]
  },
  {
   "cell_type": "markdown",
   "metadata": {},
   "source": [
    "### LSA"
   ]
  },
  {
   "cell_type": "code",
   "execution_count": null,
   "metadata": {},
   "outputs": [],
   "source": [
    "from sklearn.decomposition import TruncatedSVD"
   ]
  },
  {
   "cell_type": "code",
   "execution_count": null,
   "metadata": {},
   "outputs": [],
   "source": [
    "# Acronynms: Latent Semantic Analysis (LSA) is just another name for \n",
    "#  Signular Value Decomposition (SVD) applied to Natural Language Processing (NLP)\n",
    "lsa = TruncatedSVD(10)\n",
    "doc_topic_lsa = lsa.fit_transform(doc_word_tfidf)\n",
    "lsa.explained_variance_ratio_"
   ]
  },
  {
   "cell_type": "code",
   "execution_count": null,
   "metadata": {},
   "outputs": [],
   "source": [
    "doc_topic_lsa"
   ]
  },
  {
   "cell_type": "code",
   "execution_count": null,
   "metadata": {},
   "outputs": [],
   "source": [
    "Vt = pd.DataFrame(doc_topic_lsa.round(5),\n",
    "             index = df_english.text)\n",
    "Vt"
   ]
  },
  {
   "cell_type": "code",
   "execution_count": null,
   "metadata": {},
   "outputs": [],
   "source": [
    "words_lsa = tfidf.get_feature_names()\n",
    "t_lsa = lsa.components_.argsort(axis=1)[:,-1:-7:-1]\n",
    "topic_words_lsa = [[words_lsa[e] for e in l] for l in t_lsa]\n",
    "topic_words_lsa"
   ]
  },
  {
   "cell_type": "code",
   "execution_count": null,
   "metadata": {},
   "outputs": [],
   "source": []
  },
  {
   "cell_type": "markdown",
   "metadata": {},
   "source": [
    "### LDA"
   ]
  },
  {
   "cell_type": "code",
   "execution_count": null,
   "metadata": {},
   "outputs": [],
   "source": []
  },
  {
   "cell_type": "code",
   "execution_count": null,
   "metadata": {},
   "outputs": [],
   "source": []
  },
  {
   "cell_type": "markdown",
   "metadata": {},
   "source": [
    "### Text Recommendation through Matrix Factorization"
   ]
  },
  {
   "cell_type": "code",
   "execution_count": null,
   "metadata": {},
   "outputs": [],
   "source": [
    "from sklearn.metrics import pairwise_distances"
   ]
  },
  {
   "cell_type": "code",
   "execution_count": null,
   "metadata": {},
   "outputs": [],
   "source": [
    "pairwise_distances(doc_topic_nmf_2[4].reshape(1,-1),doc_topic_nmf_2,metric='cosine')"
   ]
  },
  {
   "cell_type": "code",
   "execution_count": null,
   "metadata": {},
   "outputs": [],
   "source": [
    "pairwise_distances(doc_topic_nmf_2[4].reshape(1,-1),doc_topic_nmf_2,metric='cosine').argsort()"
   ]
  },
  {
   "cell_type": "markdown",
   "metadata": {},
   "source": [
    "##### You can now take any text and make a recommendation for it:"
   ]
  },
  {
   "cell_type": "code",
   "execution_count": null,
   "metadata": {},
   "outputs": [],
   "source": [
    "t = ['basketball is the best']"
   ]
  },
  {
   "cell_type": "code",
   "execution_count": null,
   "metadata": {},
   "outputs": [],
   "source": [
    "vt = vectorizer.transform(t)"
   ]
  },
  {
   "cell_type": "code",
   "execution_count": null,
   "metadata": {},
   "outputs": [],
   "source": [
    "tt = nmf_model.transform(vt)"
   ]
  },
  {
   "cell_type": "code",
   "execution_count": null,
   "metadata": {},
   "outputs": [],
   "source": [
    "pairwise_distances(tt,doc_topic_nmf_2,metric='cosine').argsort()"
   ]
  },
  {
   "cell_type": "code",
   "execution_count": null,
   "metadata": {},
   "outputs": [],
   "source": [
    "df_english.text[1272]"
   ]
  },
  {
   "cell_type": "code",
   "execution_count": null,
   "metadata": {},
   "outputs": [],
   "source": []
  },
  {
   "cell_type": "markdown",
   "metadata": {},
   "source": [
    "Simple recommender: list of similar hotels"
   ]
  },
  {
   "cell_type": "code",
   "execution_count": null,
   "metadata": {},
   "outputs": [],
   "source": [
    "from collections import defaultdict"
   ]
  },
  {
   "cell_type": "code",
   "execution_count": null,
   "metadata": {},
   "outputs": [],
   "source": [
    "user_movie_map = defaultdict(list)\n",
    "hotel_user_map = defaultdict(list)"
   ]
  },
  {
   "cell_type": "code",
   "execution_count": null,
   "metadata": {},
   "outputs": [],
   "source": [
    "user_movie_map"
   ]
  },
  {
   "cell_type": "code",
   "execution_count": null,
   "metadata": {},
   "outputs": [],
   "source": [
    "df_english.columns"
   ]
  },
  {
   "cell_type": "code",
   "execution_count": null,
   "metadata": {},
   "outputs": [],
   "source": [
    "df_english"
   ]
  },
  {
   "cell_type": "code",
   "execution_count": null,
   "metadata": {},
   "outputs": [],
   "source": [
    "len(df_english)"
   ]
  },
  {
   "cell_type": "code",
   "execution_count": null,
   "metadata": {},
   "outputs": [],
   "source": [
    "df_english.loc[0, 'author_id']"
   ]
  },
  {
   "cell_type": "code",
   "execution_count": null,
   "metadata": {},
   "outputs": [],
   "source": [
    "user_movie_map"
   ]
  },
  {
   "cell_type": "code",
   "execution_count": null,
   "metadata": {},
   "outputs": [],
   "source": [
    "df_english.shape[0]"
   ]
  },
  {
   "cell_type": "code",
   "execution_count": null,
   "metadata": {},
   "outputs": [],
   "source": [
    "df_english.head(10)"
   ]
  },
  {
   "cell_type": "code",
   "execution_count": null,
   "metadata": {},
   "outputs": [],
   "source": [
    "df_english.author_id[9]"
   ]
  },
  {
   "cell_type": "code",
   "execution_count": null,
   "metadata": {},
   "outputs": [],
   "source": [
    "for i in range(0, df_english.shape[0]):\n",
    "#     print(df_english.author_id[i])\n",
    "#     print(df_english.id[i])\n",
    "#     print(i)\"\"\n",
    "    user_movie_map[df_english.author_username[i]].append(df_english.id[i])\n",
    "    \n",
    "    hotel_user_map[df_english.id[i]].append(df_english.author_username[i])"
   ]
  },
  {
   "cell_type": "code",
   "execution_count": null,
   "metadata": {},
   "outputs": [],
   "source": [
    "user_movie_map"
   ]
  },
  {
   "cell_type": "code",
   "execution_count": null,
   "metadata": {},
   "outputs": [],
   "source": [
    "def get_similar_hotels(user_movie_map,hotel_user_map,m):\n",
    "    biglist = []\n",
    "    for u in hotel_user_map[m]: # get all users that liked this movie\n",
    "        biglist.extend(user_movie_map[u]) # find all other movies those users liked and add to biglist\n",
    "    return Counter(biglist).most_common(4)[1:] # use counter to 'count' the other movies that show up most common"
   ]
  },
  {
   "cell_type": "code",
   "execution_count": null,
   "metadata": {},
   "outputs": [],
   "source": [
    "from collections import Counter"
   ]
  },
  {
   "cell_type": "code",
   "execution_count": null,
   "metadata": {},
   "outputs": [],
   "source": [
    "get_similar_hotels(user_movie_map,hotel_user_map,133618731.0)"
   ]
  },
  {
   "cell_type": "code",
   "execution_count": null,
   "metadata": {},
   "outputs": [],
   "source": [
    "hotel_user_map"
   ]
  },
  {
   "cell_type": "code",
   "execution_count": null,
   "metadata": {},
   "outputs": [],
   "source": []
  },
  {
   "cell_type": "markdown",
   "metadata": {},
   "source": [
    "## Surprise recommender"
   ]
  },
  {
   "cell_type": "code",
   "execution_count": 3,
   "metadata": {},
   "outputs": [],
   "source": [
    "from surprise import SVD\n",
    "from surprise import Dataset\n",
    "from surprise.model_selection import cross_validate, train_test_split\n",
    "from surprise import accuracy\n",
    "from surprise import Reader\n",
    "from surprise import BaselineOnly"
   ]
  },
  {
   "cell_type": "code",
   "execution_count": 10,
   "metadata": {},
   "outputs": [],
   "source": [
    "df_union_all = pd.read_csv('df_union_all.csv')  "
   ]
  },
  {
   "cell_type": "code",
   "execution_count": 8,
   "metadata": {},
   "outputs": [
    {
     "data": {
      "text/html": [
       "<div>\n",
       "<style scoped>\n",
       "    .dataframe tbody tr th:only-of-type {\n",
       "        vertical-align: middle;\n",
       "    }\n",
       "\n",
       "    .dataframe tbody tr th {\n",
       "        vertical-align: top;\n",
       "    }\n",
       "\n",
       "    .dataframe thead th {\n",
       "        text-align: right;\n",
       "    }\n",
       "</style>\n",
       "<table border=\"1\" class=\"dataframe\">\n",
       "  <thead>\n",
       "    <tr style=\"text-align: right;\">\n",
       "      <th></th>\n",
       "      <th>title</th>\n",
       "      <th>text</th>\n",
       "      <th>date_stayed</th>\n",
       "      <th>offering_id</th>\n",
       "      <th>num_helpful_votes</th>\n",
       "      <th>date</th>\n",
       "      <th>id</th>\n",
       "      <th>via_mobile</th>\n",
       "      <th>service</th>\n",
       "      <th>cleanliness</th>\n",
       "      <th>...</th>\n",
       "      <th>region_id</th>\n",
       "      <th>url</th>\n",
       "      <th>phone</th>\n",
       "      <th>details</th>\n",
       "      <th>type</th>\n",
       "      <th>name</th>\n",
       "      <th>region</th>\n",
       "      <th>street-address</th>\n",
       "      <th>postal-code</th>\n",
       "      <th>locality</th>\n",
       "    </tr>\n",
       "  </thead>\n",
       "  <tbody>\n",
       "    <tr>\n",
       "      <th>0</th>\n",
       "      <td>“Truly is \"Jewel of the Upper Wets Side\"”</td>\n",
       "      <td>Stayed in a king suite for 11 nights and yes i...</td>\n",
       "      <td>December 2012</td>\n",
       "      <td>93338</td>\n",
       "      <td>12.0</td>\n",
       "      <td>2012-12-17</td>\n",
       "      <td>8C0B42FF3C0FA366A21CFD785302A032</td>\n",
       "      <td>False</td>\n",
       "      <td>5.0</td>\n",
       "      <td>5.0</td>\n",
       "      <td>...</td>\n",
       "      <td>60763</td>\n",
       "      <td>http://www.tripadvisor.com/Hotel_Review-g60763...</td>\n",
       "      <td>NaN</td>\n",
       "      <td>NaN</td>\n",
       "      <td>hotel</td>\n",
       "      <td>Hotel Beacon</td>\n",
       "      <td>NY</td>\n",
       "      <td>2130 Broadway at 75th Street</td>\n",
       "      <td>10023</td>\n",
       "      <td>New York City</td>\n",
       "    </tr>\n",
       "    <tr>\n",
       "      <th>1</th>\n",
       "      <td>“My home away from home!”</td>\n",
       "      <td>On every visit to NYC, the Hotel Beacon is the...</td>\n",
       "      <td>December 2012</td>\n",
       "      <td>93338</td>\n",
       "      <td>NaN</td>\n",
       "      <td>2012-12-17</td>\n",
       "      <td>E3C85CA9DBBBC77E0DB534ABE93E4713</td>\n",
       "      <td>False</td>\n",
       "      <td>5.0</td>\n",
       "      <td>5.0</td>\n",
       "      <td>...</td>\n",
       "      <td>60763</td>\n",
       "      <td>http://www.tripadvisor.com/Hotel_Review-g60763...</td>\n",
       "      <td>NaN</td>\n",
       "      <td>NaN</td>\n",
       "      <td>hotel</td>\n",
       "      <td>Hotel Beacon</td>\n",
       "      <td>NY</td>\n",
       "      <td>2130 Broadway at 75th Street</td>\n",
       "      <td>10023</td>\n",
       "      <td>New York City</td>\n",
       "    </tr>\n",
       "    <tr>\n",
       "      <th>2</th>\n",
       "      <td>“Excellent location”</td>\n",
       "      <td>Loved the hotel. Great location - only 2 block...</td>\n",
       "      <td>December 2012</td>\n",
       "      <td>93338</td>\n",
       "      <td>1.0</td>\n",
       "      <td>2012-12-17</td>\n",
       "      <td>035080D10D186778123E6A58C11E0608</td>\n",
       "      <td>False</td>\n",
       "      <td>5.0</td>\n",
       "      <td>5.0</td>\n",
       "      <td>...</td>\n",
       "      <td>60763</td>\n",
       "      <td>http://www.tripadvisor.com/Hotel_Review-g60763...</td>\n",
       "      <td>NaN</td>\n",
       "      <td>NaN</td>\n",
       "      <td>hotel</td>\n",
       "      <td>Hotel Beacon</td>\n",
       "      <td>NY</td>\n",
       "      <td>2130 Broadway at 75th Street</td>\n",
       "      <td>10023</td>\n",
       "      <td>New York City</td>\n",
       "    </tr>\n",
       "    <tr>\n",
       "      <th>3</th>\n",
       "      <td>“All-round fantastic NYC hotel”</td>\n",
       "      <td>Our first stay on the upper west side and can'...</td>\n",
       "      <td>December 2012</td>\n",
       "      <td>93338</td>\n",
       "      <td>NaN</td>\n",
       "      <td>2012-12-17</td>\n",
       "      <td>412A714D6BF1607A01CC828645DD70AE</td>\n",
       "      <td>False</td>\n",
       "      <td>5.0</td>\n",
       "      <td>5.0</td>\n",
       "      <td>...</td>\n",
       "      <td>60763</td>\n",
       "      <td>http://www.tripadvisor.com/Hotel_Review-g60763...</td>\n",
       "      <td>NaN</td>\n",
       "      <td>NaN</td>\n",
       "      <td>hotel</td>\n",
       "      <td>Hotel Beacon</td>\n",
       "      <td>NY</td>\n",
       "      <td>2130 Broadway at 75th Street</td>\n",
       "      <td>10023</td>\n",
       "      <td>New York City</td>\n",
       "    </tr>\n",
       "    <tr>\n",
       "      <th>4</th>\n",
       "      <td>“Great hotel in nice area”</td>\n",
       "      <td>Great room, very big with huge bed! Great loca...</td>\n",
       "      <td>December 2012</td>\n",
       "      <td>93338</td>\n",
       "      <td>3.0</td>\n",
       "      <td>2012-12-17</td>\n",
       "      <td>72B051F423790BE5F0EF6A9FD23EB77E</td>\n",
       "      <td>False</td>\n",
       "      <td>5.0</td>\n",
       "      <td>5.0</td>\n",
       "      <td>...</td>\n",
       "      <td>60763</td>\n",
       "      <td>http://www.tripadvisor.com/Hotel_Review-g60763...</td>\n",
       "      <td>NaN</td>\n",
       "      <td>NaN</td>\n",
       "      <td>hotel</td>\n",
       "      <td>Hotel Beacon</td>\n",
       "      <td>NY</td>\n",
       "      <td>2130 Broadway at 75th Street</td>\n",
       "      <td>10023</td>\n",
       "      <td>New York City</td>\n",
       "    </tr>\n",
       "  </tbody>\n",
       "</table>\n",
       "<p>5 rows × 32 columns</p>\n",
       "</div>"
      ],
      "text/plain": [
       "                                       title  \\\n",
       "0  “Truly is \"Jewel of the Upper Wets Side\"”   \n",
       "1                  “My home away from home!”   \n",
       "2                       “Excellent location”   \n",
       "3            “All-round fantastic NYC hotel”   \n",
       "4                 “Great hotel in nice area”   \n",
       "\n",
       "                                                text    date_stayed  \\\n",
       "0  Stayed in a king suite for 11 nights and yes i...  December 2012   \n",
       "1  On every visit to NYC, the Hotel Beacon is the...  December 2012   \n",
       "2  Loved the hotel. Great location - only 2 block...  December 2012   \n",
       "3  Our first stay on the upper west side and can'...  December 2012   \n",
       "4  Great room, very big with huge bed! Great loca...  December 2012   \n",
       "\n",
       "   offering_id  num_helpful_votes        date  \\\n",
       "0        93338               12.0  2012-12-17   \n",
       "1        93338                NaN  2012-12-17   \n",
       "2        93338                1.0  2012-12-17   \n",
       "3        93338                NaN  2012-12-17   \n",
       "4        93338                3.0  2012-12-17   \n",
       "\n",
       "                                 id  via_mobile  service  cleanliness  ...  \\\n",
       "0  8C0B42FF3C0FA366A21CFD785302A032       False      5.0          5.0  ...   \n",
       "1  E3C85CA9DBBBC77E0DB534ABE93E4713       False      5.0          5.0  ...   \n",
       "2  035080D10D186778123E6A58C11E0608       False      5.0          5.0  ...   \n",
       "3  412A714D6BF1607A01CC828645DD70AE       False      5.0          5.0  ...   \n",
       "4  72B051F423790BE5F0EF6A9FD23EB77E       False      5.0          5.0  ...   \n",
       "\n",
       "   region_id                                                url phone  \\\n",
       "0      60763  http://www.tripadvisor.com/Hotel_Review-g60763...   NaN   \n",
       "1      60763  http://www.tripadvisor.com/Hotel_Review-g60763...   NaN   \n",
       "2      60763  http://www.tripadvisor.com/Hotel_Review-g60763...   NaN   \n",
       "3      60763  http://www.tripadvisor.com/Hotel_Review-g60763...   NaN   \n",
       "4      60763  http://www.tripadvisor.com/Hotel_Review-g60763...   NaN   \n",
       "\n",
       "   details   type          name  region                street-address  \\\n",
       "0      NaN  hotel  Hotel Beacon      NY  2130 Broadway at 75th Street   \n",
       "1      NaN  hotel  Hotel Beacon      NY  2130 Broadway at 75th Street   \n",
       "2      NaN  hotel  Hotel Beacon      NY  2130 Broadway at 75th Street   \n",
       "3      NaN  hotel  Hotel Beacon      NY  2130 Broadway at 75th Street   \n",
       "4      NaN  hotel  Hotel Beacon      NY  2130 Broadway at 75th Street   \n",
       "\n",
       "   postal-code       locality  \n",
       "0        10023  New York City  \n",
       "1        10023  New York City  \n",
       "2        10023  New York City  \n",
       "3        10023  New York City  \n",
       "4        10023  New York City  \n",
       "\n",
       "[5 rows x 32 columns]"
      ]
     },
     "execution_count": 8,
     "metadata": {},
     "output_type": "execute_result"
    }
   ],
   "source": [
    "df_union_all.head()"
   ]
  },
  {
   "cell_type": "code",
   "execution_count": 9,
   "metadata": {},
   "outputs": [
    {
     "data": {
      "text/plain": [
       "Index(['title', 'text', 'date_stayed', 'offering_id', 'num_helpful_votes',\n",
       "       'date', 'id', 'via_mobile', 'service', 'cleanliness', 'overall',\n",
       "       'value', 'location', 'sleep_quality', 'rooms', 'check_in_front_desk',\n",
       "       'business_service_(e_g_internet_access)', 'username', 'num_cities',\n",
       "       'num_reviews', 'num_type_reviews', 'hotel_class', 'region_id', 'url',\n",
       "       'phone', 'details', 'type', 'name', 'region', 'street-address',\n",
       "       'postal-code', 'locality'],\n",
       "      dtype='object')"
      ]
     },
     "execution_count": 9,
     "metadata": {},
     "output_type": "execute_result"
    }
   ],
   "source": [
    "df_union_all.columns"
   ]
  },
  {
   "cell_type": "code",
   "execution_count": 11,
   "metadata": {},
   "outputs": [],
   "source": [
    "df_surprise = df_union_all.loc[:,['id', 'offering_id', 'overall']]"
   ]
  },
  {
   "cell_type": "code",
   "execution_count": 12,
   "metadata": {},
   "outputs": [
    {
     "data": {
      "text/plain": [
       "5    322771\n",
       "4    265623\n",
       "3    112218\n",
       "2     53280\n",
       "1     47302\n",
       "Name: overall, dtype: int64"
      ]
     },
     "execution_count": 12,
     "metadata": {},
     "output_type": "execute_result"
    }
   ],
   "source": [
    "df_surprise"
   ]
  },
  {
   "cell_type": "code",
   "execution_count": 12,
   "metadata": {},
   "outputs": [],
   "source": [
    "#df_surprise['overall'] = pd.to_numeric(df_surprise.overall)"
   ]
  },
  {
   "cell_type": "code",
   "execution_count": 13,
   "metadata": {},
   "outputs": [],
   "source": [
    "#use only reviews that > 5\n"
   ]
  },
  {
   "cell_type": "code",
   "execution_count": 6,
   "metadata": {},
   "outputs": [
    {
     "data": {
      "text/plain": [
       "id\n",
       "6562BBD4EA770FE84E579622F68FA181    63\n",
       "869E5453ED1ECD12EC2E210BEB6B922E    54\n",
       "6C62B19C4DB8C600576B763C68AF0759    52\n",
       "85223AA53CB0DE6A6EB7B3C1E99981B1    52\n",
       "7BC0AF07CC240F2F614A865BBE21B5AA    47\n",
       "                                    ..\n",
       "A0C0ABF1FDB3C9DE56BA848DA14F6348     1\n",
       "A0C0D203DEB1B61000BBF9259A4B5A22     1\n",
       "A0C0DCCEC004AABAEFB5CD88A6ED4BDA     1\n",
       "A0C0E290EABB5C946BF70442D7CDE19A     1\n",
       "7FC56E9337C70B8D630FCFB59E9A988E     1\n",
       "Name: overall, Length: 576685, dtype: int64"
      ]
     },
     "execution_count": 6,
     "metadata": {},
     "output_type": "execute_result"
    }
   ],
   "source": [
    "#count reviews for each user\n",
    "reviews_count_byuser = df_surprise.groupby(['id'])['overall'].count().sort_values(ascending=False)\n",
    "reviews_count_byuser"
   ]
  },
  {
   "cell_type": "code",
   "execution_count": 40,
   "metadata": {},
   "outputs": [
    {
     "data": {
      "text/plain": [
       "Index(['6562BBD4EA770FE84E579622F68FA181', '869E5453ED1ECD12EC2E210BEB6B922E',\n",
       "       '6C62B19C4DB8C600576B763C68AF0759', '85223AA53CB0DE6A6EB7B3C1E99981B1',\n",
       "       '7BC0AF07CC240F2F614A865BBE21B5AA', 'F73CC60121EDAB8E6B1637FDE6A09177',\n",
       "       '17EEAF9A079A2B75E9616F7864F7CA3E', '5A259EBC8C1AEBD6F20D4C48490255FF',\n",
       "       '106952AB894E1236A6094B030DD73C8F', '5DFE96EC85C67F248DEFFA8B84891A6A',\n",
       "       ...\n",
       "       '00BBAC3339F576E164FF9F627489481C', 'FD2BB013EE49D8432414008F8B89C482',\n",
       "       'FEF59A627074937521F622D5F65794AF', '01ECD34DFB3A71980CFE05D453CB2156',\n",
       "       'FD2680BF42CF51B2B13A136983B804C4', 'FDB8E88150901C82631CD5548B1A2BB8',\n",
       "       '027E1165FCD77427C33454661AF677CA', 'FCE4AD28BE08AF16A5B8E91D4D3C4F40',\n",
       "       'FD502B68BDE687E6E3F59E0578A8B615', 'FFE779A7913FECF3B0476DEB287ADCA8'],\n",
       "      dtype='object', name='id', length=7252)"
      ]
     },
     "execution_count": 40,
     "metadata": {},
     "output_type": "execute_result"
    }
   ],
   "source": [
    "user_more_reviews = reviews_count_byuser[reviews_count_byuser>5]\n",
    "user_more_reviews.index"
   ]
  },
  {
   "cell_type": "code",
   "execution_count": 41,
   "metadata": {},
   "outputs": [
    {
     "data": {
      "text/plain": [
       "0         False\n",
       "5         False\n",
       "10        False\n",
       "13        False\n",
       "18        False\n",
       "          ...  \n",
       "801189    False\n",
       "801190    False\n",
       "801191    False\n",
       "801192    False\n",
       "801193    False\n",
       "Name: id, Length: 343996, dtype: bool"
      ]
     },
     "execution_count": 41,
     "metadata": {},
     "output_type": "execute_result"
    }
   ],
   "source": [
    "df_surprise.id.isin(user_more_reviews.index)"
   ]
  },
  {
   "cell_type": "code",
   "execution_count": 42,
   "metadata": {},
   "outputs": [],
   "source": [
    "#df_surprise['user'] = df_surprise.id.isin(user_more_reviews.index)"
   ]
  },
  {
   "cell_type": "code",
   "execution_count": 43,
   "metadata": {},
   "outputs": [],
   "source": [
    "df_surprise = df_surprise[df_surprise.id.isin(user_more_reviews.index)]"
   ]
  },
  {
   "cell_type": "code",
   "execution_count": 44,
   "metadata": {},
   "outputs": [
    {
     "data": {
      "text/html": [
       "<div>\n",
       "<style scoped>\n",
       "    .dataframe tbody tr th:only-of-type {\n",
       "        vertical-align: middle;\n",
       "    }\n",
       "\n",
       "    .dataframe tbody tr th {\n",
       "        vertical-align: top;\n",
       "    }\n",
       "\n",
       "    .dataframe thead th {\n",
       "        text-align: right;\n",
       "    }\n",
       "</style>\n",
       "<table border=\"1\" class=\"dataframe\">\n",
       "  <thead>\n",
       "    <tr style=\"text-align: right;\">\n",
       "      <th></th>\n",
       "      <th>id</th>\n",
       "      <th>offering_id</th>\n",
       "      <th>overall</th>\n",
       "    </tr>\n",
       "  </thead>\n",
       "  <tbody>\n",
       "    <tr>\n",
       "      <th>35</th>\n",
       "      <td>1005ABAA83773778AB2A4BAAFE443901</td>\n",
       "      <td>93338</td>\n",
       "      <td>5</td>\n",
       "    </tr>\n",
       "    <tr>\n",
       "      <th>39</th>\n",
       "      <td>FD711E1ED5A2DA3F69425CDD77A80E5A</td>\n",
       "      <td>93338</td>\n",
       "      <td>5</td>\n",
       "    </tr>\n",
       "    <tr>\n",
       "      <th>63</th>\n",
       "      <td>A12D74E5CFC1564773D7C48B490DBE54</td>\n",
       "      <td>93338</td>\n",
       "      <td>5</td>\n",
       "    </tr>\n",
       "    <tr>\n",
       "      <th>119</th>\n",
       "      <td>3D693454C428B1D6E5458ACC210F9695</td>\n",
       "      <td>93338</td>\n",
       "      <td>5</td>\n",
       "    </tr>\n",
       "    <tr>\n",
       "      <th>120</th>\n",
       "      <td>771E3C17495EE9D080AF87EB2504161F</td>\n",
       "      <td>93338</td>\n",
       "      <td>4</td>\n",
       "    </tr>\n",
       "    <tr>\n",
       "      <th>...</th>\n",
       "      <td>...</td>\n",
       "      <td>...</td>\n",
       "      <td>...</td>\n",
       "    </tr>\n",
       "    <tr>\n",
       "      <th>801149</th>\n",
       "      <td>0FEEEDDB251FEF3713076F4CBFB08CF7</td>\n",
       "      <td>84117</td>\n",
       "      <td>5</td>\n",
       "    </tr>\n",
       "    <tr>\n",
       "      <th>801153</th>\n",
       "      <td>1437F74083AF6DEE8DAAC603F436EDA0</td>\n",
       "      <td>84117</td>\n",
       "      <td>5</td>\n",
       "    </tr>\n",
       "    <tr>\n",
       "      <th>801161</th>\n",
       "      <td>657EB42F3264EA15A287F416268A8A68</td>\n",
       "      <td>84117</td>\n",
       "      <td>5</td>\n",
       "    </tr>\n",
       "    <tr>\n",
       "      <th>801165</th>\n",
       "      <td>40923C2E4B6283C7450E045801624447</td>\n",
       "      <td>84117</td>\n",
       "      <td>4</td>\n",
       "    </tr>\n",
       "    <tr>\n",
       "      <th>801167</th>\n",
       "      <td>D95A1EBEB53A8B715B65771DDEEA16E8</td>\n",
       "      <td>84117</td>\n",
       "      <td>5</td>\n",
       "    </tr>\n",
       "  </tbody>\n",
       "</table>\n",
       "<p>60976 rows × 3 columns</p>\n",
       "</div>"
      ],
      "text/plain": [
       "                                      id  offering_id  overall\n",
       "35      1005ABAA83773778AB2A4BAAFE443901        93338        5\n",
       "39      FD711E1ED5A2DA3F69425CDD77A80E5A        93338        5\n",
       "63      A12D74E5CFC1564773D7C48B490DBE54        93338        5\n",
       "119     3D693454C428B1D6E5458ACC210F9695        93338        5\n",
       "120     771E3C17495EE9D080AF87EB2504161F        93338        4\n",
       "...                                  ...          ...      ...\n",
       "801149  0FEEEDDB251FEF3713076F4CBFB08CF7        84117        5\n",
       "801153  1437F74083AF6DEE8DAAC603F436EDA0        84117        5\n",
       "801161  657EB42F3264EA15A287F416268A8A68        84117        5\n",
       "801165  40923C2E4B6283C7450E045801624447        84117        4\n",
       "801167  D95A1EBEB53A8B715B65771DDEEA16E8        84117        5\n",
       "\n",
       "[60976 rows x 3 columns]"
      ]
     },
     "execution_count": 44,
     "metadata": {},
     "output_type": "execute_result"
    }
   ],
   "source": [
    "df_surprise "
   ]
  },
  {
   "cell_type": "code",
   "execution_count": 45,
   "metadata": {},
   "outputs": [],
   "source": [
    "#hotel has more than 5 review"
   ]
  },
  {
   "cell_type": "code",
   "execution_count": 46,
   "metadata": {},
   "outputs": [
    {
     "data": {
      "text/plain": [
       "offering_id\n",
       "87617      297\n",
       "111501     284\n",
       "93618      244\n",
       "611947     244\n",
       "93507      240\n",
       "          ... \n",
       "1235341      1\n",
       "98428        1\n",
       "1229785      1\n",
       "223136       1\n",
       "3523356      1\n",
       "Name: overall, Length: 3020, dtype: int64"
      ]
     },
     "execution_count": 46,
     "metadata": {},
     "output_type": "execute_result"
    }
   ],
   "source": [
    "reviews_count_by_hotel = df_surprise.groupby(['offering_id'])['overall'].count().sort_values(ascending=False)\n",
    "reviews_count_by_hotel"
   ]
  },
  {
   "cell_type": "code",
   "execution_count": 47,
   "metadata": {},
   "outputs": [
    {
     "data": {
      "text/plain": [
       "Int64Index([ 87617, 111501,  93618, 611947,  93507, 249712,  93450,  81295,\n",
       "             81461, 100570,\n",
       "            ...\n",
       "            729371,  80733,  91484,  81625,  81511, 109201, 223669, 278567,\n",
       "            247154,  73905],\n",
       "           dtype='int64', name='offering_id', length=1775)"
      ]
     },
     "execution_count": 47,
     "metadata": {},
     "output_type": "execute_result"
    }
   ],
   "source": [
    "hotel_more_reviews = reviews_count_by_hotel[reviews_count_by_hotel>5]\n",
    "hotel_more_reviews.index"
   ]
  },
  {
   "cell_type": "code",
   "execution_count": 48,
   "metadata": {},
   "outputs": [
    {
     "data": {
      "text/plain": [
       "35        True\n",
       "39        True\n",
       "63        True\n",
       "119       True\n",
       "120       True\n",
       "          ... \n",
       "801149    True\n",
       "801153    True\n",
       "801161    True\n",
       "801165    True\n",
       "801167    True\n",
       "Name: offering_id, Length: 60976, dtype: bool"
      ]
     },
     "execution_count": 48,
     "metadata": {},
     "output_type": "execute_result"
    }
   ],
   "source": [
    "df_surprise.offering_id.isin(hotel_more_reviews.index)"
   ]
  },
  {
   "cell_type": "code",
   "execution_count": 49,
   "metadata": {},
   "outputs": [
    {
     "data": {
      "text/html": [
       "<div>\n",
       "<style scoped>\n",
       "    .dataframe tbody tr th:only-of-type {\n",
       "        vertical-align: middle;\n",
       "    }\n",
       "\n",
       "    .dataframe tbody tr th {\n",
       "        vertical-align: top;\n",
       "    }\n",
       "\n",
       "    .dataframe thead th {\n",
       "        text-align: right;\n",
       "    }\n",
       "</style>\n",
       "<table border=\"1\" class=\"dataframe\">\n",
       "  <thead>\n",
       "    <tr style=\"text-align: right;\">\n",
       "      <th></th>\n",
       "      <th>id</th>\n",
       "      <th>offering_id</th>\n",
       "      <th>overall</th>\n",
       "    </tr>\n",
       "  </thead>\n",
       "  <tbody>\n",
       "    <tr>\n",
       "      <th>35</th>\n",
       "      <td>1005ABAA83773778AB2A4BAAFE443901</td>\n",
       "      <td>93338</td>\n",
       "      <td>5</td>\n",
       "    </tr>\n",
       "    <tr>\n",
       "      <th>39</th>\n",
       "      <td>FD711E1ED5A2DA3F69425CDD77A80E5A</td>\n",
       "      <td>93338</td>\n",
       "      <td>5</td>\n",
       "    </tr>\n",
       "    <tr>\n",
       "      <th>63</th>\n",
       "      <td>A12D74E5CFC1564773D7C48B490DBE54</td>\n",
       "      <td>93338</td>\n",
       "      <td>5</td>\n",
       "    </tr>\n",
       "    <tr>\n",
       "      <th>119</th>\n",
       "      <td>3D693454C428B1D6E5458ACC210F9695</td>\n",
       "      <td>93338</td>\n",
       "      <td>5</td>\n",
       "    </tr>\n",
       "    <tr>\n",
       "      <th>120</th>\n",
       "      <td>771E3C17495EE9D080AF87EB2504161F</td>\n",
       "      <td>93338</td>\n",
       "      <td>4</td>\n",
       "    </tr>\n",
       "    <tr>\n",
       "      <th>...</th>\n",
       "      <td>...</td>\n",
       "      <td>...</td>\n",
       "      <td>...</td>\n",
       "    </tr>\n",
       "    <tr>\n",
       "      <th>801149</th>\n",
       "      <td>0FEEEDDB251FEF3713076F4CBFB08CF7</td>\n",
       "      <td>84117</td>\n",
       "      <td>5</td>\n",
       "    </tr>\n",
       "    <tr>\n",
       "      <th>801153</th>\n",
       "      <td>1437F74083AF6DEE8DAAC603F436EDA0</td>\n",
       "      <td>84117</td>\n",
       "      <td>5</td>\n",
       "    </tr>\n",
       "    <tr>\n",
       "      <th>801161</th>\n",
       "      <td>657EB42F3264EA15A287F416268A8A68</td>\n",
       "      <td>84117</td>\n",
       "      <td>5</td>\n",
       "    </tr>\n",
       "    <tr>\n",
       "      <th>801165</th>\n",
       "      <td>40923C2E4B6283C7450E045801624447</td>\n",
       "      <td>84117</td>\n",
       "      <td>4</td>\n",
       "    </tr>\n",
       "    <tr>\n",
       "      <th>801167</th>\n",
       "      <td>D95A1EBEB53A8B715B65771DDEEA16E8</td>\n",
       "      <td>84117</td>\n",
       "      <td>5</td>\n",
       "    </tr>\n",
       "  </tbody>\n",
       "</table>\n",
       "<p>57889 rows × 3 columns</p>\n",
       "</div>"
      ],
      "text/plain": [
       "                                      id  offering_id  overall\n",
       "35      1005ABAA83773778AB2A4BAAFE443901        93338        5\n",
       "39      FD711E1ED5A2DA3F69425CDD77A80E5A        93338        5\n",
       "63      A12D74E5CFC1564773D7C48B490DBE54        93338        5\n",
       "119     3D693454C428B1D6E5458ACC210F9695        93338        5\n",
       "120     771E3C17495EE9D080AF87EB2504161F        93338        4\n",
       "...                                  ...          ...      ...\n",
       "801149  0FEEEDDB251FEF3713076F4CBFB08CF7        84117        5\n",
       "801153  1437F74083AF6DEE8DAAC603F436EDA0        84117        5\n",
       "801161  657EB42F3264EA15A287F416268A8A68        84117        5\n",
       "801165  40923C2E4B6283C7450E045801624447        84117        4\n",
       "801167  D95A1EBEB53A8B715B65771DDEEA16E8        84117        5\n",
       "\n",
       "[57889 rows x 3 columns]"
      ]
     },
     "execution_count": 49,
     "metadata": {},
     "output_type": "execute_result"
    }
   ],
   "source": [
    "df_surprise = df_surprise[df_surprise.offering_id.isin(hotel_more_reviews.index)]\n",
    "df_surprise"
   ]
  },
  {
   "cell_type": "markdown",
   "metadata": {},
   "source": [
    "# For surprise only review that has more than 5 review for each hotel and more than 5 review from each user?"
   ]
  },
  {
   "cell_type": "code",
   "execution_count": 13,
   "metadata": {},
   "outputs": [],
   "source": [
    "#df_surprise.to_csv('df_surprise_all.csv', index=False, header=False)"
   ]
  },
  {
   "cell_type": "code",
   "execution_count": 50,
   "metadata": {},
   "outputs": [],
   "source": [
    "df_surprise.to_csv('df_surprise.csv', index=False, header=False)"
   ]
  },
  {
   "cell_type": "code",
   "execution_count": 51,
   "metadata": {},
   "outputs": [],
   "source": [
    "file_path = 'df_surprise.csv'"
   ]
  },
  {
   "cell_type": "code",
   "execution_count": 52,
   "metadata": {},
   "outputs": [],
   "source": [
    "#file_path = os.path.expanduser('df_surprise.csv')"
   ]
  },
  {
   "cell_type": "code",
   "execution_count": 53,
   "metadata": {},
   "outputs": [],
   "source": [
    "# As we're loading a custom dataset, we need to define a reader. In the\n",
    "# movielens-100k dataset, each line has the following format:\n",
    "# 'user item rating timestamp', separated by '\\t' characters.\n",
    "reader = Reader(line_format='user item rating', sep=',')"
   ]
  },
  {
   "cell_type": "code",
   "execution_count": 54,
   "metadata": {},
   "outputs": [],
   "source": [
    "data = Dataset.load_from_file(file_path, reader=reader)"
   ]
  },
  {
   "cell_type": "code",
   "execution_count": 55,
   "metadata": {},
   "outputs": [
    {
     "name": "stdout",
     "output_type": "stream",
     "text": [
      "Estimating biases using als...\n",
      "Estimating biases using als...\n",
      "Estimating biases using als...\n",
      "Estimating biases using als...\n",
      "Estimating biases using als...\n",
      "Evaluating RMSE, MAE of algorithm BaselineOnly on 5 split(s).\n",
      "\n",
      "                  Fold 1  Fold 2  Fold 3  Fold 4  Fold 5  Mean    Std     \n",
      "RMSE (testset)    0.8917  0.8717  0.8867  0.8793  0.8842  0.8827  0.0068  \n",
      "MAE (testset)     0.6929  0.6757  0.6833  0.6824  0.6873  0.6843  0.0057  \n",
      "Fit time          0.25    0.49    0.37    0.27    0.26    0.33    0.09    \n",
      "Test time         0.12    0.12    0.20    0.11    0.13    0.14    0.04    \n"
     ]
    },
    {
     "data": {
      "text/plain": [
       "{'test_rmse': array([0.89166806, 0.87167649, 0.88670759, 0.87930057, 0.88419753]),\n",
       " 'test_mae': array([0.69294484, 0.67568599, 0.68327726, 0.68236237, 0.68732892]),\n",
       " 'fit_time': (0.25406384468078613,\n",
       "  0.48786091804504395,\n",
       "  0.3713071346282959,\n",
       "  0.26659703254699707,\n",
       "  0.2614412307739258),\n",
       " 'test_time': (0.11557316780090332,\n",
       "  0.11806797981262207,\n",
       "  0.20440292358398438,\n",
       "  0.10858607292175293,\n",
       "  0.1284470558166504)}"
      ]
     },
     "execution_count": 55,
     "metadata": {},
     "output_type": "execute_result"
    }
   ],
   "source": [
    "# We can now use this dataset as we please, e.g. calling cross_validate\n",
    "cross_validate(BaselineOnly(), data, verbose=True)"
   ]
  },
  {
   "cell_type": "code",
   "execution_count": null,
   "metadata": {},
   "outputs": [],
   "source": []
  },
  {
   "cell_type": "code",
   "execution_count": 20,
   "metadata": {},
   "outputs": [
    {
     "name": "stdout",
     "output_type": "stream",
     "text": [
      "Evaluating RMSE, MAE of algorithm SVD on 5 split(s).\n",
      "\n",
      "                  Fold 1  Fold 2  Fold 3  Fold 4  Fold 5  Mean    Std     \n",
      "RMSE (testset)    0.9518  0.9471  0.9539  0.9452  0.9522  0.9501  0.0033  \n",
      "MAE (testset)     0.7368  0.7353  0.7383  0.7324  0.7365  0.7358  0.0020  \n",
      "Fit time          47.53   47.42   47.55   47.10   20.45   42.01   10.78   \n",
      "Test time         1.32    1.38    1.42    1.38    0.70    1.24    0.27    \n"
     ]
    },
    {
     "data": {
      "text/plain": [
       "{'test_rmse': array([0.95180342, 0.94713722, 0.95392451, 0.94522223, 0.95223164]),\n",
       " 'test_mae': array([0.73675807, 0.73528222, 0.73828133, 0.73238672, 0.73652023]),\n",
       " 'fit_time': (47.53168606758118,\n",
       "  47.4227991104126,\n",
       "  47.55194711685181,\n",
       "  47.09607672691345,\n",
       "  20.445478916168213),\n",
       " 'test_time': (1.3196218013763428,\n",
       "  1.377467155456543,\n",
       "  1.4233999252319336,\n",
       "  1.3836021423339844,\n",
       "  0.7045061588287354)}"
      ]
     },
     "execution_count": 20,
     "metadata": {},
     "output_type": "execute_result"
    }
   ],
   "source": [
    "# We'll use the famous SVD algorithm.\n",
    "algo = SVD(verbose=True)\n",
    "\n",
    "# you can also build KNNBasic and other types of models\n",
    "\n",
    "# Run 5-fold cross-validation and print results\n",
    "cross_validate(algo, data, measures=['RMSE', 'MAE'], cv=5, n_jobs=-1, verbose=True)\n",
    "\n",
    "# ml-100k dataset: this takes around .5 minute\n",
    "# jester dataset: this takes around 10 minutes"
   ]
  },
  {
   "cell_type": "code",
   "execution_count": 21,
   "metadata": {},
   "outputs": [
    {
     "name": "stdout",
     "output_type": "stream",
     "text": [
      "Processing epoch 0\n",
      "Processing epoch 1\n",
      "Processing epoch 2\n",
      "Processing epoch 3\n",
      "Processing epoch 4\n",
      "Processing epoch 5\n",
      "Processing epoch 6\n",
      "Processing epoch 7\n",
      "Processing epoch 8\n",
      "Processing epoch 9\n",
      "Processing epoch 10\n",
      "Processing epoch 11\n",
      "Processing epoch 12\n",
      "Processing epoch 13\n",
      "Processing epoch 14\n",
      "Processing epoch 15\n",
      "Processing epoch 16\n",
      "Processing epoch 17\n",
      "Processing epoch 18\n",
      "Processing epoch 19\n"
     ]
    }
   ],
   "source": [
    "# let's do train-test-split, where test set is 25% of the ratings\n",
    "trainset, testset = train_test_split(data, test_size=.25)\n",
    "\n",
    "# Train the algorithm on the trainset, and predict ratings for the testset\n",
    "algo.fit(trainset)\n",
    "predictions = algo.test(testset)\n",
    "\n",
    "# you can also use this one-liner: `predictions = algo.fit(trainset).test(testset)`"
   ]
  },
  {
   "cell_type": "code",
   "execution_count": 22,
   "metadata": {},
   "outputs": [
    {
     "name": "stdout",
     "output_type": "stream",
     "text": [
      "RMSE: 0.9540\n"
     ]
    },
    {
     "data": {
      "text/plain": [
       "0.9539688845105767"
      ]
     },
     "execution_count": 22,
     "metadata": {},
     "output_type": "execute_result"
    }
   ],
   "source": [
    "# compute RMSE\n",
    "accuracy.rmse(predictions)"
   ]
  },
  {
   "cell_type": "code",
   "execution_count": 23,
   "metadata": {},
   "outputs": [
    {
     "name": "stdout",
     "output_type": "stream",
     "text": [
      "user: 8C0B42FF3C0FA366A21CFD785302A032 item: 84117      r_ui = None   est = 4.90   {'was_impossible': False}\n"
     ]
    }
   ],
   "source": [
    "# get a prediction for specific users and items.\n",
    "uid = '8C0B42FF3C0FA366A21CFD785302A032'\n",
    "iid = '84117'\n",
    "\n",
    "pred = algo.predict(uid, iid, verbose=True)"
   ]
  },
  {
   "cell_type": "code",
   "execution_count": 24,
   "metadata": {},
   "outputs": [
    {
     "data": {
      "text/html": [
       "<div>\n",
       "<style scoped>\n",
       "    .dataframe tbody tr th:only-of-type {\n",
       "        vertical-align: middle;\n",
       "    }\n",
       "\n",
       "    .dataframe tbody tr th {\n",
       "        vertical-align: top;\n",
       "    }\n",
       "\n",
       "    .dataframe thead th {\n",
       "        text-align: right;\n",
       "    }\n",
       "</style>\n",
       "<table border=\"1\" class=\"dataframe\">\n",
       "  <thead>\n",
       "    <tr style=\"text-align: right;\">\n",
       "      <th></th>\n",
       "      <th>id</th>\n",
       "      <th>offering_id</th>\n",
       "      <th>overall</th>\n",
       "    </tr>\n",
       "  </thead>\n",
       "  <tbody>\n",
       "    <tr>\n",
       "      <th>0</th>\n",
       "      <td>8C0B42FF3C0FA366A21CFD785302A032</td>\n",
       "      <td>93338</td>\n",
       "      <td>5</td>\n",
       "    </tr>\n",
       "    <tr>\n",
       "      <th>210114</th>\n",
       "      <td>8C0B42FF3C0FA366A21CFD785302A032</td>\n",
       "      <td>223024</td>\n",
       "      <td>5</td>\n",
       "    </tr>\n",
       "    <tr>\n",
       "      <th>285914</th>\n",
       "      <td>8C0B42FF3C0FA366A21CFD785302A032</td>\n",
       "      <td>111486</td>\n",
       "      <td>5</td>\n",
       "    </tr>\n",
       "  </tbody>\n",
       "</table>\n",
       "</div>"
      ],
      "text/plain": [
       "                                      id  offering_id  overall\n",
       "0       8C0B42FF3C0FA366A21CFD785302A032        93338        5\n",
       "210114  8C0B42FF3C0FA366A21CFD785302A032       223024        5\n",
       "285914  8C0B42FF3C0FA366A21CFD785302A032       111486        5"
      ]
     },
     "execution_count": 24,
     "metadata": {},
     "output_type": "execute_result"
    }
   ],
   "source": [
    "df_surprise[df_surprise.id=='8C0B42FF3C0FA366A21CFD785302A032']"
   ]
  },
  {
   "cell_type": "code",
   "execution_count": 25,
   "metadata": {},
   "outputs": [
    {
     "data": {
      "text/plain": [
       "611947     1360\n",
       "93618      1320\n",
       "93507      1273\n",
       "111501     1234\n",
       "87617      1221\n",
       "           ... \n",
       "1199530       2\n",
       "88429         2\n",
       "239891        2\n",
       "656584        2\n",
       "105191        2\n",
       "Name: offering_id, Length: 3455, dtype: int64"
      ]
     },
     "execution_count": 25,
     "metadata": {},
     "output_type": "execute_result"
    }
   ],
   "source": [
    "df_surprise.offering_id.value_counts()"
   ]
  },
  {
   "cell_type": "code",
   "execution_count": 26,
   "metadata": {},
   "outputs": [
    {
     "data": {
      "text/html": [
       "<div>\n",
       "<style scoped>\n",
       "    .dataframe tbody tr th:only-of-type {\n",
       "        vertical-align: middle;\n",
       "    }\n",
       "\n",
       "    .dataframe tbody tr th {\n",
       "        vertical-align: top;\n",
       "    }\n",
       "\n",
       "    .dataframe thead th {\n",
       "        text-align: right;\n",
       "    }\n",
       "</style>\n",
       "<table border=\"1\" class=\"dataframe\">\n",
       "  <thead>\n",
       "    <tr style=\"text-align: right;\">\n",
       "      <th></th>\n",
       "      <th>id</th>\n",
       "      <th>offering_id</th>\n",
       "      <th>overall</th>\n",
       "    </tr>\n",
       "  </thead>\n",
       "  <tbody>\n",
       "  </tbody>\n",
       "</table>\n",
       "</div>"
      ],
      "text/plain": [
       "Empty DataFrame\n",
       "Columns: [id, offering_id, overall]\n",
       "Index: []"
      ]
     },
     "execution_count": 26,
     "metadata": {},
     "output_type": "execute_result"
    }
   ],
   "source": [
    "df_surprise[df_surprise.offering_id==3337599]"
   ]
  },
  {
   "cell_type": "code",
   "execution_count": 27,
   "metadata": {},
   "outputs": [
    {
     "data": {
      "text/html": [
       "<div>\n",
       "<style scoped>\n",
       "    .dataframe tbody tr th:only-of-type {\n",
       "        vertical-align: middle;\n",
       "    }\n",
       "\n",
       "    .dataframe tbody tr th {\n",
       "        vertical-align: top;\n",
       "    }\n",
       "\n",
       "    .dataframe thead th {\n",
       "        text-align: right;\n",
       "    }\n",
       "</style>\n",
       "<table border=\"1\" class=\"dataframe\">\n",
       "  <thead>\n",
       "    <tr style=\"text-align: right;\">\n",
       "      <th></th>\n",
       "      <th>id</th>\n",
       "      <th>offering_id</th>\n",
       "      <th>overall</th>\n",
       "    </tr>\n",
       "  </thead>\n",
       "  <tbody>\n",
       "  </tbody>\n",
       "</table>\n",
       "</div>"
      ],
      "text/plain": [
       "Empty DataFrame\n",
       "Columns: [id, offering_id, overall]\n",
       "Index: []"
      ]
     },
     "execution_count": 27,
     "metadata": {},
     "output_type": "execute_result"
    }
   ],
   "source": [
    "df_surprise[df_surprise.id=='3FE29CCADCF6AB444B131848DE3E7759']"
   ]
  },
  {
   "cell_type": "code",
   "execution_count": 28,
   "metadata": {},
   "outputs": [
    {
     "name": "stdout",
     "output_type": "stream",
     "text": [
      "user: 8C0B42FF3C0FA366A21CFD785302A032 item: 3337599    r_ui = None   est = 4.07   {'was_impossible': False}\n"
     ]
    }
   ],
   "source": [
    "# get a prediction for specific users and items.\n",
    "uid = '8C0B42FF3C0FA366A21CFD785302A032'\n",
    "iid = 3337599\n",
    "\n",
    "pred = algo.predict(uid, iid, verbose=True)"
   ]
  },
  {
   "cell_type": "code",
   "execution_count": 29,
   "metadata": {},
   "outputs": [
    {
     "name": "stdout",
     "output_type": "stream",
     "text": [
      "user: 22         item: 22         r_ui = None   est = 3.95   {'was_impossible': False}\n"
     ]
    }
   ],
   "source": [
    "uid = '22'\n",
    "iid = 22\n",
    "\n",
    "pred = algo.predict(uid, iid, verbose=True)"
   ]
  },
  {
   "cell_type": "markdown",
   "metadata": {},
   "source": [
    "### WHY imposibble FALSE??? If new user and new hotel?"
   ]
  },
  {
   "cell_type": "code",
   "execution_count": null,
   "metadata": {},
   "outputs": [],
   "source": []
  },
  {
   "cell_type": "code",
   "execution_count": 30,
   "metadata": {},
   "outputs": [],
   "source": [
    "from collections import defaultdict\n",
    "\n",
    "from surprise import SVD\n",
    "from surprise import Dataset"
   ]
  },
  {
   "cell_type": "code",
   "execution_count": 56,
   "metadata": {},
   "outputs": [
    {
     "data": {
      "text/plain": [
       "<surprise.prediction_algorithms.matrix_factorization.SVD at 0x7fe059c7d9a0>"
      ]
     },
     "execution_count": 56,
     "metadata": {},
     "output_type": "execute_result"
    }
   ],
   "source": [
    "# First train an SVD algorithm on the movielens dataset.\n",
    "trainset = data.build_full_trainset()\n",
    "algo = SVD()\n",
    "algo.fit(trainset)"
   ]
  },
  {
   "cell_type": "code",
   "execution_count": null,
   "metadata": {},
   "outputs": [],
   "source": [
    "# Than predict ratings for all pairs (u, i) that are NOT in the training set.\n",
    "testset = trainset.build_anti_testset()\n",
    "predictions = algo.test(testset)"
   ]
  },
  {
   "cell_type": "code",
   "execution_count": null,
   "metadata": {},
   "outputs": [],
   "source": []
  },
  {
   "cell_type": "code",
   "execution_count": null,
   "metadata": {},
   "outputs": [],
   "source": [
    "def get_top_n(predictions, n=10):\n",
    "    \"\"\"Return the top-N recommendation for each user from a set of predictions.\n",
    "\n",
    "    Args:\n",
    "        predictions(list of Prediction objects): The list of predictions, as\n",
    "            returned by the test method of an algorithm.\n",
    "        n(int): The number of recommendation to output for each user. Default\n",
    "            is 10.\n",
    "\n",
    "    Returns:\n",
    "    A dict where keys are user (raw) ids and values are lists of tuples:\n",
    "        [(raw item id, rating estimation), ...] of size n.\n",
    "    \"\"\"\n",
    "\n",
    "    # First map the predictions to each user.\n",
    "    top_n = defaultdict(list)\n",
    "    for uid, iid, true_r, est, _ in predictions:\n",
    "        top_n[uid].append((iid, est))\n",
    "\n",
    "    # Then sort the predictions for each user and retrieve the k highest ones.\n",
    "    for uid, user_ratings in top_n.items():\n",
    "        user_ratings.sort(key=lambda x: x[1], reverse=True)\n",
    "        top_n[uid] = user_ratings[:n]\n",
    "\n",
    "    return top_n"
   ]
  },
  {
   "cell_type": "code",
   "execution_count": null,
   "metadata": {},
   "outputs": [],
   "source": [
    "top_n = get_top_n(predictions, n=10)"
   ]
  },
  {
   "cell_type": "code",
   "execution_count": 38,
   "metadata": {
    "scrolled": false
   },
   "outputs": [
    {
     "ename": "NameError",
     "evalue": "name 'top_n' is not defined",
     "output_type": "error",
     "traceback": [
      "\u001b[0;31m---------------------------------------------------------------------------\u001b[0m",
      "\u001b[0;31mNameError\u001b[0m                                 Traceback (most recent call last)",
      "\u001b[0;32m<ipython-input-38-a216a8b0afe0>\u001b[0m in \u001b[0;36m<module>\u001b[0;34m\u001b[0m\n\u001b[1;32m      1\u001b[0m \u001b[0;31m# Print the recommended items for each user\u001b[0m\u001b[0;34m\u001b[0m\u001b[0;34m\u001b[0m\u001b[0;34m\u001b[0m\u001b[0m\n\u001b[0;32m----> 2\u001b[0;31m \u001b[0;32mfor\u001b[0m \u001b[0muid\u001b[0m\u001b[0;34m,\u001b[0m \u001b[0muser_ratings\u001b[0m \u001b[0;32min\u001b[0m \u001b[0mtop_n\u001b[0m\u001b[0;34m.\u001b[0m\u001b[0mitems\u001b[0m\u001b[0;34m(\u001b[0m\u001b[0;34m)\u001b[0m\u001b[0;34m:\u001b[0m\u001b[0;34m\u001b[0m\u001b[0;34m\u001b[0m\u001b[0m\n\u001b[0m\u001b[1;32m      3\u001b[0m     \u001b[0mprint\u001b[0m\u001b[0;34m(\u001b[0m\u001b[0muid\u001b[0m\u001b[0;34m,\u001b[0m \u001b[0;34m[\u001b[0m\u001b[0miid\u001b[0m \u001b[0;32mfor\u001b[0m \u001b[0;34m(\u001b[0m\u001b[0miid\u001b[0m\u001b[0;34m,\u001b[0m \u001b[0m_\u001b[0m\u001b[0;34m)\u001b[0m \u001b[0;32min\u001b[0m \u001b[0muser_ratings\u001b[0m\u001b[0;34m]\u001b[0m\u001b[0;34m)\u001b[0m\u001b[0;34m\u001b[0m\u001b[0;34m\u001b[0m\u001b[0m\n",
      "\u001b[0;31mNameError\u001b[0m: name 'top_n' is not defined"
     ]
    }
   ],
   "source": [
    "# Print the recommended items for each user\n",
    "for uid, user_ratings in top_n.items():\n",
    "    print(uid, [iid for (iid, _) in user_ratings])"
   ]
  },
  {
   "cell_type": "code",
   "execution_count": 37,
   "metadata": {},
   "outputs": [
    {
     "ename": "NameError",
     "evalue": "name 'top_n' is not defined",
     "output_type": "error",
     "traceback": [
      "\u001b[0;31m---------------------------------------------------------------------------\u001b[0m",
      "\u001b[0;31mNameError\u001b[0m                                 Traceback (most recent call last)",
      "\u001b[0;32m<ipython-input-37-6152879db680>\u001b[0m in \u001b[0;36m<module>\u001b[0;34m\u001b[0m\n\u001b[0;32m----> 1\u001b[0;31m \u001b[0mtop_n\u001b[0m\u001b[0;34m\u001b[0m\u001b[0;34m\u001b[0m\u001b[0m\n\u001b[0m",
      "\u001b[0;31mNameError\u001b[0m: name 'top_n' is not defined"
     ]
    }
   ],
   "source": [
    "top_n"
   ]
  },
  {
   "cell_type": "code",
   "execution_count": 34,
   "metadata": {},
   "outputs": [
    {
     "data": {
      "text/html": [
       "<div>\n",
       "<style scoped>\n",
       "    .dataframe tbody tr th:only-of-type {\n",
       "        vertical-align: middle;\n",
       "    }\n",
       "\n",
       "    .dataframe tbody tr th {\n",
       "        vertical-align: top;\n",
       "    }\n",
       "\n",
       "    .dataframe thead th {\n",
       "        text-align: right;\n",
       "    }\n",
       "</style>\n",
       "<table border=\"1\" class=\"dataframe\">\n",
       "  <thead>\n",
       "    <tr style=\"text-align: right;\">\n",
       "      <th></th>\n",
       "      <th>title</th>\n",
       "      <th>text</th>\n",
       "      <th>date_stayed</th>\n",
       "      <th>offering_id</th>\n",
       "      <th>num_helpful_votes</th>\n",
       "      <th>date</th>\n",
       "      <th>id</th>\n",
       "      <th>via_mobile</th>\n",
       "      <th>service</th>\n",
       "      <th>cleanliness</th>\n",
       "      <th>...</th>\n",
       "      <th>region_id</th>\n",
       "      <th>url</th>\n",
       "      <th>phone</th>\n",
       "      <th>details</th>\n",
       "      <th>type</th>\n",
       "      <th>name</th>\n",
       "      <th>region</th>\n",
       "      <th>street-address</th>\n",
       "      <th>postal-code</th>\n",
       "      <th>locality</th>\n",
       "    </tr>\n",
       "  </thead>\n",
       "  <tbody>\n",
       "    <tr>\n",
       "      <th>0</th>\n",
       "      <td>“Truly is \"Jewel of the Upper Wets Side\"”</td>\n",
       "      <td>Stayed in a king suite for 11 nights and yes i...</td>\n",
       "      <td>December 2012</td>\n",
       "      <td>93338</td>\n",
       "      <td>12.0</td>\n",
       "      <td>2012-12-17</td>\n",
       "      <td>8C0B42FF3C0FA366A21CFD785302A032</td>\n",
       "      <td>False</td>\n",
       "      <td>5.0</td>\n",
       "      <td>5.0</td>\n",
       "      <td>...</td>\n",
       "      <td>60763</td>\n",
       "      <td>http://www.tripadvisor.com/Hotel_Review-g60763...</td>\n",
       "      <td>NaN</td>\n",
       "      <td>NaN</td>\n",
       "      <td>hotel</td>\n",
       "      <td>Hotel Beacon</td>\n",
       "      <td>NY</td>\n",
       "      <td>2130 Broadway at 75th Street</td>\n",
       "      <td>10023</td>\n",
       "      <td>New York City</td>\n",
       "    </tr>\n",
       "    <tr>\n",
       "      <th>1</th>\n",
       "      <td>“My home away from home!”</td>\n",
       "      <td>On every visit to NYC, the Hotel Beacon is the...</td>\n",
       "      <td>December 2012</td>\n",
       "      <td>93338</td>\n",
       "      <td>NaN</td>\n",
       "      <td>2012-12-17</td>\n",
       "      <td>E3C85CA9DBBBC77E0DB534ABE93E4713</td>\n",
       "      <td>False</td>\n",
       "      <td>5.0</td>\n",
       "      <td>5.0</td>\n",
       "      <td>...</td>\n",
       "      <td>60763</td>\n",
       "      <td>http://www.tripadvisor.com/Hotel_Review-g60763...</td>\n",
       "      <td>NaN</td>\n",
       "      <td>NaN</td>\n",
       "      <td>hotel</td>\n",
       "      <td>Hotel Beacon</td>\n",
       "      <td>NY</td>\n",
       "      <td>2130 Broadway at 75th Street</td>\n",
       "      <td>10023</td>\n",
       "      <td>New York City</td>\n",
       "    </tr>\n",
       "    <tr>\n",
       "      <th>2</th>\n",
       "      <td>“Excellent location”</td>\n",
       "      <td>Loved the hotel. Great location - only 2 block...</td>\n",
       "      <td>December 2012</td>\n",
       "      <td>93338</td>\n",
       "      <td>1.0</td>\n",
       "      <td>2012-12-17</td>\n",
       "      <td>035080D10D186778123E6A58C11E0608</td>\n",
       "      <td>False</td>\n",
       "      <td>5.0</td>\n",
       "      <td>5.0</td>\n",
       "      <td>...</td>\n",
       "      <td>60763</td>\n",
       "      <td>http://www.tripadvisor.com/Hotel_Review-g60763...</td>\n",
       "      <td>NaN</td>\n",
       "      <td>NaN</td>\n",
       "      <td>hotel</td>\n",
       "      <td>Hotel Beacon</td>\n",
       "      <td>NY</td>\n",
       "      <td>2130 Broadway at 75th Street</td>\n",
       "      <td>10023</td>\n",
       "      <td>New York City</td>\n",
       "    </tr>\n",
       "    <tr>\n",
       "      <th>3</th>\n",
       "      <td>“All-round fantastic NYC hotel”</td>\n",
       "      <td>Our first stay on the upper west side and can'...</td>\n",
       "      <td>December 2012</td>\n",
       "      <td>93338</td>\n",
       "      <td>NaN</td>\n",
       "      <td>2012-12-17</td>\n",
       "      <td>412A714D6BF1607A01CC828645DD70AE</td>\n",
       "      <td>False</td>\n",
       "      <td>5.0</td>\n",
       "      <td>5.0</td>\n",
       "      <td>...</td>\n",
       "      <td>60763</td>\n",
       "      <td>http://www.tripadvisor.com/Hotel_Review-g60763...</td>\n",
       "      <td>NaN</td>\n",
       "      <td>NaN</td>\n",
       "      <td>hotel</td>\n",
       "      <td>Hotel Beacon</td>\n",
       "      <td>NY</td>\n",
       "      <td>2130 Broadway at 75th Street</td>\n",
       "      <td>10023</td>\n",
       "      <td>New York City</td>\n",
       "    </tr>\n",
       "    <tr>\n",
       "      <th>4</th>\n",
       "      <td>“Great hotel in nice area”</td>\n",
       "      <td>Great room, very big with huge bed! Great loca...</td>\n",
       "      <td>December 2012</td>\n",
       "      <td>93338</td>\n",
       "      <td>3.0</td>\n",
       "      <td>2012-12-17</td>\n",
       "      <td>72B051F423790BE5F0EF6A9FD23EB77E</td>\n",
       "      <td>False</td>\n",
       "      <td>5.0</td>\n",
       "      <td>5.0</td>\n",
       "      <td>...</td>\n",
       "      <td>60763</td>\n",
       "      <td>http://www.tripadvisor.com/Hotel_Review-g60763...</td>\n",
       "      <td>NaN</td>\n",
       "      <td>NaN</td>\n",
       "      <td>hotel</td>\n",
       "      <td>Hotel Beacon</td>\n",
       "      <td>NY</td>\n",
       "      <td>2130 Broadway at 75th Street</td>\n",
       "      <td>10023</td>\n",
       "      <td>New York City</td>\n",
       "    </tr>\n",
       "    <tr>\n",
       "      <th>...</th>\n",
       "      <td>...</td>\n",
       "      <td>...</td>\n",
       "      <td>...</td>\n",
       "      <td>...</td>\n",
       "      <td>...</td>\n",
       "      <td>...</td>\n",
       "      <td>...</td>\n",
       "      <td>...</td>\n",
       "      <td>...</td>\n",
       "      <td>...</td>\n",
       "      <td>...</td>\n",
       "      <td>...</td>\n",
       "      <td>...</td>\n",
       "      <td>...</td>\n",
       "      <td>...</td>\n",
       "      <td>...</td>\n",
       "      <td>...</td>\n",
       "      <td>...</td>\n",
       "      <td>...</td>\n",
       "      <td>...</td>\n",
       "      <td>...</td>\n",
       "    </tr>\n",
       "    <tr>\n",
       "      <th>801189</th>\n",
       "      <td>“hotel mytique”</td>\n",
       "      <td>Extrêmement bien situé, en face de la maison b...</td>\n",
       "      <td>May 2009</td>\n",
       "      <td>84117</td>\n",
       "      <td>11.0</td>\n",
       "      <td>2010-03-01</td>\n",
       "      <td>090EA46E480A3E1A3D804B7DBEA9C21E</td>\n",
       "      <td>False</td>\n",
       "      <td>NaN</td>\n",
       "      <td>NaN</td>\n",
       "      <td>...</td>\n",
       "      <td>28970</td>\n",
       "      <td>http://www.tripadvisor.com/Hotel_Review-g28970...</td>\n",
       "      <td>NaN</td>\n",
       "      <td>NaN</td>\n",
       "      <td>hotel</td>\n",
       "      <td>The Hay-Adams</td>\n",
       "      <td>DC</td>\n",
       "      <td>16th &amp; H Sts. NW</td>\n",
       "      <td>20006</td>\n",
       "      <td>Washington DC</td>\n",
       "    </tr>\n",
       "    <tr>\n",
       "      <th>801190</th>\n",
       "      <td>“Die gute alte Hotelschule”</td>\n",
       "      <td>Ich war in vielen alten Leadinghotels,Hay Adam...</td>\n",
       "      <td>September 2009</td>\n",
       "      <td>84117</td>\n",
       "      <td>1.0</td>\n",
       "      <td>2009-10-03</td>\n",
       "      <td>6E1191432CA21D10DE10A75F00DD50D9</td>\n",
       "      <td>False</td>\n",
       "      <td>5.0</td>\n",
       "      <td>5.0</td>\n",
       "      <td>...</td>\n",
       "      <td>28970</td>\n",
       "      <td>http://www.tripadvisor.com/Hotel_Review-g28970...</td>\n",
       "      <td>NaN</td>\n",
       "      <td>NaN</td>\n",
       "      <td>hotel</td>\n",
       "      <td>The Hay-Adams</td>\n",
       "      <td>DC</td>\n",
       "      <td>16th &amp; H Sts. NW</td>\n",
       "      <td>20006</td>\n",
       "      <td>Washington DC</td>\n",
       "    </tr>\n",
       "    <tr>\n",
       "      <th>801191</th>\n",
       "      <td>“Le charme d'un hôtel vieillot”</td>\n",
       "      <td>5 nuits dans cet hôtel merveilleusement situé,...</td>\n",
       "      <td>February 2009</td>\n",
       "      <td>84117</td>\n",
       "      <td>3.0</td>\n",
       "      <td>2009-03-14</td>\n",
       "      <td>A6F3EB0FDFB002EB4D47554A6D0AFCB1</td>\n",
       "      <td>False</td>\n",
       "      <td>4.0</td>\n",
       "      <td>5.0</td>\n",
       "      <td>...</td>\n",
       "      <td>28970</td>\n",
       "      <td>http://www.tripadvisor.com/Hotel_Review-g28970...</td>\n",
       "      <td>NaN</td>\n",
       "      <td>NaN</td>\n",
       "      <td>hotel</td>\n",
       "      <td>The Hay-Adams</td>\n",
       "      <td>DC</td>\n",
       "      <td>16th &amp; H Sts. NW</td>\n",
       "      <td>20006</td>\n",
       "      <td>Washington DC</td>\n",
       "    </tr>\n",
       "    <tr>\n",
       "      <th>801192</th>\n",
       "      <td>“Excellent ! Le meilleur emplacement pour visi...</td>\n",
       "      <td>Un merveilleux boutique hôtel au décor dans le...</td>\n",
       "      <td>August 2008</td>\n",
       "      <td>84117</td>\n",
       "      <td>11.0</td>\n",
       "      <td>2008-09-10</td>\n",
       "      <td>53E01D7C826C4091AAC83A38B6E88B06</td>\n",
       "      <td>False</td>\n",
       "      <td>5.0</td>\n",
       "      <td>5.0</td>\n",
       "      <td>...</td>\n",
       "      <td>28970</td>\n",
       "      <td>http://www.tripadvisor.com/Hotel_Review-g28970...</td>\n",
       "      <td>NaN</td>\n",
       "      <td>NaN</td>\n",
       "      <td>hotel</td>\n",
       "      <td>The Hay-Adams</td>\n",
       "      <td>DC</td>\n",
       "      <td>16th &amp; H Sts. NW</td>\n",
       "      <td>20006</td>\n",
       "      <td>Washington DC</td>\n",
       "    </tr>\n",
       "    <tr>\n",
       "      <th>801193</th>\n",
       "      <td>“A deux pas de la Maison blanche”</td>\n",
       "      <td>nous avons passé un séjour extrêmement plaisan...</td>\n",
       "      <td>August 2008</td>\n",
       "      <td>84117</td>\n",
       "      <td>19.0</td>\n",
       "      <td>2008-08-28</td>\n",
       "      <td>796D7577BC0755E22B5F4F04E58A3ACB</td>\n",
       "      <td>False</td>\n",
       "      <td>5.0</td>\n",
       "      <td>5.0</td>\n",
       "      <td>...</td>\n",
       "      <td>28970</td>\n",
       "      <td>http://www.tripadvisor.com/Hotel_Review-g28970...</td>\n",
       "      <td>NaN</td>\n",
       "      <td>NaN</td>\n",
       "      <td>hotel</td>\n",
       "      <td>The Hay-Adams</td>\n",
       "      <td>DC</td>\n",
       "      <td>16th &amp; H Sts. NW</td>\n",
       "      <td>20006</td>\n",
       "      <td>Washington DC</td>\n",
       "    </tr>\n",
       "  </tbody>\n",
       "</table>\n",
       "<p>801194 rows × 32 columns</p>\n",
       "</div>"
      ],
      "text/plain": [
       "                                                    title  \\\n",
       "0               “Truly is \"Jewel of the Upper Wets Side\"”   \n",
       "1                               “My home away from home!”   \n",
       "2                                    “Excellent location”   \n",
       "3                         “All-round fantastic NYC hotel”   \n",
       "4                              “Great hotel in nice area”   \n",
       "...                                                   ...   \n",
       "801189                                    “hotel mytique”   \n",
       "801190                        “Die gute alte Hotelschule”   \n",
       "801191                    “Le charme d'un hôtel vieillot”   \n",
       "801192  “Excellent ! Le meilleur emplacement pour visi...   \n",
       "801193                  “A deux pas de la Maison blanche”   \n",
       "\n",
       "                                                     text     date_stayed  \\\n",
       "0       Stayed in a king suite for 11 nights and yes i...   December 2012   \n",
       "1       On every visit to NYC, the Hotel Beacon is the...   December 2012   \n",
       "2       Loved the hotel. Great location - only 2 block...   December 2012   \n",
       "3       Our first stay on the upper west side and can'...   December 2012   \n",
       "4       Great room, very big with huge bed! Great loca...   December 2012   \n",
       "...                                                   ...             ...   \n",
       "801189  Extrêmement bien situé, en face de la maison b...        May 2009   \n",
       "801190  Ich war in vielen alten Leadinghotels,Hay Adam...  September 2009   \n",
       "801191  5 nuits dans cet hôtel merveilleusement situé,...   February 2009   \n",
       "801192  Un merveilleux boutique hôtel au décor dans le...     August 2008   \n",
       "801193  nous avons passé un séjour extrêmement plaisan...     August 2008   \n",
       "\n",
       "        offering_id  num_helpful_votes        date  \\\n",
       "0             93338               12.0  2012-12-17   \n",
       "1             93338                NaN  2012-12-17   \n",
       "2             93338                1.0  2012-12-17   \n",
       "3             93338                NaN  2012-12-17   \n",
       "4             93338                3.0  2012-12-17   \n",
       "...             ...                ...         ...   \n",
       "801189        84117               11.0  2010-03-01   \n",
       "801190        84117                1.0  2009-10-03   \n",
       "801191        84117                3.0  2009-03-14   \n",
       "801192        84117               11.0  2008-09-10   \n",
       "801193        84117               19.0  2008-08-28   \n",
       "\n",
       "                                      id  via_mobile  service  cleanliness  \\\n",
       "0       8C0B42FF3C0FA366A21CFD785302A032       False      5.0          5.0   \n",
       "1       E3C85CA9DBBBC77E0DB534ABE93E4713       False      5.0          5.0   \n",
       "2       035080D10D186778123E6A58C11E0608       False      5.0          5.0   \n",
       "3       412A714D6BF1607A01CC828645DD70AE       False      5.0          5.0   \n",
       "4       72B051F423790BE5F0EF6A9FD23EB77E       False      5.0          5.0   \n",
       "...                                  ...         ...      ...          ...   \n",
       "801189  090EA46E480A3E1A3D804B7DBEA9C21E       False      NaN          NaN   \n",
       "801190  6E1191432CA21D10DE10A75F00DD50D9       False      5.0          5.0   \n",
       "801191  A6F3EB0FDFB002EB4D47554A6D0AFCB1       False      4.0          5.0   \n",
       "801192  53E01D7C826C4091AAC83A38B6E88B06       False      5.0          5.0   \n",
       "801193  796D7577BC0755E22B5F4F04E58A3ACB       False      5.0          5.0   \n",
       "\n",
       "        ...  region_id                                                url  \\\n",
       "0       ...      60763  http://www.tripadvisor.com/Hotel_Review-g60763...   \n",
       "1       ...      60763  http://www.tripadvisor.com/Hotel_Review-g60763...   \n",
       "2       ...      60763  http://www.tripadvisor.com/Hotel_Review-g60763...   \n",
       "3       ...      60763  http://www.tripadvisor.com/Hotel_Review-g60763...   \n",
       "4       ...      60763  http://www.tripadvisor.com/Hotel_Review-g60763...   \n",
       "...     ...        ...                                                ...   \n",
       "801189  ...      28970  http://www.tripadvisor.com/Hotel_Review-g28970...   \n",
       "801190  ...      28970  http://www.tripadvisor.com/Hotel_Review-g28970...   \n",
       "801191  ...      28970  http://www.tripadvisor.com/Hotel_Review-g28970...   \n",
       "801192  ...      28970  http://www.tripadvisor.com/Hotel_Review-g28970...   \n",
       "801193  ...      28970  http://www.tripadvisor.com/Hotel_Review-g28970...   \n",
       "\n",
       "       phone  details   type           name  region  \\\n",
       "0        NaN      NaN  hotel   Hotel Beacon      NY   \n",
       "1        NaN      NaN  hotel   Hotel Beacon      NY   \n",
       "2        NaN      NaN  hotel   Hotel Beacon      NY   \n",
       "3        NaN      NaN  hotel   Hotel Beacon      NY   \n",
       "4        NaN      NaN  hotel   Hotel Beacon      NY   \n",
       "...      ...      ...    ...            ...     ...   \n",
       "801189   NaN      NaN  hotel  The Hay-Adams      DC   \n",
       "801190   NaN      NaN  hotel  The Hay-Adams      DC   \n",
       "801191   NaN      NaN  hotel  The Hay-Adams      DC   \n",
       "801192   NaN      NaN  hotel  The Hay-Adams      DC   \n",
       "801193   NaN      NaN  hotel  The Hay-Adams      DC   \n",
       "\n",
       "                      street-address  postal-code       locality  \n",
       "0       2130 Broadway at 75th Street        10023  New York City  \n",
       "1       2130 Broadway at 75th Street        10023  New York City  \n",
       "2       2130 Broadway at 75th Street        10023  New York City  \n",
       "3       2130 Broadway at 75th Street        10023  New York City  \n",
       "4       2130 Broadway at 75th Street        10023  New York City  \n",
       "...                              ...          ...            ...  \n",
       "801189              16th & H Sts. NW        20006  Washington DC  \n",
       "801190              16th & H Sts. NW        20006  Washington DC  \n",
       "801191              16th & H Sts. NW        20006  Washington DC  \n",
       "801192              16th & H Sts. NW        20006  Washington DC  \n",
       "801193              16th & H Sts. NW        20006  Washington DC  \n",
       "\n",
       "[801194 rows x 32 columns]"
      ]
     },
     "execution_count": 34,
     "metadata": {},
     "output_type": "execute_result"
    }
   ],
   "source": [
    "df_union_all"
   ]
  },
  {
   "cell_type": "code",
   "execution_count": null,
   "metadata": {},
   "outputs": [],
   "source": []
  },
  {
   "cell_type": "code",
   "execution_count": null,
   "metadata": {},
   "outputs": [],
   "source": []
  },
  {
   "cell_type": "markdown",
   "metadata": {},
   "source": [
    "## k nearest neighbors of item"
   ]
  },
  {
   "cell_type": "code",
   "execution_count": null,
   "metadata": {},
   "outputs": [],
   "source": [
    "import io  # needed because of weird encoding of u.item file\n",
    "\n",
    "from surprise import KNNBaseline\n",
    "from surprise import Dataset\n",
    "from surprise import get_dataset_dir"
   ]
  },
  {
   "cell_type": "code",
   "execution_count": null,
   "metadata": {},
   "outputs": [],
   "source": [
    "def read_item_names():\n",
    "    \"\"\"Read the u.item file from MovieLens 100-k dataset and return two\n",
    "    mappings to convert raw ids into movie names and movie names into raw ids.\n",
    "    \"\"\"\n",
    "\n",
    "    file_name = file_path\n",
    "    rid_to_name = {}\n",
    "    name_to_rid = {}\n",
    "    with io.open(file_name, 'r', encoding='ISO-8859-1') as f:\n",
    "        for line in f:\n",
    "            line = line.split('|')\n",
    "            rid_to_name[line[0]] = line[1]\n",
    "            name_to_rid[line[1]] = line[0]\n",
    "\n",
    "    return rid_to_name, name_to_rid"
   ]
  },
  {
   "cell_type": "code",
   "execution_count": null,
   "metadata": {},
   "outputs": [],
   "source": [
    "# First, train the algortihm to compute the similarities between items\n",
    "trainset = data.build_full_trainset()\n",
    "sim_options = {'name': 'pearson_baseline', 'user_based': False}\n",
    "algo = KNNBaseline(sim_options=sim_options)\n",
    "algo.fit(trainset)"
   ]
  },
  {
   "cell_type": "code",
   "execution_count": null,
   "metadata": {},
   "outputs": [],
   "source": []
  },
  {
   "cell_type": "code",
   "execution_count": null,
   "metadata": {},
   "outputs": [],
   "source": [
    "# Read the mappings raw id <-> movie name\n",
    "rid_to_name, name_to_rid = read_item_names()\n",
    "\n",
    "# Retrieve inner id of the hotel_id 84117\n",
    "toy_story_raw_id = name_to_rid['84117']\n",
    "toy_story_inner_id = algo.trainset.to_inner_iid(toy_story_raw_id)\n",
    "\n",
    "# Retrieve inner ids of the nearest neighbors of Toy Story.\n",
    "toy_story_neighbors = algo.get_neighbors(toy_story_inner_id, k=10)\n",
    "\n",
    "# Convert inner ids of the neighbors into names.\n",
    "toy_story_neighbors = (algo.trainset.to_raw_iid(inner_id)\n",
    "                       for inner_id in toy_story_neighbors)\n",
    "toy_story_neighbors = (rid_to_name[rid]\n",
    "                       for rid in toy_story_neighbors)"
   ]
  },
  {
   "cell_type": "code",
   "execution_count": null,
   "metadata": {},
   "outputs": [],
   "source": [
    "print()\n",
    "print('The 10 nearest neighbors of Toy Story are:')\n",
    "for movie in toy_story_neighbors:\n",
    "    print(movie)"
   ]
  },
  {
   "cell_type": "code",
   "execution_count": 2,
   "metadata": {},
   "outputs": [],
   "source": [
    "df_surprise_all = pd.read_csv('df_surprise_all.csv')  "
   ]
  },
  {
   "cell_type": "code",
   "execution_count": 8,
   "metadata": {},
   "outputs": [
    {
     "data": {
      "text/plain": [
       "Index(['8C0B42FF3C0FA366A21CFD785302A032', '93338', '5'], dtype='object')"
      ]
     },
     "execution_count": 8,
     "metadata": {},
     "output_type": "execute_result"
    }
   ],
   "source": [
    "df_surprise_all.columns"
   ]
  },
  {
   "cell_type": "code",
   "execution_count": null,
   "metadata": {},
   "outputs": [],
   "source": []
  }
 ],
 "metadata": {
  "kernelspec": {
   "display_name": "Python 3",
   "language": "python",
   "name": "python3"
  },
  "language_info": {
   "codemirror_mode": {
    "name": "ipython",
    "version": 3
   },
   "file_extension": ".py",
   "mimetype": "text/x-python",
   "name": "python",
   "nbconvert_exporter": "python",
   "pygments_lexer": "ipython3",
   "version": "3.8.5"
  }
 },
 "nbformat": 4,
 "nbformat_minor": 4
}
