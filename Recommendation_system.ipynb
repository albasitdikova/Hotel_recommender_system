{
 "cells": [
  {
   "cell_type": "code",
   "execution_count": 1,
   "metadata": {},
   "outputs": [],
   "source": [
    "import pandas as pd\n",
    "from collections import defaultdict"
   ]
  },
  {
   "cell_type": "code",
   "execution_count": 2,
   "metadata": {},
   "outputs": [],
   "source": [
    "from surprise import SVD\n",
    "from surprise import Dataset\n",
    "from surprise.model_selection import cross_validate, train_test_split\n",
    "from surprise import accuracy\n",
    "from surprise import Reader\n",
    "from surprise import BaselineOnly\n",
    "from surprise import Dataset\n",
    "from surprise import KNNBaseline\n",
    "from surprise import get_dataset_dir"
   ]
  },
  {
   "cell_type": "markdown",
   "metadata": {},
   "source": [
    "# Data preparing"
   ]
  },
  {
   "cell_type": "code",
   "execution_count": 3,
   "metadata": {},
   "outputs": [
    {
     "name": "stderr",
     "output_type": "stream",
     "text": [
      "/Users/albinasitdikova/opt/anaconda3/lib/python3.8/site-packages/IPython/core/interactiveshell.py:3146: DtypeWarning: Columns (30) have mixed types.Specify dtype option on import or set low_memory=False.\n",
      "  has_raised = await self.run_ast_nodes(code_ast.body, cell_name,\n"
     ]
    }
   ],
   "source": [
    "#read cleaned data I prepared in EDA Notebook\n",
    "df_union = pd.read_csv('df_union_all.csv')  "
   ]
  },
  {
   "cell_type": "code",
   "execution_count": 4,
   "metadata": {},
   "outputs": [
    {
     "data": {
      "text/html": [
       "<div>\n",
       "<style scoped>\n",
       "    .dataframe tbody tr th:only-of-type {\n",
       "        vertical-align: middle;\n",
       "    }\n",
       "\n",
       "    .dataframe tbody tr th {\n",
       "        vertical-align: top;\n",
       "    }\n",
       "\n",
       "    .dataframe thead th {\n",
       "        text-align: right;\n",
       "    }\n",
       "</style>\n",
       "<table border=\"1\" class=\"dataframe\">\n",
       "  <thead>\n",
       "    <tr style=\"text-align: right;\">\n",
       "      <th></th>\n",
       "      <th>title</th>\n",
       "      <th>text</th>\n",
       "      <th>date_stayed</th>\n",
       "      <th>offering_id</th>\n",
       "      <th>num_helpful_votes</th>\n",
       "      <th>date</th>\n",
       "      <th>id</th>\n",
       "      <th>via_mobile</th>\n",
       "      <th>service</th>\n",
       "      <th>cleanliness</th>\n",
       "      <th>...</th>\n",
       "      <th>region_id</th>\n",
       "      <th>url</th>\n",
       "      <th>phone</th>\n",
       "      <th>details</th>\n",
       "      <th>type</th>\n",
       "      <th>name</th>\n",
       "      <th>region</th>\n",
       "      <th>street-address</th>\n",
       "      <th>postal-code</th>\n",
       "      <th>locality</th>\n",
       "    </tr>\n",
       "  </thead>\n",
       "  <tbody>\n",
       "    <tr>\n",
       "      <th>0</th>\n",
       "      <td>“Truly is \"Jewel of the Upper Wets Side\"”</td>\n",
       "      <td>Stayed in a king suite for 11 nights and yes i...</td>\n",
       "      <td>December 2012</td>\n",
       "      <td>93338</td>\n",
       "      <td>12.0</td>\n",
       "      <td>2012-12-17</td>\n",
       "      <td>8C0B42FF3C0FA366A21CFD785302A032</td>\n",
       "      <td>False</td>\n",
       "      <td>5.0</td>\n",
       "      <td>5.0</td>\n",
       "      <td>...</td>\n",
       "      <td>60763</td>\n",
       "      <td>http://www.tripadvisor.com/Hotel_Review-g60763...</td>\n",
       "      <td>NaN</td>\n",
       "      <td>NaN</td>\n",
       "      <td>hotel</td>\n",
       "      <td>Hotel Beacon</td>\n",
       "      <td>NY</td>\n",
       "      <td>2130 Broadway at 75th Street</td>\n",
       "      <td>10023</td>\n",
       "      <td>New York City</td>\n",
       "    </tr>\n",
       "    <tr>\n",
       "      <th>1</th>\n",
       "      <td>“My home away from home!”</td>\n",
       "      <td>On every visit to NYC, the Hotel Beacon is the...</td>\n",
       "      <td>December 2012</td>\n",
       "      <td>93338</td>\n",
       "      <td>NaN</td>\n",
       "      <td>2012-12-17</td>\n",
       "      <td>E3C85CA9DBBBC77E0DB534ABE93E4713</td>\n",
       "      <td>False</td>\n",
       "      <td>5.0</td>\n",
       "      <td>5.0</td>\n",
       "      <td>...</td>\n",
       "      <td>60763</td>\n",
       "      <td>http://www.tripadvisor.com/Hotel_Review-g60763...</td>\n",
       "      <td>NaN</td>\n",
       "      <td>NaN</td>\n",
       "      <td>hotel</td>\n",
       "      <td>Hotel Beacon</td>\n",
       "      <td>NY</td>\n",
       "      <td>2130 Broadway at 75th Street</td>\n",
       "      <td>10023</td>\n",
       "      <td>New York City</td>\n",
       "    </tr>\n",
       "    <tr>\n",
       "      <th>2</th>\n",
       "      <td>“Excellent location”</td>\n",
       "      <td>Loved the hotel. Great location - only 2 block...</td>\n",
       "      <td>December 2012</td>\n",
       "      <td>93338</td>\n",
       "      <td>1.0</td>\n",
       "      <td>2012-12-17</td>\n",
       "      <td>035080D10D186778123E6A58C11E0608</td>\n",
       "      <td>False</td>\n",
       "      <td>5.0</td>\n",
       "      <td>5.0</td>\n",
       "      <td>...</td>\n",
       "      <td>60763</td>\n",
       "      <td>http://www.tripadvisor.com/Hotel_Review-g60763...</td>\n",
       "      <td>NaN</td>\n",
       "      <td>NaN</td>\n",
       "      <td>hotel</td>\n",
       "      <td>Hotel Beacon</td>\n",
       "      <td>NY</td>\n",
       "      <td>2130 Broadway at 75th Street</td>\n",
       "      <td>10023</td>\n",
       "      <td>New York City</td>\n",
       "    </tr>\n",
       "    <tr>\n",
       "      <th>3</th>\n",
       "      <td>“All-round fantastic NYC hotel”</td>\n",
       "      <td>Our first stay on the upper west side and can'...</td>\n",
       "      <td>December 2012</td>\n",
       "      <td>93338</td>\n",
       "      <td>NaN</td>\n",
       "      <td>2012-12-17</td>\n",
       "      <td>412A714D6BF1607A01CC828645DD70AE</td>\n",
       "      <td>False</td>\n",
       "      <td>5.0</td>\n",
       "      <td>5.0</td>\n",
       "      <td>...</td>\n",
       "      <td>60763</td>\n",
       "      <td>http://www.tripadvisor.com/Hotel_Review-g60763...</td>\n",
       "      <td>NaN</td>\n",
       "      <td>NaN</td>\n",
       "      <td>hotel</td>\n",
       "      <td>Hotel Beacon</td>\n",
       "      <td>NY</td>\n",
       "      <td>2130 Broadway at 75th Street</td>\n",
       "      <td>10023</td>\n",
       "      <td>New York City</td>\n",
       "    </tr>\n",
       "    <tr>\n",
       "      <th>4</th>\n",
       "      <td>“Great hotel in nice area”</td>\n",
       "      <td>Great room, very big with huge bed! Great loca...</td>\n",
       "      <td>December 2012</td>\n",
       "      <td>93338</td>\n",
       "      <td>3.0</td>\n",
       "      <td>2012-12-17</td>\n",
       "      <td>72B051F423790BE5F0EF6A9FD23EB77E</td>\n",
       "      <td>False</td>\n",
       "      <td>5.0</td>\n",
       "      <td>5.0</td>\n",
       "      <td>...</td>\n",
       "      <td>60763</td>\n",
       "      <td>http://www.tripadvisor.com/Hotel_Review-g60763...</td>\n",
       "      <td>NaN</td>\n",
       "      <td>NaN</td>\n",
       "      <td>hotel</td>\n",
       "      <td>Hotel Beacon</td>\n",
       "      <td>NY</td>\n",
       "      <td>2130 Broadway at 75th Street</td>\n",
       "      <td>10023</td>\n",
       "      <td>New York City</td>\n",
       "    </tr>\n",
       "  </tbody>\n",
       "</table>\n",
       "<p>5 rows × 32 columns</p>\n",
       "</div>"
      ],
      "text/plain": [
       "                                       title  \\\n",
       "0  “Truly is \"Jewel of the Upper Wets Side\"”   \n",
       "1                  “My home away from home!”   \n",
       "2                       “Excellent location”   \n",
       "3            “All-round fantastic NYC hotel”   \n",
       "4                 “Great hotel in nice area”   \n",
       "\n",
       "                                                text    date_stayed  \\\n",
       "0  Stayed in a king suite for 11 nights and yes i...  December 2012   \n",
       "1  On every visit to NYC, the Hotel Beacon is the...  December 2012   \n",
       "2  Loved the hotel. Great location - only 2 block...  December 2012   \n",
       "3  Our first stay on the upper west side and can'...  December 2012   \n",
       "4  Great room, very big with huge bed! Great loca...  December 2012   \n",
       "\n",
       "   offering_id  num_helpful_votes        date  \\\n",
       "0        93338               12.0  2012-12-17   \n",
       "1        93338                NaN  2012-12-17   \n",
       "2        93338                1.0  2012-12-17   \n",
       "3        93338                NaN  2012-12-17   \n",
       "4        93338                3.0  2012-12-17   \n",
       "\n",
       "                                 id  via_mobile  service  cleanliness  ...  \\\n",
       "0  8C0B42FF3C0FA366A21CFD785302A032       False      5.0          5.0  ...   \n",
       "1  E3C85CA9DBBBC77E0DB534ABE93E4713       False      5.0          5.0  ...   \n",
       "2  035080D10D186778123E6A58C11E0608       False      5.0          5.0  ...   \n",
       "3  412A714D6BF1607A01CC828645DD70AE       False      5.0          5.0  ...   \n",
       "4  72B051F423790BE5F0EF6A9FD23EB77E       False      5.0          5.0  ...   \n",
       "\n",
       "   region_id                                                url phone  \\\n",
       "0      60763  http://www.tripadvisor.com/Hotel_Review-g60763...   NaN   \n",
       "1      60763  http://www.tripadvisor.com/Hotel_Review-g60763...   NaN   \n",
       "2      60763  http://www.tripadvisor.com/Hotel_Review-g60763...   NaN   \n",
       "3      60763  http://www.tripadvisor.com/Hotel_Review-g60763...   NaN   \n",
       "4      60763  http://www.tripadvisor.com/Hotel_Review-g60763...   NaN   \n",
       "\n",
       "   details   type          name  region                street-address  \\\n",
       "0      NaN  hotel  Hotel Beacon      NY  2130 Broadway at 75th Street   \n",
       "1      NaN  hotel  Hotel Beacon      NY  2130 Broadway at 75th Street   \n",
       "2      NaN  hotel  Hotel Beacon      NY  2130 Broadway at 75th Street   \n",
       "3      NaN  hotel  Hotel Beacon      NY  2130 Broadway at 75th Street   \n",
       "4      NaN  hotel  Hotel Beacon      NY  2130 Broadway at 75th Street   \n",
       "\n",
       "   postal-code       locality  \n",
       "0        10023  New York City  \n",
       "1        10023  New York City  \n",
       "2        10023  New York City  \n",
       "3        10023  New York City  \n",
       "4        10023  New York City  \n",
       "\n",
       "[5 rows x 32 columns]"
      ]
     },
     "execution_count": 4,
     "metadata": {},
     "output_type": "execute_result"
    }
   ],
   "source": [
    "df_union.head()"
   ]
  },
  {
   "cell_type": "code",
   "execution_count": 5,
   "metadata": {},
   "outputs": [
    {
     "data": {
      "text/plain": [
       "Index(['title', 'text', 'date_stayed', 'offering_id', 'num_helpful_votes',\n",
       "       'date', 'id', 'via_mobile', 'service', 'cleanliness', 'overall',\n",
       "       'value', 'location', 'sleep_quality', 'rooms', 'check_in_front_desk',\n",
       "       'business_service_(e_g_internet_access)', 'username', 'num_cities',\n",
       "       'num_reviews', 'num_type_reviews', 'hotel_class', 'region_id', 'url',\n",
       "       'phone', 'details', 'type', 'name', 'region', 'street-address',\n",
       "       'postal-code', 'locality'],\n",
       "      dtype='object')"
      ]
     },
     "execution_count": 5,
     "metadata": {},
     "output_type": "execute_result"
    }
   ],
   "source": [
    "df_union.columns"
   ]
  },
  {
   "cell_type": "markdown",
   "metadata": {},
   "source": [
    "#### Creating Dataframe that contain only user id, hotel id and user's rating for hotel "
   ]
  },
  {
   "cell_type": "code",
   "execution_count": 6,
   "metadata": {},
   "outputs": [],
   "source": [
    "df_surprise = df_union.loc[:,['id', 'offering_id', 'overall']]"
   ]
  },
  {
   "cell_type": "code",
   "execution_count": 7,
   "metadata": {},
   "outputs": [
    {
     "data": {
      "text/html": [
       "<div>\n",
       "<style scoped>\n",
       "    .dataframe tbody tr th:only-of-type {\n",
       "        vertical-align: middle;\n",
       "    }\n",
       "\n",
       "    .dataframe tbody tr th {\n",
       "        vertical-align: top;\n",
       "    }\n",
       "\n",
       "    .dataframe thead th {\n",
       "        text-align: right;\n",
       "    }\n",
       "</style>\n",
       "<table border=\"1\" class=\"dataframe\">\n",
       "  <thead>\n",
       "    <tr style=\"text-align: right;\">\n",
       "      <th></th>\n",
       "      <th>id</th>\n",
       "      <th>offering_id</th>\n",
       "      <th>overall</th>\n",
       "    </tr>\n",
       "  </thead>\n",
       "  <tbody>\n",
       "    <tr>\n",
       "      <th>0</th>\n",
       "      <td>8C0B42FF3C0FA366A21CFD785302A032</td>\n",
       "      <td>93338</td>\n",
       "      <td>5</td>\n",
       "    </tr>\n",
       "    <tr>\n",
       "      <th>1</th>\n",
       "      <td>E3C85CA9DBBBC77E0DB534ABE93E4713</td>\n",
       "      <td>93338</td>\n",
       "      <td>5</td>\n",
       "    </tr>\n",
       "    <tr>\n",
       "      <th>2</th>\n",
       "      <td>035080D10D186778123E6A58C11E0608</td>\n",
       "      <td>93338</td>\n",
       "      <td>5</td>\n",
       "    </tr>\n",
       "    <tr>\n",
       "      <th>3</th>\n",
       "      <td>412A714D6BF1607A01CC828645DD70AE</td>\n",
       "      <td>93338</td>\n",
       "      <td>5</td>\n",
       "    </tr>\n",
       "    <tr>\n",
       "      <th>4</th>\n",
       "      <td>72B051F423790BE5F0EF6A9FD23EB77E</td>\n",
       "      <td>93338</td>\n",
       "      <td>5</td>\n",
       "    </tr>\n",
       "    <tr>\n",
       "      <th>...</th>\n",
       "      <td>...</td>\n",
       "      <td>...</td>\n",
       "      <td>...</td>\n",
       "    </tr>\n",
       "    <tr>\n",
       "      <th>801189</th>\n",
       "      <td>090EA46E480A3E1A3D804B7DBEA9C21E</td>\n",
       "      <td>84117</td>\n",
       "      <td>4</td>\n",
       "    </tr>\n",
       "    <tr>\n",
       "      <th>801190</th>\n",
       "      <td>6E1191432CA21D10DE10A75F00DD50D9</td>\n",
       "      <td>84117</td>\n",
       "      <td>5</td>\n",
       "    </tr>\n",
       "    <tr>\n",
       "      <th>801191</th>\n",
       "      <td>A6F3EB0FDFB002EB4D47554A6D0AFCB1</td>\n",
       "      <td>84117</td>\n",
       "      <td>4</td>\n",
       "    </tr>\n",
       "    <tr>\n",
       "      <th>801192</th>\n",
       "      <td>53E01D7C826C4091AAC83A38B6E88B06</td>\n",
       "      <td>84117</td>\n",
       "      <td>5</td>\n",
       "    </tr>\n",
       "    <tr>\n",
       "      <th>801193</th>\n",
       "      <td>796D7577BC0755E22B5F4F04E58A3ACB</td>\n",
       "      <td>84117</td>\n",
       "      <td>5</td>\n",
       "    </tr>\n",
       "  </tbody>\n",
       "</table>\n",
       "<p>801194 rows × 3 columns</p>\n",
       "</div>"
      ],
      "text/plain": [
       "                                      id  offering_id  overall\n",
       "0       8C0B42FF3C0FA366A21CFD785302A032        93338        5\n",
       "1       E3C85CA9DBBBC77E0DB534ABE93E4713        93338        5\n",
       "2       035080D10D186778123E6A58C11E0608        93338        5\n",
       "3       412A714D6BF1607A01CC828645DD70AE        93338        5\n",
       "4       72B051F423790BE5F0EF6A9FD23EB77E        93338        5\n",
       "...                                  ...          ...      ...\n",
       "801189  090EA46E480A3E1A3D804B7DBEA9C21E        84117        4\n",
       "801190  6E1191432CA21D10DE10A75F00DD50D9        84117        5\n",
       "801191  A6F3EB0FDFB002EB4D47554A6D0AFCB1        84117        4\n",
       "801192  53E01D7C826C4091AAC83A38B6E88B06        84117        5\n",
       "801193  796D7577BC0755E22B5F4F04E58A3ACB        84117        5\n",
       "\n",
       "[801194 rows x 3 columns]"
      ]
     },
     "execution_count": 7,
     "metadata": {},
     "output_type": "execute_result"
    }
   ],
   "source": [
    "df_surprise"
   ]
  },
  {
   "cell_type": "markdown",
   "metadata": {},
   "source": [
    "\n",
    "\n",
    "I'm gonna use only part of these reviews because when I was trying to do recommendation system with all review my laptop or Cloud Platform Colab couldn't process all information"
   ]
  },
  {
   "cell_type": "code",
   "execution_count": 8,
   "metadata": {},
   "outputs": [],
   "source": [
    "#leave only users who left > 5 reviews"
   ]
  },
  {
   "cell_type": "code",
   "execution_count": 9,
   "metadata": {},
   "outputs": [
    {
     "data": {
      "text/plain": [
       "id\n",
       "6562BBD4EA770FE84E579622F68FA181    63\n",
       "869E5453ED1ECD12EC2E210BEB6B922E    54\n",
       "6C62B19C4DB8C600576B763C68AF0759    52\n",
       "85223AA53CB0DE6A6EB7B3C1E99981B1    52\n",
       "7BC0AF07CC240F2F614A865BBE21B5AA    47\n",
       "                                    ..\n",
       "A0C0ABF1FDB3C9DE56BA848DA14F6348     1\n",
       "A0C0D203DEB1B61000BBF9259A4B5A22     1\n",
       "A0C0DCCEC004AABAEFB5CD88A6ED4BDA     1\n",
       "A0C0E290EABB5C946BF70442D7CDE19A     1\n",
       "7FC56E9337C70B8D630FCFB59E9A988E     1\n",
       "Name: overall, Length: 576685, dtype: int64"
      ]
     },
     "execution_count": 9,
     "metadata": {},
     "output_type": "execute_result"
    }
   ],
   "source": [
    "#count reviews for each user\n",
    "reviews_count_byuser = df_surprise.groupby(['id'])['overall'].count().sort_values(ascending=False)\n",
    "reviews_count_byuser"
   ]
  },
  {
   "cell_type": "code",
   "execution_count": 10,
   "metadata": {},
   "outputs": [
    {
     "data": {
      "text/plain": [
       "Index(['6562BBD4EA770FE84E579622F68FA181', '869E5453ED1ECD12EC2E210BEB6B922E',\n",
       "       '6C62B19C4DB8C600576B763C68AF0759', '85223AA53CB0DE6A6EB7B3C1E99981B1',\n",
       "       '7BC0AF07CC240F2F614A865BBE21B5AA', 'F73CC60121EDAB8E6B1637FDE6A09177',\n",
       "       '17EEAF9A079A2B75E9616F7864F7CA3E', '5A259EBC8C1AEBD6F20D4C48490255FF',\n",
       "       '106952AB894E1236A6094B030DD73C8F', '5DFE96EC85C67F248DEFFA8B84891A6A',\n",
       "       ...\n",
       "       '00BBAC3339F576E164FF9F627489481C', 'FD2BB013EE49D8432414008F8B89C482',\n",
       "       'FEF59A627074937521F622D5F65794AF', '01ECD34DFB3A71980CFE05D453CB2156',\n",
       "       'FD2680BF42CF51B2B13A136983B804C4', 'FDB8E88150901C82631CD5548B1A2BB8',\n",
       "       '027E1165FCD77427C33454661AF677CA', 'FCE4AD28BE08AF16A5B8E91D4D3C4F40',\n",
       "       'FD502B68BDE687E6E3F59E0578A8B615', 'FFE779A7913FECF3B0476DEB287ADCA8'],\n",
       "      dtype='object', name='id', length=7252)"
      ]
     },
     "execution_count": 10,
     "metadata": {},
     "output_type": "execute_result"
    }
   ],
   "source": [
    "#check users id of these who left more than 5 reviews and put their id in list \"user_more_reviews\"\n",
    "user_more_reviews = reviews_count_byuser[reviews_count_byuser>5]\n",
    "user_more_reviews.index"
   ]
  },
  {
   "cell_type": "code",
   "execution_count": 11,
   "metadata": {},
   "outputs": [
    {
     "data": {
      "text/html": [
       "<div>\n",
       "<style scoped>\n",
       "    .dataframe tbody tr th:only-of-type {\n",
       "        vertical-align: middle;\n",
       "    }\n",
       "\n",
       "    .dataframe tbody tr th {\n",
       "        vertical-align: top;\n",
       "    }\n",
       "\n",
       "    .dataframe thead th {\n",
       "        text-align: right;\n",
       "    }\n",
       "</style>\n",
       "<table border=\"1\" class=\"dataframe\">\n",
       "  <thead>\n",
       "    <tr style=\"text-align: right;\">\n",
       "      <th></th>\n",
       "      <th>id</th>\n",
       "      <th>offering_id</th>\n",
       "      <th>overall</th>\n",
       "    </tr>\n",
       "  </thead>\n",
       "  <tbody>\n",
       "    <tr>\n",
       "      <th>35</th>\n",
       "      <td>1005ABAA83773778AB2A4BAAFE443901</td>\n",
       "      <td>93338</td>\n",
       "      <td>5</td>\n",
       "    </tr>\n",
       "    <tr>\n",
       "      <th>39</th>\n",
       "      <td>FD711E1ED5A2DA3F69425CDD77A80E5A</td>\n",
       "      <td>93338</td>\n",
       "      <td>5</td>\n",
       "    </tr>\n",
       "    <tr>\n",
       "      <th>63</th>\n",
       "      <td>A12D74E5CFC1564773D7C48B490DBE54</td>\n",
       "      <td>93338</td>\n",
       "      <td>5</td>\n",
       "    </tr>\n",
       "    <tr>\n",
       "      <th>119</th>\n",
       "      <td>3D693454C428B1D6E5458ACC210F9695</td>\n",
       "      <td>93338</td>\n",
       "      <td>5</td>\n",
       "    </tr>\n",
       "    <tr>\n",
       "      <th>120</th>\n",
       "      <td>771E3C17495EE9D080AF87EB2504161F</td>\n",
       "      <td>93338</td>\n",
       "      <td>4</td>\n",
       "    </tr>\n",
       "    <tr>\n",
       "      <th>...</th>\n",
       "      <td>...</td>\n",
       "      <td>...</td>\n",
       "      <td>...</td>\n",
       "    </tr>\n",
       "    <tr>\n",
       "      <th>801149</th>\n",
       "      <td>0FEEEDDB251FEF3713076F4CBFB08CF7</td>\n",
       "      <td>84117</td>\n",
       "      <td>5</td>\n",
       "    </tr>\n",
       "    <tr>\n",
       "      <th>801153</th>\n",
       "      <td>1437F74083AF6DEE8DAAC603F436EDA0</td>\n",
       "      <td>84117</td>\n",
       "      <td>5</td>\n",
       "    </tr>\n",
       "    <tr>\n",
       "      <th>801161</th>\n",
       "      <td>657EB42F3264EA15A287F416268A8A68</td>\n",
       "      <td>84117</td>\n",
       "      <td>5</td>\n",
       "    </tr>\n",
       "    <tr>\n",
       "      <th>801165</th>\n",
       "      <td>40923C2E4B6283C7450E045801624447</td>\n",
       "      <td>84117</td>\n",
       "      <td>4</td>\n",
       "    </tr>\n",
       "    <tr>\n",
       "      <th>801167</th>\n",
       "      <td>D95A1EBEB53A8B715B65771DDEEA16E8</td>\n",
       "      <td>84117</td>\n",
       "      <td>5</td>\n",
       "    </tr>\n",
       "  </tbody>\n",
       "</table>\n",
       "<p>61005 rows × 3 columns</p>\n",
       "</div>"
      ],
      "text/plain": [
       "                                      id  offering_id  overall\n",
       "35      1005ABAA83773778AB2A4BAAFE443901        93338        5\n",
       "39      FD711E1ED5A2DA3F69425CDD77A80E5A        93338        5\n",
       "63      A12D74E5CFC1564773D7C48B490DBE54        93338        5\n",
       "119     3D693454C428B1D6E5458ACC210F9695        93338        5\n",
       "120     771E3C17495EE9D080AF87EB2504161F        93338        4\n",
       "...                                  ...          ...      ...\n",
       "801149  0FEEEDDB251FEF3713076F4CBFB08CF7        84117        5\n",
       "801153  1437F74083AF6DEE8DAAC603F436EDA0        84117        5\n",
       "801161  657EB42F3264EA15A287F416268A8A68        84117        5\n",
       "801165  40923C2E4B6283C7450E045801624447        84117        4\n",
       "801167  D95A1EBEB53A8B715B65771DDEEA16E8        84117        5\n",
       "\n",
       "[61005 rows x 3 columns]"
      ]
     },
     "execution_count": 11,
     "metadata": {},
     "output_type": "execute_result"
    }
   ],
   "source": [
    "#leave only users who are in list \"user_more_reviews\"\n",
    "df_surprise = df_surprise[df_surprise.id.isin(user_more_reviews.index)]\n",
    "df_surprise "
   ]
  },
  {
   "cell_type": "code",
   "execution_count": null,
   "metadata": {},
   "outputs": [],
   "source": []
  },
  {
   "cell_type": "code",
   "execution_count": 12,
   "metadata": {},
   "outputs": [],
   "source": [
    "#leave only hotels those have > 1 review and only 1000 of them"
   ]
  },
  {
   "cell_type": "code",
   "execution_count": 13,
   "metadata": {},
   "outputs": [
    {
     "data": {
      "text/plain": [
       "offering_id\n",
       "87617      297\n",
       "111501     284\n",
       "611947     244\n",
       "93618      244\n",
       "93507      240\n",
       "          ... \n",
       "93376       17\n",
       "73947       17\n",
       "81170       17\n",
       "98640       17\n",
       "1940859     17\n",
       "Name: overall, Length: 1000, dtype: int64"
      ]
     },
     "execution_count": 13,
     "metadata": {},
     "output_type": "execute_result"
    }
   ],
   "source": [
    "#count number of reviews for each hotel and leave only 1000 of them\n",
    "reviews_count_by_hotel = df_surprise.groupby(['offering_id'])['overall'].count().sort_values(ascending=False)[:1000]\n",
    "reviews_count_by_hotel"
   ]
  },
  {
   "cell_type": "code",
   "execution_count": 14,
   "metadata": {},
   "outputs": [
    {
     "data": {
      "text/plain": [
       "Int64Index([  87617,  111501,  611947,   93618,   93507,  249712,   93450,\n",
       "              81295,   81461,  100570,\n",
       "            ...\n",
       "             223154,   81352,  114326,  114583,  123556,   93376,   73947,\n",
       "              81170,   98640, 1940859],\n",
       "           dtype='int64', name='offering_id', length=1000)"
      ]
     },
     "execution_count": 14,
     "metadata": {},
     "output_type": "execute_result"
    }
   ],
   "source": [
    "#check hotel id of these has more than 1 review and put their id in list \"hotel_more_reviews\"\n",
    "hotel_more_reviews = reviews_count_by_hotel[reviews_count_by_hotel>1]\n",
    "hotel_more_reviews.index"
   ]
  },
  {
   "cell_type": "code",
   "execution_count": 15,
   "metadata": {},
   "outputs": [
    {
     "data": {
      "text/html": [
       "<div>\n",
       "<style scoped>\n",
       "    .dataframe tbody tr th:only-of-type {\n",
       "        vertical-align: middle;\n",
       "    }\n",
       "\n",
       "    .dataframe tbody tr th {\n",
       "        vertical-align: top;\n",
       "    }\n",
       "\n",
       "    .dataframe thead th {\n",
       "        text-align: right;\n",
       "    }\n",
       "</style>\n",
       "<table border=\"1\" class=\"dataframe\">\n",
       "  <thead>\n",
       "    <tr style=\"text-align: right;\">\n",
       "      <th></th>\n",
       "      <th>id</th>\n",
       "      <th>offering_id</th>\n",
       "      <th>overall</th>\n",
       "    </tr>\n",
       "  </thead>\n",
       "  <tbody>\n",
       "    <tr>\n",
       "      <th>35</th>\n",
       "      <td>1005ABAA83773778AB2A4BAAFE443901</td>\n",
       "      <td>93338</td>\n",
       "      <td>5</td>\n",
       "    </tr>\n",
       "    <tr>\n",
       "      <th>39</th>\n",
       "      <td>FD711E1ED5A2DA3F69425CDD77A80E5A</td>\n",
       "      <td>93338</td>\n",
       "      <td>5</td>\n",
       "    </tr>\n",
       "    <tr>\n",
       "      <th>63</th>\n",
       "      <td>A12D74E5CFC1564773D7C48B490DBE54</td>\n",
       "      <td>93338</td>\n",
       "      <td>5</td>\n",
       "    </tr>\n",
       "    <tr>\n",
       "      <th>119</th>\n",
       "      <td>3D693454C428B1D6E5458ACC210F9695</td>\n",
       "      <td>93338</td>\n",
       "      <td>5</td>\n",
       "    </tr>\n",
       "    <tr>\n",
       "      <th>120</th>\n",
       "      <td>771E3C17495EE9D080AF87EB2504161F</td>\n",
       "      <td>93338</td>\n",
       "      <td>4</td>\n",
       "    </tr>\n",
       "    <tr>\n",
       "      <th>...</th>\n",
       "      <td>...</td>\n",
       "      <td>...</td>\n",
       "      <td>...</td>\n",
       "    </tr>\n",
       "    <tr>\n",
       "      <th>801149</th>\n",
       "      <td>0FEEEDDB251FEF3713076F4CBFB08CF7</td>\n",
       "      <td>84117</td>\n",
       "      <td>5</td>\n",
       "    </tr>\n",
       "    <tr>\n",
       "      <th>801153</th>\n",
       "      <td>1437F74083AF6DEE8DAAC603F436EDA0</td>\n",
       "      <td>84117</td>\n",
       "      <td>5</td>\n",
       "    </tr>\n",
       "    <tr>\n",
       "      <th>801161</th>\n",
       "      <td>657EB42F3264EA15A287F416268A8A68</td>\n",
       "      <td>84117</td>\n",
       "      <td>5</td>\n",
       "    </tr>\n",
       "    <tr>\n",
       "      <th>801165</th>\n",
       "      <td>40923C2E4B6283C7450E045801624447</td>\n",
       "      <td>84117</td>\n",
       "      <td>4</td>\n",
       "    </tr>\n",
       "    <tr>\n",
       "      <th>801167</th>\n",
       "      <td>D95A1EBEB53A8B715B65771DDEEA16E8</td>\n",
       "      <td>84117</td>\n",
       "      <td>5</td>\n",
       "    </tr>\n",
       "  </tbody>\n",
       "</table>\n",
       "<p>49968 rows × 3 columns</p>\n",
       "</div>"
      ],
      "text/plain": [
       "                                      id  offering_id  overall\n",
       "35      1005ABAA83773778AB2A4BAAFE443901        93338        5\n",
       "39      FD711E1ED5A2DA3F69425CDD77A80E5A        93338        5\n",
       "63      A12D74E5CFC1564773D7C48B490DBE54        93338        5\n",
       "119     3D693454C428B1D6E5458ACC210F9695        93338        5\n",
       "120     771E3C17495EE9D080AF87EB2504161F        93338        4\n",
       "...                                  ...          ...      ...\n",
       "801149  0FEEEDDB251FEF3713076F4CBFB08CF7        84117        5\n",
       "801153  1437F74083AF6DEE8DAAC603F436EDA0        84117        5\n",
       "801161  657EB42F3264EA15A287F416268A8A68        84117        5\n",
       "801165  40923C2E4B6283C7450E045801624447        84117        4\n",
       "801167  D95A1EBEB53A8B715B65771DDEEA16E8        84117        5\n",
       "\n",
       "[49968 rows x 3 columns]"
      ]
     },
     "execution_count": 15,
     "metadata": {},
     "output_type": "execute_result"
    }
   ],
   "source": [
    "#leave only hotels those are in list \"hotel_more_reviews\"\n",
    "df_surprise = df_surprise[df_surprise.offering_id.isin(hotel_more_reviews.index)]\n",
    "df_surprise"
   ]
  },
  {
   "cell_type": "markdown",
   "metadata": {},
   "source": [
    "# Recommendation engine: Surprise"
   ]
  },
  {
   "cell_type": "markdown",
   "metadata": {},
   "source": [
    "## Evaluation"
   ]
  },
  {
   "cell_type": "code",
   "execution_count": 16,
   "metadata": {},
   "outputs": [],
   "source": [
    "#write dataframe in csv file \n",
    "df_surprise.to_csv('df_surprise.csv', index=False, header=False)"
   ]
  },
  {
   "cell_type": "code",
   "execution_count": 17,
   "metadata": {},
   "outputs": [],
   "source": [
    "file_path = 'df_surprise.csv'"
   ]
  },
  {
   "cell_type": "code",
   "execution_count": 18,
   "metadata": {},
   "outputs": [],
   "source": [
    "# As we're loading a custom dataset, we need to define a reader. In my dataset, each line has the following format:\n",
    "# 'user hotel rating', separated by ',' characters.\n",
    "reader = Reader(line_format='user item rating', sep=',')"
   ]
  },
  {
   "cell_type": "code",
   "execution_count": 19,
   "metadata": {},
   "outputs": [],
   "source": [
    "data = Dataset.load_from_file(file_path, reader=reader)"
   ]
  },
  {
   "cell_type": "code",
   "execution_count": 20,
   "metadata": {},
   "outputs": [
    {
     "name": "stdout",
     "output_type": "stream",
     "text": [
      "Evaluating RMSE, MAE of algorithm SVD on 5 split(s).\n",
      "\n",
      "                  Fold 1  Fold 2  Fold 3  Fold 4  Fold 5  Mean    Std     \n",
      "RMSE (testset)    0.8716  0.8736  0.8752  0.8850  0.8670  0.8745  0.0059  \n",
      "MAE (testset)     0.6747  0.6784  0.6785  0.6885  0.6741  0.6788  0.0052  \n",
      "Fit time          7.59    7.57    7.75    7.57    2.89    6.67    1.89    \n",
      "Test time         0.19    0.19    0.16    0.20    0.09    0.17    0.04    \n"
     ]
    },
    {
     "data": {
      "text/plain": [
       "{'test_rmse': array([0.87161328, 0.87357355, 0.87523019, 0.88501103, 0.86701247]),\n",
       " 'test_mae': array([0.67466687, 0.6783511 , 0.67846685, 0.68853507, 0.67414875]),\n",
       " 'fit_time': (7.585253953933716,\n",
       "  7.574803829193115,\n",
       "  7.748105049133301,\n",
       "  7.567945241928101,\n",
       "  2.8946878910064697),\n",
       " 'test_time': (0.19345402717590332,\n",
       "  0.18940281867980957,\n",
       "  0.16408801078796387,\n",
       "  0.2040858268737793,\n",
       "  0.09106278419494629)}"
      ]
     },
     "execution_count": 20,
     "metadata": {},
     "output_type": "execute_result"
    }
   ],
   "source": [
    "# We'll use the famous SVD algorithm.\n",
    "algo = SVD(verbose=True)\n",
    "\n",
    "# you can also build KNNBasic and other types of models\n",
    "\n",
    "# Run 5-fold cross-validation and print results\n",
    "cross_validate(algo, data, measures=['RMSE', 'MAE'], cv=5, n_jobs=-1, verbose=True)\n"
   ]
  },
  {
   "cell_type": "markdown",
   "metadata": {},
   "source": [
    "#### Result: MAE for SVD algorithm is 0.68"
   ]
  },
  {
   "cell_type": "code",
   "execution_count": 21,
   "metadata": {},
   "outputs": [
    {
     "name": "stdout",
     "output_type": "stream",
     "text": [
      "Processing epoch 0\n",
      "Processing epoch 1\n",
      "Processing epoch 2\n",
      "Processing epoch 3\n",
      "Processing epoch 4\n",
      "Processing epoch 5\n",
      "Processing epoch 6\n",
      "Processing epoch 7\n",
      "Processing epoch 8\n",
      "Processing epoch 9\n",
      "Processing epoch 10\n",
      "Processing epoch 11\n",
      "Processing epoch 12\n",
      "Processing epoch 13\n",
      "Processing epoch 14\n",
      "Processing epoch 15\n",
      "Processing epoch 16\n",
      "Processing epoch 17\n",
      "Processing epoch 18\n",
      "Processing epoch 19\n"
     ]
    }
   ],
   "source": [
    "# let's do train-test-split, where test set is 25% of the ratings\n",
    "trainset, testset = train_test_split(data, test_size=.25)\n",
    "\n",
    "# Train the algorithm on the trainset, and predict ratings for the testset\n",
    "algo.fit(trainset)\n",
    "predictions = algo.test(testset)"
   ]
  },
  {
   "cell_type": "code",
   "execution_count": 22,
   "metadata": {},
   "outputs": [
    {
     "name": "stdout",
     "output_type": "stream",
     "text": [
      "RMSE: 0.8713\n"
     ]
    },
    {
     "data": {
      "text/plain": [
       "0.8713299729107745"
      ]
     },
     "execution_count": 22,
     "metadata": {},
     "output_type": "execute_result"
    }
   ],
   "source": [
    "# compute RMSE\n",
    "accuracy.rmse(predictions)"
   ]
  },
  {
   "cell_type": "code",
   "execution_count": 23,
   "metadata": {},
   "outputs": [
    {
     "name": "stdout",
     "output_type": "stream",
     "text": [
      "user: 771E3C17495EE9D080AF87EB2504161F item: 84117      r_ui = None   est = 4.88   {'was_impossible': False}\n"
     ]
    }
   ],
   "source": [
    "# get a prediction for specific users and items.\n",
    "uid = '771E3C17495EE9D080AF87EB2504161F'\n",
    "iid = '84117'\n",
    "\n",
    "pred = algo.predict(uid, iid, verbose=True)"
   ]
  },
  {
   "cell_type": "markdown",
   "metadata": {},
   "source": [
    "\n",
    "\n",
    "\n",
    "# Get top 10 recommendations for each user"
   ]
  },
  {
   "cell_type": "code",
   "execution_count": 24,
   "metadata": {},
   "outputs": [
    {
     "data": {
      "text/plain": [
       "<surprise.prediction_algorithms.matrix_factorization.SVD at 0x7fef9ee37490>"
      ]
     },
     "execution_count": 24,
     "metadata": {},
     "output_type": "execute_result"
    }
   ],
   "source": [
    "# First train an SVD algorithm on the dataset.\n",
    "trainset = data.build_full_trainset()\n",
    "algo = SVD()\n",
    "algo.fit(trainset)"
   ]
  },
  {
   "cell_type": "code",
   "execution_count": 25,
   "metadata": {},
   "outputs": [],
   "source": [
    "# Than predict ratings for all pairs (u, i) that are NOT in the training set.\n",
    "testset = trainset.build_anti_testset()\n",
    "predictions = algo.test(testset)"
   ]
  },
  {
   "cell_type": "code",
   "execution_count": 26,
   "metadata": {},
   "outputs": [],
   "source": [
    "def get_top_n(predictions, n=10):\n",
    "    \"\"\"Return the top-N recommendation for each user from a set of predictions.\n",
    "\n",
    "    Args:\n",
    "        predictions(list of Prediction objects): The list of predictions, as\n",
    "            returned by the test method of an algorithm.\n",
    "        n(int): The number of recommendation to output for each user. Default\n",
    "            is 10.\n",
    "\n",
    "    Returns:\n",
    "    A dict where keys are user (raw) ids and values are lists of tuples:\n",
    "        [(raw item id, rating estimation), ...] of size n.\n",
    "    \"\"\"\n",
    "\n",
    "    # First map the predictions to each user.\n",
    "    top_n = defaultdict(list)\n",
    "    for uid, iid, true_r, est, _ in predictions:\n",
    "        top_n[uid].append((iid, est))\n",
    "\n",
    "    # Then sort the predictions for each user and retrieve the k highest ones.\n",
    "    for uid, user_ratings in top_n.items():\n",
    "        user_ratings.sort(key=lambda x: x[1], reverse=True)\n",
    "        top_n[uid] = user_ratings[:n]\n",
    "\n",
    "    return top_n"
   ]
  },
  {
   "cell_type": "code",
   "execution_count": 27,
   "metadata": {},
   "outputs": [],
   "source": [
    "top_n = get_top_n(predictions, n=10)"
   ]
  },
  {
   "cell_type": "code",
   "execution_count": 28,
   "metadata": {
    "jupyter": {
     "outputs_hidden": true
    },
    "scrolled": false
   },
   "outputs": [],
   "source": [
    "# # Print the recommended items for each user\n",
    "# for uid, user_ratings in top_n.items():\n",
    "#     print(uid, [iid for (iid, _) in user_ratings])"
   ]
  },
  {
   "cell_type": "markdown",
   "metadata": {},
   "source": [
    "Prepare data to save it in a file:"
   ]
  },
  {
   "cell_type": "code",
   "execution_count": 29,
   "metadata": {},
   "outputs": [],
   "source": [
    "df_top_n = pd.DataFrame.from_dict(top_n, orient='index',columns=['r0','r1', 'r2', 'r3', 'r4', 'r5', 'r6', 'r7', 'r8', 'r9'])"
   ]
  },
  {
   "cell_type": "code",
   "execution_count": 30,
   "metadata": {},
   "outputs": [],
   "source": [
    "df_top_n.reset_index(inplace=True)\n",
    "df_top_n = df_top_n.rename(columns = {'index':'user_id'})\n",
    "\n"
   ]
  },
  {
   "cell_type": "code",
   "execution_count": 31,
   "metadata": {},
   "outputs": [
    {
     "data": {
      "text/html": [
       "<div>\n",
       "<style scoped>\n",
       "    .dataframe tbody tr th:only-of-type {\n",
       "        vertical-align: middle;\n",
       "    }\n",
       "\n",
       "    .dataframe tbody tr th {\n",
       "        vertical-align: top;\n",
       "    }\n",
       "\n",
       "    .dataframe thead th {\n",
       "        text-align: right;\n",
       "    }\n",
       "</style>\n",
       "<table border=\"1\" class=\"dataframe\">\n",
       "  <thead>\n",
       "    <tr style=\"text-align: right;\">\n",
       "      <th></th>\n",
       "      <th>user_id</th>\n",
       "      <th>r0</th>\n",
       "      <th>r1</th>\n",
       "      <th>r2</th>\n",
       "      <th>r3</th>\n",
       "      <th>r4</th>\n",
       "      <th>r5</th>\n",
       "      <th>r6</th>\n",
       "      <th>r7</th>\n",
       "      <th>r8</th>\n",
       "      <th>r9</th>\n",
       "    </tr>\n",
       "  </thead>\n",
       "  <tbody>\n",
       "    <tr>\n",
       "      <th>0</th>\n",
       "      <td>1005ABAA83773778AB2A4BAAFE443901</td>\n",
       "      <td>(122703, 4.653027775457761)</td>\n",
       "      <td>(225105, 4.606014718064553)</td>\n",
       "      <td>(2322597, 4.582768151464954)</td>\n",
       "      <td>(93566, 4.578219377218268)</td>\n",
       "      <td>(1845691, 4.572132881875242)</td>\n",
       "      <td>(113298, 4.559498166442731)</td>\n",
       "      <td>(1152288, 4.553114134950205)</td>\n",
       "      <td>(93614, 4.5241067373789)</td>\n",
       "      <td>(80983, 4.5174483146311655)</td>\n",
       "      <td>(87632, 4.506257276003329)</td>\n",
       "    </tr>\n",
       "    <tr>\n",
       "      <th>1</th>\n",
       "      <td>FD711E1ED5A2DA3F69425CDD77A80E5A</td>\n",
       "      <td>(1737951, 4.903047863416015)</td>\n",
       "      <td>(93566, 4.8515543495237425)</td>\n",
       "      <td>(576787, 4.8369874063461324)</td>\n",
       "      <td>(112052, 4.816987366379849)</td>\n",
       "      <td>(2322597, 4.806564009022393)</td>\n",
       "      <td>(1152288, 4.775123532832111)</td>\n",
       "      <td>(781627, 4.773410290507592)</td>\n",
       "      <td>(1175274, 4.770438828936486)</td>\n",
       "      <td>(76049, 4.764822274040241)</td>\n",
       "      <td>(674283, 4.743954010750505)</td>\n",
       "    </tr>\n",
       "    <tr>\n",
       "      <th>2</th>\n",
       "      <td>A12D74E5CFC1564773D7C48B490DBE54</td>\n",
       "      <td>(1845691, 4.952348834807001)</td>\n",
       "      <td>(93566, 4.948478837442839)</td>\n",
       "      <td>(80983, 4.929585290337498)</td>\n",
       "      <td>(674283, 4.915048956789352)</td>\n",
       "      <td>(634696, 4.896986048229166)</td>\n",
       "      <td>(1516481, 4.891561694019887)</td>\n",
       "      <td>(613399, 4.891278514006515)</td>\n",
       "      <td>(208454, 4.888879568314063)</td>\n",
       "      <td>(259593, 4.884802679946161)</td>\n",
       "      <td>(111408, 4.882731365701609)</td>\n",
       "    </tr>\n",
       "    <tr>\n",
       "      <th>3</th>\n",
       "      <td>3D693454C428B1D6E5458ACC210F9695</td>\n",
       "      <td>(122703, 5)</td>\n",
       "      <td>(1516481, 4.991065905707713)</td>\n",
       "      <td>(225105, 4.977778664575774)</td>\n",
       "      <td>(2322597, 4.937925585641548)</td>\n",
       "      <td>(89585, 4.928546813698281)</td>\n",
       "      <td>(93566, 4.9101664252785575)</td>\n",
       "      <td>(80983, 4.9038847028062555)</td>\n",
       "      <td>(288617, 4.900853942472671)</td>\n",
       "      <td>(1485961, 4.889972832525037)</td>\n",
       "      <td>(113298, 4.883249938334445)</td>\n",
       "    </tr>\n",
       "    <tr>\n",
       "      <th>4</th>\n",
       "      <td>771E3C17495EE9D080AF87EB2504161F</td>\n",
       "      <td>(113298, 5)</td>\n",
       "      <td>(107836, 5)</td>\n",
       "      <td>(1516481, 5)</td>\n",
       "      <td>(674283, 5)</td>\n",
       "      <td>(96735, 5)</td>\n",
       "      <td>(112273, 5)</td>\n",
       "      <td>(781627, 5)</td>\n",
       "      <td>(122703, 5)</td>\n",
       "      <td>(574449, 5)</td>\n",
       "      <td>(576787, 5)</td>\n",
       "    </tr>\n",
       "  </tbody>\n",
       "</table>\n",
       "</div>"
      ],
      "text/plain": [
       "                            user_id                            r0  \\\n",
       "0  1005ABAA83773778AB2A4BAAFE443901   (122703, 4.653027775457761)   \n",
       "1  FD711E1ED5A2DA3F69425CDD77A80E5A  (1737951, 4.903047863416015)   \n",
       "2  A12D74E5CFC1564773D7C48B490DBE54  (1845691, 4.952348834807001)   \n",
       "3  3D693454C428B1D6E5458ACC210F9695                   (122703, 5)   \n",
       "4  771E3C17495EE9D080AF87EB2504161F                   (113298, 5)   \n",
       "\n",
       "                             r1                            r2  \\\n",
       "0   (225105, 4.606014718064553)  (2322597, 4.582768151464954)   \n",
       "1   (93566, 4.8515543495237425)  (576787, 4.8369874063461324)   \n",
       "2    (93566, 4.948478837442839)    (80983, 4.929585290337498)   \n",
       "3  (1516481, 4.991065905707713)   (225105, 4.977778664575774)   \n",
       "4                   (107836, 5)                  (1516481, 5)   \n",
       "\n",
       "                             r3                            r4  \\\n",
       "0    (93566, 4.578219377218268)  (1845691, 4.572132881875242)   \n",
       "1   (112052, 4.816987366379849)  (2322597, 4.806564009022393)   \n",
       "2   (674283, 4.915048956789352)   (634696, 4.896986048229166)   \n",
       "3  (2322597, 4.937925585641548)    (89585, 4.928546813698281)   \n",
       "4                   (674283, 5)                    (96735, 5)   \n",
       "\n",
       "                             r5                            r6  \\\n",
       "0   (113298, 4.559498166442731)  (1152288, 4.553114134950205)   \n",
       "1  (1152288, 4.775123532832111)   (781627, 4.773410290507592)   \n",
       "2  (1516481, 4.891561694019887)   (613399, 4.891278514006515)   \n",
       "3   (93566, 4.9101664252785575)   (80983, 4.9038847028062555)   \n",
       "4                   (112273, 5)                   (781627, 5)   \n",
       "\n",
       "                             r7                            r8  \\\n",
       "0      (93614, 4.5241067373789)   (80983, 4.5174483146311655)   \n",
       "1  (1175274, 4.770438828936486)    (76049, 4.764822274040241)   \n",
       "2   (208454, 4.888879568314063)   (259593, 4.884802679946161)   \n",
       "3   (288617, 4.900853942472671)  (1485961, 4.889972832525037)   \n",
       "4                   (122703, 5)                   (574449, 5)   \n",
       "\n",
       "                            r9  \n",
       "0   (87632, 4.506257276003329)  \n",
       "1  (674283, 4.743954010750505)  \n",
       "2  (111408, 4.882731365701609)  \n",
       "3  (113298, 4.883249938334445)  \n",
       "4                  (576787, 5)  "
      ]
     },
     "execution_count": 31,
     "metadata": {},
     "output_type": "execute_result"
    }
   ],
   "source": [
    "df_top_n.head()"
   ]
  },
  {
   "cell_type": "code",
   "execution_count": 32,
   "metadata": {},
   "outputs": [],
   "source": [
    "df_top_n.dropna(inplace=True)"
   ]
  },
  {
   "cell_type": "code",
   "execution_count": 33,
   "metadata": {},
   "outputs": [],
   "source": [
    "df_top_n['r0']=df_top_n.r0.map(lambda x: x[0])\n",
    "df_top_n['r1']=df_top_n.r1.map(lambda x: x[0])\n",
    "df_top_n['r2']=df_top_n.r2.map(lambda x: x[0])\n",
    "df_top_n['r3']=df_top_n.r3.map(lambda x: x[0])\n",
    "df_top_n['r4']=df_top_n.r4.map(lambda x: x[0])\n",
    "df_top_n['r5']=df_top_n.r5.map(lambda x: x[0])\n",
    "df_top_n['r6']=df_top_n.r6.map(lambda x: x[0])\n",
    "df_top_n['r7']=df_top_n.r7.map(lambda x: x[0])\n",
    "df_top_n['r8']=df_top_n.r8.map(lambda x: x[0])\n",
    "df_top_n['r9']=df_top_n.r9.map(lambda x: x[0])"
   ]
  },
  {
   "cell_type": "code",
   "execution_count": 34,
   "metadata": {},
   "outputs": [
    {
     "data": {
      "text/html": [
       "<div>\n",
       "<style scoped>\n",
       "    .dataframe tbody tr th:only-of-type {\n",
       "        vertical-align: middle;\n",
       "    }\n",
       "\n",
       "    .dataframe tbody tr th {\n",
       "        vertical-align: top;\n",
       "    }\n",
       "\n",
       "    .dataframe thead th {\n",
       "        text-align: right;\n",
       "    }\n",
       "</style>\n",
       "<table border=\"1\" class=\"dataframe\">\n",
       "  <thead>\n",
       "    <tr style=\"text-align: right;\">\n",
       "      <th></th>\n",
       "      <th>user_id</th>\n",
       "      <th>r0</th>\n",
       "      <th>r1</th>\n",
       "      <th>r2</th>\n",
       "      <th>r3</th>\n",
       "      <th>r4</th>\n",
       "      <th>r5</th>\n",
       "      <th>r6</th>\n",
       "      <th>r7</th>\n",
       "      <th>r8</th>\n",
       "      <th>r9</th>\n",
       "    </tr>\n",
       "  </thead>\n",
       "  <tbody>\n",
       "    <tr>\n",
       "      <th>0</th>\n",
       "      <td>1005ABAA83773778AB2A4BAAFE443901</td>\n",
       "      <td>122703</td>\n",
       "      <td>225105</td>\n",
       "      <td>2322597</td>\n",
       "      <td>93566</td>\n",
       "      <td>1845691</td>\n",
       "      <td>113298</td>\n",
       "      <td>1152288</td>\n",
       "      <td>93614</td>\n",
       "      <td>80983</td>\n",
       "      <td>87632</td>\n",
       "    </tr>\n",
       "    <tr>\n",
       "      <th>1</th>\n",
       "      <td>FD711E1ED5A2DA3F69425CDD77A80E5A</td>\n",
       "      <td>1737951</td>\n",
       "      <td>93566</td>\n",
       "      <td>576787</td>\n",
       "      <td>112052</td>\n",
       "      <td>2322597</td>\n",
       "      <td>1152288</td>\n",
       "      <td>781627</td>\n",
       "      <td>1175274</td>\n",
       "      <td>76049</td>\n",
       "      <td>674283</td>\n",
       "    </tr>\n",
       "    <tr>\n",
       "      <th>2</th>\n",
       "      <td>A12D74E5CFC1564773D7C48B490DBE54</td>\n",
       "      <td>1845691</td>\n",
       "      <td>93566</td>\n",
       "      <td>80983</td>\n",
       "      <td>674283</td>\n",
       "      <td>634696</td>\n",
       "      <td>1516481</td>\n",
       "      <td>613399</td>\n",
       "      <td>208454</td>\n",
       "      <td>259593</td>\n",
       "      <td>111408</td>\n",
       "    </tr>\n",
       "    <tr>\n",
       "      <th>3</th>\n",
       "      <td>3D693454C428B1D6E5458ACC210F9695</td>\n",
       "      <td>122703</td>\n",
       "      <td>1516481</td>\n",
       "      <td>225105</td>\n",
       "      <td>2322597</td>\n",
       "      <td>89585</td>\n",
       "      <td>93566</td>\n",
       "      <td>80983</td>\n",
       "      <td>288617</td>\n",
       "      <td>1485961</td>\n",
       "      <td>113298</td>\n",
       "    </tr>\n",
       "    <tr>\n",
       "      <th>4</th>\n",
       "      <td>771E3C17495EE9D080AF87EB2504161F</td>\n",
       "      <td>113298</td>\n",
       "      <td>107836</td>\n",
       "      <td>1516481</td>\n",
       "      <td>674283</td>\n",
       "      <td>96735</td>\n",
       "      <td>112273</td>\n",
       "      <td>781627</td>\n",
       "      <td>122703</td>\n",
       "      <td>574449</td>\n",
       "      <td>576787</td>\n",
       "    </tr>\n",
       "    <tr>\n",
       "      <th>...</th>\n",
       "      <td>...</td>\n",
       "      <td>...</td>\n",
       "      <td>...</td>\n",
       "      <td>...</td>\n",
       "      <td>...</td>\n",
       "      <td>...</td>\n",
       "      <td>...</td>\n",
       "      <td>...</td>\n",
       "      <td>...</td>\n",
       "      <td>...</td>\n",
       "      <td>...</td>\n",
       "    </tr>\n",
       "    <tr>\n",
       "      <th>7189</th>\n",
       "      <td>BEDA3909A6EE531E14353DF03C415AF3</td>\n",
       "      <td>93566</td>\n",
       "      <td>87632</td>\n",
       "      <td>674283</td>\n",
       "      <td>122703</td>\n",
       "      <td>80983</td>\n",
       "      <td>576787</td>\n",
       "      <td>777199</td>\n",
       "      <td>2322597</td>\n",
       "      <td>84117</td>\n",
       "      <td>94344</td>\n",
       "    </tr>\n",
       "    <tr>\n",
       "      <th>7190</th>\n",
       "      <td>BF7773D1C56DF2F66F695DF660EDD70E</td>\n",
       "      <td>225105</td>\n",
       "      <td>674283</td>\n",
       "      <td>93566</td>\n",
       "      <td>1516481</td>\n",
       "      <td>89585</td>\n",
       "      <td>1152288</td>\n",
       "      <td>122703</td>\n",
       "      <td>87632</td>\n",
       "      <td>224953</td>\n",
       "      <td>1845691</td>\n",
       "    </tr>\n",
       "    <tr>\n",
       "      <th>7191</th>\n",
       "      <td>86AA28E95FF56349EB9B4309E292C294</td>\n",
       "      <td>93566</td>\n",
       "      <td>1845691</td>\n",
       "      <td>111408</td>\n",
       "      <td>1152288</td>\n",
       "      <td>634696</td>\n",
       "      <td>674283</td>\n",
       "      <td>84117</td>\n",
       "      <td>576787</td>\n",
       "      <td>1199588</td>\n",
       "      <td>84090</td>\n",
       "    </tr>\n",
       "    <tr>\n",
       "      <th>7192</th>\n",
       "      <td>9EC19CA14621FBFFF3A486BEDEF0876D</td>\n",
       "      <td>1199588</td>\n",
       "      <td>93566</td>\n",
       "      <td>781627</td>\n",
       "      <td>576787</td>\n",
       "      <td>84065</td>\n",
       "      <td>674283</td>\n",
       "      <td>286542</td>\n",
       "      <td>89585</td>\n",
       "      <td>1845691</td>\n",
       "      <td>1415082</td>\n",
       "    </tr>\n",
       "    <tr>\n",
       "      <th>7193</th>\n",
       "      <td>E810C7DE395924F731A5E445D4B52D5C</td>\n",
       "      <td>1152288</td>\n",
       "      <td>93566</td>\n",
       "      <td>2322597</td>\n",
       "      <td>224224</td>\n",
       "      <td>225105</td>\n",
       "      <td>224948</td>\n",
       "      <td>87632</td>\n",
       "      <td>576787</td>\n",
       "      <td>781627</td>\n",
       "      <td>113298</td>\n",
       "    </tr>\n",
       "  </tbody>\n",
       "</table>\n",
       "<p>7194 rows × 11 columns</p>\n",
       "</div>"
      ],
      "text/plain": [
       "                               user_id       r0       r1       r2       r3  \\\n",
       "0     1005ABAA83773778AB2A4BAAFE443901   122703   225105  2322597    93566   \n",
       "1     FD711E1ED5A2DA3F69425CDD77A80E5A  1737951    93566   576787   112052   \n",
       "2     A12D74E5CFC1564773D7C48B490DBE54  1845691    93566    80983   674283   \n",
       "3     3D693454C428B1D6E5458ACC210F9695   122703  1516481   225105  2322597   \n",
       "4     771E3C17495EE9D080AF87EB2504161F   113298   107836  1516481   674283   \n",
       "...                                ...      ...      ...      ...      ...   \n",
       "7189  BEDA3909A6EE531E14353DF03C415AF3    93566    87632   674283   122703   \n",
       "7190  BF7773D1C56DF2F66F695DF660EDD70E   225105   674283    93566  1516481   \n",
       "7191  86AA28E95FF56349EB9B4309E292C294    93566  1845691   111408  1152288   \n",
       "7192  9EC19CA14621FBFFF3A486BEDEF0876D  1199588    93566   781627   576787   \n",
       "7193  E810C7DE395924F731A5E445D4B52D5C  1152288    93566  2322597   224224   \n",
       "\n",
       "           r4       r5       r6       r7       r8       r9  \n",
       "0     1845691   113298  1152288    93614    80983    87632  \n",
       "1     2322597  1152288   781627  1175274    76049   674283  \n",
       "2      634696  1516481   613399   208454   259593   111408  \n",
       "3       89585    93566    80983   288617  1485961   113298  \n",
       "4       96735   112273   781627   122703   574449   576787  \n",
       "...       ...      ...      ...      ...      ...      ...  \n",
       "7189    80983   576787   777199  2322597    84117    94344  \n",
       "7190    89585  1152288   122703    87632   224953  1845691  \n",
       "7191   634696   674283    84117   576787  1199588    84090  \n",
       "7192    84065   674283   286542    89585  1845691  1415082  \n",
       "7193   225105   224948    87632   576787   781627   113298  \n",
       "\n",
       "[7194 rows x 11 columns]"
      ]
     },
     "execution_count": 34,
     "metadata": {},
     "output_type": "execute_result"
    }
   ],
   "source": [
    "df_top_n"
   ]
  },
  {
   "cell_type": "code",
   "execution_count": 35,
   "metadata": {},
   "outputs": [],
   "source": [
    "#create dataframe to get all users names\n",
    "df_users = df_union.copy()\n",
    "df_users.drop_duplicates(subset=['id'], inplace = True)"
   ]
  },
  {
   "cell_type": "code",
   "execution_count": 36,
   "metadata": {},
   "outputs": [],
   "source": [
    "rid_to_name_users = pd.Series(df_users.username.values,index=df_users.id).to_dict()\n",
    "def to_usernames(row):\n",
    "    return rid_to_name_users[row[\"user_id\"]]\n",
    "\n",
    "df_top_n['user_id'] = df_top_n.apply(to_usernames, axis=1)"
   ]
  },
  {
   "cell_type": "code",
   "execution_count": 37,
   "metadata": {},
   "outputs": [],
   "source": [
    "df_top_n.to_csv('df_top_n.csv', index = False)"
   ]
  },
  {
   "cell_type": "markdown",
   "metadata": {},
   "source": [
    "# 10 top similar hotels (KNN)"
   ]
  },
  {
   "cell_type": "markdown",
   "metadata": {},
   "source": [
    "Create new dataframe 'df_offering_small' that contain information only about hotel in 'df_surprise'"
   ]
  },
  {
   "cell_type": "code",
   "execution_count": 38,
   "metadata": {},
   "outputs": [],
   "source": [
    "df_offering = pd.read_csv('/Users/albinasitdikova/Project_5/df_offering.csv')"
   ]
  },
  {
   "cell_type": "code",
   "execution_count": 39,
   "metadata": {},
   "outputs": [],
   "source": [
    "df_offering = df_offering.rename(columns={'id': 'offering_id'})"
   ]
  },
  {
   "cell_type": "code",
   "execution_count": 40,
   "metadata": {},
   "outputs": [],
   "source": [
    "df_offering['offering_id'] = df_offering['offering_id'].astype(int)"
   ]
  },
  {
   "cell_type": "code",
   "execution_count": 41,
   "metadata": {},
   "outputs": [],
   "source": [
    "df_offering_small = pd.merge(df_surprise, df_offering,how=\"inner\", on=[\"offering_id\"])"
   ]
  },
  {
   "cell_type": "code",
   "execution_count": 42,
   "metadata": {},
   "outputs": [],
   "source": [
    "df_offering_small.drop(columns=['id', 'overall'], inplace=True)"
   ]
  },
  {
   "cell_type": "code",
   "execution_count": 43,
   "metadata": {},
   "outputs": [],
   "source": [
    "df_offering_small.drop_duplicates(inplace=True)"
   ]
  },
  {
   "cell_type": "code",
   "execution_count": 44,
   "metadata": {},
   "outputs": [],
   "source": [
    "df_offering_small = df_offering_small.rename(columns={'offering_id': 'id'})"
   ]
  },
  {
   "cell_type": "code",
   "execution_count": 45,
   "metadata": {},
   "outputs": [
    {
     "data": {
      "text/html": [
       "<div>\n",
       "<style scoped>\n",
       "    .dataframe tbody tr th:only-of-type {\n",
       "        vertical-align: middle;\n",
       "    }\n",
       "\n",
       "    .dataframe tbody tr th {\n",
       "        vertical-align: top;\n",
       "    }\n",
       "\n",
       "    .dataframe thead th {\n",
       "        text-align: right;\n",
       "    }\n",
       "</style>\n",
       "<table border=\"1\" class=\"dataframe\">\n",
       "  <thead>\n",
       "    <tr style=\"text-align: right;\">\n",
       "      <th></th>\n",
       "      <th>id</th>\n",
       "      <th>hotel_class</th>\n",
       "      <th>region_id</th>\n",
       "      <th>url</th>\n",
       "      <th>phone</th>\n",
       "      <th>details</th>\n",
       "      <th>type</th>\n",
       "      <th>name</th>\n",
       "      <th>region</th>\n",
       "      <th>street-address</th>\n",
       "      <th>postal-code</th>\n",
       "      <th>locality</th>\n",
       "    </tr>\n",
       "  </thead>\n",
       "  <tbody>\n",
       "    <tr>\n",
       "      <th>0</th>\n",
       "      <td>93338</td>\n",
       "      <td>3.0</td>\n",
       "      <td>60763</td>\n",
       "      <td>http://www.tripadvisor.com/Hotel_Review-g60763...</td>\n",
       "      <td>NaN</td>\n",
       "      <td>NaN</td>\n",
       "      <td>hotel</td>\n",
       "      <td>Hotel Beacon</td>\n",
       "      <td>NY</td>\n",
       "      <td>2130 Broadway at 75th Street</td>\n",
       "      <td>10023</td>\n",
       "      <td>New York City</td>\n",
       "    </tr>\n",
       "    <tr>\n",
       "      <th>56</th>\n",
       "      <td>1762573</td>\n",
       "      <td>4.0</td>\n",
       "      <td>60763</td>\n",
       "      <td>http://www.tripadvisor.com/Hotel_Review-g60763...</td>\n",
       "      <td>NaN</td>\n",
       "      <td>NaN</td>\n",
       "      <td>hotel</td>\n",
       "      <td>Andaz 5th Avenue</td>\n",
       "      <td>NY</td>\n",
       "      <td>485 5th Avenue</td>\n",
       "      <td>10017</td>\n",
       "      <td>New York City</td>\n",
       "    </tr>\n",
       "    <tr>\n",
       "      <th>118</th>\n",
       "      <td>1776857</td>\n",
       "      <td>5.0</td>\n",
       "      <td>60763</td>\n",
       "      <td>http://www.tripadvisor.com/Hotel_Review-g60763...</td>\n",
       "      <td>NaN</td>\n",
       "      <td>NaN</td>\n",
       "      <td>hotel</td>\n",
       "      <td>The Setai Fifth Avenue, a Capella managed Hotel</td>\n",
       "      <td>NY</td>\n",
       "      <td>400 Fifth Avenue</td>\n",
       "      <td>10018</td>\n",
       "      <td>New York City</td>\n",
       "    </tr>\n",
       "    <tr>\n",
       "      <th>151</th>\n",
       "      <td>1641016</td>\n",
       "      <td>5.0</td>\n",
       "      <td>60763</td>\n",
       "      <td>http://www.tripadvisor.com/Hotel_Review-g60763...</td>\n",
       "      <td>NaN</td>\n",
       "      <td>NaN</td>\n",
       "      <td>hotel</td>\n",
       "      <td>The Chatwal</td>\n",
       "      <td>NY</td>\n",
       "      <td>130 West 44th Street</td>\n",
       "      <td>10036</td>\n",
       "      <td>New York City</td>\n",
       "    </tr>\n",
       "    <tr>\n",
       "      <th>181</th>\n",
       "      <td>1456560</td>\n",
       "      <td>4.0</td>\n",
       "      <td>60763</td>\n",
       "      <td>http://www.tripadvisor.com/Hotel_Review-g60763...</td>\n",
       "      <td>NaN</td>\n",
       "      <td>NaN</td>\n",
       "      <td>hotel</td>\n",
       "      <td>Eventi - a Kimpton Hotel</td>\n",
       "      <td>NY</td>\n",
       "      <td>851 Avenue of the Americas (Sixth Avenue)</td>\n",
       "      <td>10001</td>\n",
       "      <td>New York City</td>\n",
       "    </tr>\n",
       "  </tbody>\n",
       "</table>\n",
       "</div>"
      ],
      "text/plain": [
       "          id  hotel_class  region_id  \\\n",
       "0      93338          3.0      60763   \n",
       "56   1762573          4.0      60763   \n",
       "118  1776857          5.0      60763   \n",
       "151  1641016          5.0      60763   \n",
       "181  1456560          4.0      60763   \n",
       "\n",
       "                                                   url  phone  details   type  \\\n",
       "0    http://www.tripadvisor.com/Hotel_Review-g60763...    NaN      NaN  hotel   \n",
       "56   http://www.tripadvisor.com/Hotel_Review-g60763...    NaN      NaN  hotel   \n",
       "118  http://www.tripadvisor.com/Hotel_Review-g60763...    NaN      NaN  hotel   \n",
       "151  http://www.tripadvisor.com/Hotel_Review-g60763...    NaN      NaN  hotel   \n",
       "181  http://www.tripadvisor.com/Hotel_Review-g60763...    NaN      NaN  hotel   \n",
       "\n",
       "                                                name region  \\\n",
       "0                                       Hotel Beacon     NY   \n",
       "56                                  Andaz 5th Avenue     NY   \n",
       "118  The Setai Fifth Avenue, a Capella managed Hotel     NY   \n",
       "151                                      The Chatwal     NY   \n",
       "181                         Eventi - a Kimpton Hotel     NY   \n",
       "\n",
       "                                street-address postal-code       locality  \n",
       "0                 2130 Broadway at 75th Street       10023  New York City  \n",
       "56                              485 5th Avenue       10017  New York City  \n",
       "118                           400 Fifth Avenue       10018  New York City  \n",
       "151                       130 West 44th Street       10036  New York City  \n",
       "181  851 Avenue of the Americas (Sixth Avenue)       10001  New York City  "
      ]
     },
     "execution_count": 45,
     "metadata": {},
     "output_type": "execute_result"
    }
   ],
   "source": [
    "df_offering_small.head()"
   ]
  },
  {
   "cell_type": "code",
   "execution_count": 46,
   "metadata": {},
   "outputs": [],
   "source": [
    "def read_item_names(df_offering_small):\n",
    "    \"\"\"Read dataframe and return two\n",
    "    mappings to convert raw ids into hotel names and hotel names into raw ids.\n",
    "    \"\"\"\n",
    "\n",
    "    rid_to_name = {}\n",
    "    name_to_rid = {}\n",
    "    \n",
    "    rid_to_name = pd.Series(df_offering_small.name.values,index=df_offering_small.id).to_dict()\n",
    "    name_to_rid = pd.Series(df_offering_small.id.values,index=df_offering_small.name).to_dict()\n",
    "\n",
    "    return rid_to_name, name_to_rid"
   ]
  },
  {
   "cell_type": "code",
   "execution_count": 47,
   "metadata": {},
   "outputs": [
    {
     "name": "stdout",
     "output_type": "stream",
     "text": [
      "Estimating biases using als...\n",
      "Computing the pearson_baseline similarity matrix...\n",
      "Done computing similarity matrix.\n"
     ]
    },
    {
     "data": {
      "text/plain": [
       "<surprise.prediction_algorithms.knns.KNNBaseline at 0x7fee7dd82700>"
      ]
     },
     "execution_count": 47,
     "metadata": {},
     "output_type": "execute_result"
    }
   ],
   "source": [
    "# First, train the algortihm to compute the similarities between items\n",
    "data_knn = Dataset.load_from_file(file_path, reader=reader)\n",
    "trainset_knn = data.build_full_trainset()\n",
    "sim_options_knn = {'name': 'pearson_baseline', 'user_based': False}\n",
    "algo_knn = KNNBaseline(sim_options=sim_options_knn)\n",
    "algo_knn.fit(trainset_knn)"
   ]
  },
  {
   "cell_type": "code",
   "execution_count": 48,
   "metadata": {},
   "outputs": [],
   "source": [
    "# Read the mappings raw id <-> hotel name\n",
    "rid_to_name, name_to_rid = read_item_names(df_offering_small)"
   ]
  },
  {
   "cell_type": "code",
   "execution_count": 49,
   "metadata": {
    "jupyter": {
     "outputs_hidden": true
    }
   },
   "outputs": [
    {
     "data": {
      "text/plain": [
       "dict_keys(['Hotel Beacon', 'Andaz 5th Avenue', 'The Setai Fifth Avenue, a Capella managed Hotel', 'The Chatwal', 'Eventi - a Kimpton Hotel', 'The Iroquois', 'San Carlos Hotel', 'Hilton Americas - Houston', 'Hilton Garden Inn Houston Energy Corridor', 'Four Seasons Hotel Houston', 'Hotel Icon, Autograph Collection', 'Omni Houston Hotel', 'Alden-Houston', 'Westin Galleria Houston Hotel', 'Renaissance Houston Hotel Greenway Plaza', 'Hampton Inn Houston - Near The Galleria', 'Marriott Houston Airport at George Bush Intercontinental', 'Holiday Inn Houston Intercontinental Airport', 'Sheraton North Houston at George Bush Intercontinental', 'DoubleTree by Hilton Houston Hobby Airport', 'Hilton Houston Southwest', 'Four Points by Sheraton Houston Southwest', 'Sheraton Suites Houston Near The Galleria', 'DoubleTree Suites by Hilton Houston by the Galleria', 'Hilton Houston Post Oak', 'Houston Marriott Medical Center', 'Doubletree Hotel Houston Downtown', 'Houston Marriott North', 'Westin Oaks Houston at the Galleria', 'JW Marriott Houston', 'Doubletree Houston Intercontinental Airport', 'Hyatt Regency Houston', 'Inn at the Ballpark', 'Club Quarters in Houston', 'Hilton Houston North', 'Homewood Suites Houston near the Galleria', 'Hotel ZaZa Houston', 'Indigo Houston at the Galleria', 'Sheraton Houston Brookhollow Hotel', 'The Ritz-Carlton New York, Central Park', 'Staybridge Suites Times Square - New York City', 'Houston Marriott West Loop by the Galleria', 'Sofitel New York', 'The Muse Hotel New York', 'The Michelangelo Hotel', 'Hilton Garden Inn Times Square', 'Residence Inn by Marriott Times Square New York', 'InterContinental New York Times Square', 'BEST WESTERN PLUS Seaport Inn Downtown', 'Aloft Harlem', 'Candlewood Suites New York City Times Square', 'Affinia Gardens', 'The Carlyle, A Rosewood Hotel', 'Gansevoort Park Avenue NYC', 'The Kimberly Hotel', 'Affinia Shelburne', 'Hampton Inn Manhattan / Times Square South', 'Hampton Inn Madison Square Garden', 'Hilton Garden Inn New York - Chelsea', 'Courtyard by Marriott New York Manhattan / Midtown East', 'Holiday Inn Midtown West 31st Street', 'On The Ave Hotel', 'Mondrian Soho', 'Washington Square Hotel', 'Le Parker Meridien', 'The Marcel at Gramercy', 'Wyndham Garden Hotel Manhattan, Chelsea West', 'Roger Smith Hotel', 'New York Marriott East Side', 'Hotel Belleclaire', 'Doubletree Hotel New York City-Financial District', 'Excelsior Hotel', 'Club Quarters Wall Street', 'Soho Grand Hotel', 'Cosmopolitan Hotel - Tribeca', 'W New York', 'Skyline Hotel', 'Paramount Hotel Times Square New York', 'Flatotel', 'Park 79 Hotel', 'Holiday Inn NYC - Manhattan 6th Avenue', 'Holiday Inn Midtown / 57th St', 'The Roosevelt Hotel', 'the Lexington', 'Hotel Pennsylvania New York', 'Park Central', 'Jolly Hotel Madison Towers', 'Milford Plaza Hotel', 'Days Inn Hotel New York City - Broadway', 'Beekman Tower Hotel', 'Hudson New York', 'Wellington Hotel', 'Courtyard by Marriott New York Manhattan / Upper East Side', 'The Manhattan at Times Square Hotel', 'Empire Hotel', 'The Time', 'Holiday Inn SoHo New York', 'Stay.', 'Edison Hotel Times Square', 'Club Quarters Midtown', 'Millennium Hotel Broadway', 'Hilton Manhattan East', 'La Quinta Inn Manhattan', 'Doubletree Hotel Metropolitan - New York City', 'The Alex Hotel', '60 Thompson - A Thompson Hotel', 'Dream New York', 'The Shoreham', 'The Mansfield', 'Holiday Inn Express New York City Fifth Ave', 'Washington Jefferson Hotel', 'Four Points by Sheraton Manhattan Chelsea', 'Hilton New York', 'Hotel Gansevoort', 'Tribeca Grand Hotel', 'Sheraton New York Times Square Hotel', 'Holiday Inn New York City - Wall Street', 'Holiday Inn Express NYC - Madison Square Garden', 'Doubletree Hotel Chelsea New York City', 'The Helmsley Park Lane', 'The Jane', 'Ramada Eastside', 'Grand Hyatt New York', 'Thompson LES - A Thompson Hotel', 'ONE UN New York', 'Hotel Newton', 'W New York - Downtown', 'Courtyard New York Manhattan/Fifth Avenue', 'Sheraton Tribeca New York Hotel', 'Hotel 17', 'Loews Regency Hotel', 'Waldorf Astoria New York', 'The GEM Hotel Chelsea', 'Room Mate Grace', 'The Standard High Line', 'Four Points by Sheraton Midtown - Times Square', 'Club Quarters, opposite Rockefeller Center', 'Fairfield Inn & Suites by Marriott New York Manhattan / Times Square', 'Carlton Hotel, Autograph Collection', 'Pod 51', 'Radisson Martinique on Broadway', 'Four Points by Sheraton Manhattan SoHo Village', 'Kitano New York', 'Eastgate Tower', 'Gild Hall - A Thompson Hotel', 'Renaissance New York Hotel 57', 'W New York - Union Square', 'nyma, the New York Manhattan Hotel', 'Novotel New York Times Square', '6 Columbus - A Thompson Hotel', 'St Giles Hotel - The Court New York', 'City Club Hotel', 'West 57th Street by Hilton Club', 'The New Yorker Hotel', 'Millenium Hilton', 'Algonquin Hotel Times Square, Autograph Collection', 'World Center Hotel', 'Hampton Inn 35th St. Empire State Building', 'JW Marriott Essex House New York', 'The Wall Street Inn', 'Affinia Manhattan', 'Park South Hotel', 'The Standard, East Village', 'The Belvedere', 'Dream Downtown', 'Hilton New York Fashion District', 'Broadway at Times Square Hotel', 'Club Quarters World Trade Center', 'Holiday Inn Express New York City Times Square', 'New York Marriott Downtown', 'InterContinental New York Barclay', 'Affinia 50', 'Hotel on Rivington', 'Courtyard by Marriott New York Manhattan / Times Square South', 'Hotel Mela', 'The Westin New York at Times Square', 'Wingate by Wyndham Manhattan Midtown', 'Hilton Garden Inn New York/Tribeca', 'Hotel Indigo New York City, Chelsea', 'BEST WESTERN Bowery Hanbee Hotel', 'Salisbury Hotel', 'Ace Hotel NYC', 'Night Hotel', '70 park avenue hotel - a Kimpton Hotel', 'Hotel Plaza Athenee New York', 'The Plaza Hotel', 'Hampton Inn New York Seaport / Financial District', 'Crowne Plaza Times Square Manhattan', 'Warwick New York Hotel', 'Cassa Hotel & Residences', 'New York Marriott Marquis', 'Hampton Inn Manhattan-SoHo', 'The Benjamin', 'The Blakely New York', 'The Pierre, A Taj Hotel, New York', 'Royalton New York', 'Hyatt 48 Lex', 'The Lucerne Hotel', 'Smyth Hotel - A Thompson Hotel', 'Hampton Inn Manhattan Chelsea', 'W New York - Times Square', 'The James New York', 'The Peninsula New York', 'Hotel Metro', 'Mandarin Oriental, New York', 'Ritz-Carlton Battery Park', 'Four Seasons Hotel New York', 'Fitzpatrick Grand Central Hotel', 'Conrad New York', 'The New York Palace Hotel', 'YOTEL New York at Times Square West', 'Hotel Chandler', 'Affinia Dumont', 'The St. Regis New York', 'Omni Berkshire Place', 'Renaissance New York Hotel Times Square', 'Ink48 - a Kimpton Hotel', 'Morgans Hotel', 'Hilton Garden Inn New York West 35th', 'The Bowery Hotel', 'The Towers of the Waldorf Astoria', 'Hilton Times Square', 'Doubletree Guest Suites Times Square', 'The Hampton Inn Times Square North', 'The London NYC', 'Trump International Hotel and Tower', 'The Surrey', 'Sanctuary Hotel New York', 'Four Seasons Hotel Los Angeles at Beverly Hills', 'The St. Regis Houston', 'The Houstonian', 'Hotel Granduca', 'Magnolia Hotel Houston', 'Casablanca Hotel Times Square', 'Embassy Suites Houston Downtown', 'Crowne Plaza Houston River Oaks', 'W Chicago - City Center', 'The Westin Chicago River North', 'The Blackstone A Renaissance Hotel', 'Wyndham Blake Chicago', 'The Sutton Place Hotel', 'BEST WESTERN Plus Hawthorne Terrace Hotel', 'Springhill Suites Chicago Downtown / River North', 'Embassy Suites Hotel Chicago Downtown Lakefront', 'Hilton Garden Inn Chicago Downtown/Magnificent Mile', 'Swissotel Chicago', 'Residence Inn Chicago Downtown', 'Courtyard by Marriott Chicago Downtown', \"Chicago's Essex Inn\", 'BEST WESTERN Grant Park Hotel', 'Congress Plaza Hotel', 'Allerton Hotel', 'The Westin Michigan Avenue Chicago', 'Hotel Felix', 'Inn of Chicago Magnificent Mile, an Ascend Collection hotel', 'The Whitehall Hotel', 'The Tremont Chicago Hotel at Magnificent Mile', 'Hyatt Regency McCormick Place', 'Marriott Chicago Downtown Magnificent Mile', 'Hilton Chicago', \"Hilton Chicago O'Hare Airport\", 'Crowne Plaza Chicago Magnificent Mile', 'Crowne Plaza Chicago - The Metro', 'Hotel Cass, a Holiday Inn Express', 'W Chicago Lakeshore', 'River Hotel', 'Hilton Suites Chicago/Magnificent Mile', 'Fairmont Chicago Millennium Park', 'Club Quarters Chicago - Central Loop', 'Doubletree by Hilton Chicago Magnificent Mile', 'Holiday Inn Chicago - Mart Plaza', 'Raffaello Hotel', 'PUBLIC Chicago', 'InterContinental Chicago', 'Hyatt Regency Chicago', 'Millennium Knickerbocker Hotel Chicago', 'The Palmer House Hilton', 'Hotel Indigo Chicago Downtown Gold Coast', 'Hotel Sax Chicago', 'Embassy Suites Hotel Chicago Downtown', 'Renaissance Chicago Hotel', 'The Drake', 'Four Points by Sheraton Chicago Downtown / Magnificent Mile', 'Hard Rock Hotel Chicago', 'Days Inn Chicago', 'Hotel Allegro Chicago - a Kimpton Hotel', \"Renaissance Chicago O'Hare Suites Hotel\", 'Omni Chicago Hotel', 'Sheraton Chicago Hotel and Towers', 'MileNorth, A Chicago Hotel', 'Hotel 71, Wyndham Affiliate', 'The Silversmith Hotel & Suites', 'JW Marriott Chicago', 'theWit, a Doubletree Hotel', 'Residence Inn Chicago Downtown / River North', 'Homewood Suites by Hilton Chicago Downtown', 'Courtyard Chicago Downtown/Magnificent Mile', 'Fairfield Inn & Suites Chicago Downtown', 'James Chicago', 'Dana Hotel & Spa', 'Amalfi Hotel Chicago', 'Comfort Suites', 'Hampton Inn & Suites Chicago - Downtown', 'Radisson Blu Aqua Hotel', 'Sofitel Chicago Water Tower', 'Park Hyatt Chicago', 'Hotel Burnham - a Kimpton Hotel', 'The Ritz-Carlton Chicago (A Four Seasons Hotel)', 'Hampton Majestic Chicago Theatre District', 'The Peninsula Chicago', 'Four Seasons Hotel Chicago', 'Hotel Monaco Chicago - a Kimpton Hotel', 'Palomar Chicago, a Kimpton Hotel', 'The Talbott Hotel', 'Conrad Chicago', 'Hollywood Celebrity Hotel', 'Hilton Checkers Hotel - Los Angeles', 'Four Points by Sheraton Los Angeles International Airport', 'Sheraton Los Angeles Downtown Hotel', 'DoubleTree by Hilton Hotel Los Angeles Downtown', 'Millennium Biltmore Hotel Los Angeles', 'Radisson Hotel at Los Angeles Airport', 'The LA Hotel Downtown', 'Holiday Inn Los Angeles International Airport', 'Travelodge Hotel at LAX', 'Hollywood Hotel', 'Crowne Plaza Los Angeles International Airport Hotel', 'The Standard Downtown LA', 'Miyako Hotel Los Angeles', 'La Quinta Inn & Suites LAX', 'Hollywood Roosevelt Hotel - A Thompson Hotel', 'Hilton Los Angeles Airport', 'The Westin Los Angeles Airport', 'Crowne Plaza Beverly Hills', 'Sheraton Universal Hotel', 'The Westin Bonaventure Hotel & Suites', 'Holiday Inn Express Los Angeles-LAX Airport', 'Custom Hotel', 'Residence Inn by Marriott Beverly Hills', 'Renaissance Los Angeles Airport Hotel', 'Hyatt Regency Century Plaza', 'Embassy Suites LAX North', 'W Hollywood', 'Los Angeles Airport Marriott', 'InterContinental Los Angeles Century City', 'Sheraton Gateway Los Angeles', 'Hilton Los Angeles / Universal City', 'Hotel Angeleno', 'Waldorf Astoria Chicago', 'Trump International Hotel & Tower Chicago', 'Hilton Woodland Hills', 'W Los Angeles - Westwood', 'SLS Hotel at Beverly Hills', 'Luxe Sunset Boulevard Hotel', \"Beverly Garland's Holiday Inn\", 'JW Marriott Hotel Los Angeles at L.A. LIVE', 'Hotel Erwin, a Joie de Vivre hotel', 'Courtyard Los Angeles LAX/Century Boulevard', 'Hollywood Orchid Suites', 'Holiday Inn Express Hotel & Suites Hollywood Walk of Fame', 'Hotel Palomar Los Angeles - Westwood - a Kimpton Hotel', 'Sofitel Los Angeles', 'Hotel Bel-Air', 'Elan Hotel Los Angeles', 'Omni Los Angeles at California Plaza', 'The Mark', 'Magic Castle Hotel', 'Andaz Wall Street', 'The Nolitan Hotel', 'The Bryant Park Hotel', 'Distrikt Hotel', 'The Pearl Hotel', 'Trump SoHo New York', 'Greenwich Hotel', 'Hotel Palomar Philadelphia - a Kimpton Hotel', 'Le Meridien Philadelphia', 'Westin Philadelphia', 'Hampton Inn Philadelphia Convention Center', 'Loews Philadelphia Hotel', 'Courtyard Philadelphia Downtown', 'Latham Hotel', 'Hyatt at the Bellevue', 'Sheraton Philadelphia Society Hill Hotel', 'Holiday Inn Express Philadelphia Midtown', 'Doubletree by Hilton Philadelphia Center City', 'Radisson Plaza-Warwick Hotel Philadelphia', 'Ritz-Carlton Philadelphia', 'Hampton Inn Philadelphia International Airport', 'Four Points by Sheraton Philadelphia Airport', 'Four Points by Sheraton Philadelphia City Center', 'Sheraton Philadelphia University City Hotel', 'Renaissance Philadelphia Airport', 'Sheraton Suites Philadelphia Airport', 'Philadelphia Airport Marriott', 'Hilton Philadelphia Airport', 'aloft Philadelphia Airport', 'Embassy Suites Philadelphia - Center City', 'Holiday Inn Hotel Historic District Philadelphia', 'Sonesta Hotel Philadelphia', 'Crowne Plaza Philadelphia West', 'Hilton Garden Inn Philadelphia Center City', 'Club Quarters', 'Sheraton Philadelphia Downtown Hotel', 'Embassy Suites Philadelphia - Airport', \"Hyatt Regency Philadelphia at Penn's Landing\", 'Residence Inn Philadelphia Center City', 'Sofitel Philadelphia Hotel', 'Four Seasons Hotel Philadelphia', 'Omni Hotel at Independence Park', 'The Windsor Suites', 'Philadelphia Marriott Downtown', 'Hilton Inn at Penn', 'The Independent', 'Alexander Inn', 'Chelsea Pines Inn', 'The Rittenhouse Hotel', 'Rittenhouse 1715, A Boutique Hotel', 'Library Hotel', 'Hotel Giraffe', 'Hotel Elysee', 'Hotel Contessa', 'Hyatt Regency San Antonio', 'Rancho Bernardo Inn', 'Hotel Solamar - a Kimpton Hotel', 'The US Grant', 'Old Town Inn', 'Omni San Diego Hotel', 'BEST WESTERN PLUS Island Palms Hotel & Marina', 'Courtyard by Marriott San Diego Downtown', 'Sommerset Suites Hotel', 'Hard Rock Hotel San Diego', 'Palomar San Diego, A Kimpton Hotel', 'Residence Inn San Diego Mission Valley', 'Manchester Grand Hyatt San Diego', 'Hilton San Diego Resort & Spa', 'Hilton San Diego Gaslamp Quarter', 'BEST WESTERN PLUS Hacienda Hotel Old Town', 'Crowne Plaza Hotel San Diego - Mission Valley', 'San Diego Marriott Mission Valley', 'Porto Vista Hotel', 'Sheraton Mission Valley San Diego Hotel', 'BEST WESTERN Seven Seas', 'Doubletree Hotel San Diego Downtown', 'Hampton Inn San Diego - Downtown', 'Holiday Inn San Diego - On The Bay', 'Hilton San Diego Mission Valley', 'Sheraton Suites San Diego', 'San Diego Marriott Del Mar', 'Hyatt Regency Mission Bay', 'Hilton San Diego Airport/Harbor Island', 'Inn at the Park', 'Courtyard by Marriott San Diego Mission Valley/Hotel Circle', 'Hyatt Regency La Jolla', 'The Sheraton San Diego Hotel & Marina', 'Town and Country Resort Hotel', 'Doubletree Hotel San Diego/Del Mar', 'Catamaran Resort Hotel', 'W San Diego', 'Bahia Resort Hotel', 'BEST WESTERN PLUS Bayside Inn', 'Paradise Point Resort & Spa', 'The Sofia Hotel', 'The Westgate Hotel', 'DoubleTree by Hilton Hotel San Diego - Mission Valley', 'Humphreys Half Moon Inn & Suites', 'Embassy Suites San Diego Bay - Downtown', 'Courtyard San Diego Central', 'Hilton San Diego Bayfront', 'Andaz San Diego', 'Westin San Diego', 'Embassy Suites San Diego - La Jolla', 'BEST WESTERN Lamplighter Inn & Suites at SDSU', 'Bristol Hotel', 'San Diego Marriott Marquis & Marina', 'Hampton Inn San Diego Airport / SeaWorld', 'Embassy Suites Riverwalk', 'Drury Inn & Suites Riverwalk', 'Omni La Mansion del Rio', 'Hotel Valencia Riverwalk', 'Hampton Inn San Antonio Downtown (River Walk)', 'Hyatt Place San Antonio Airport', 'Marriott San Antonio Riverwalk', 'Holiday Inn San Antonio Downtown', 'Hilton San Antonio Hill Country Hotel & Spa', 'San Antonio Marriott Northwest', 'Hilton San Antonio Airport', 'DoubleTree Hotel San Antonio Airport', 'Crowne Plaza San Antonio Riverwalk', 'The Menger Hotel', 'Embassy Suites Hotel San Antonio Northwest / I-10', 'Aloft San Antonio Airport', 'Embassy Suites Hotel San Antonio International Airport', 'Omni San Antonio Hotel', 'Marriott Plaza San Antonio', 'Hyatt Place San Antonio/Riverwalk', 'Homewood Suites by Hilton San Antonio-Riverwalk/Downtown', 'Hilton Palacio del Rio', 'Courtyard San Antonio Riverwalk', 'Grand Hyatt San Antonio', 'Sheraton Gunter Hotel San Antonio', 'Hyatt Regency Hill Country Resort and Spa', 'San Antonio Marriott Rivercenter', 'Residence Inn San Diego Downtown/Gaslamp Quarter', 'Hotel Indigo San Diego Gaslamp Quarter', 'San Diego Marriott Gaslamp Quarter', 'Dolphin Motel', 'Courtyard by Marriott San Diego Airport/Liberty Station', 'Homewood Suites by Hilton San Diego/Del Mar', 'Pacific Terrace Hotel', 'Homewood Suites San Diego Airport - Liberty Station', 'Royal Palms Resort and Spa', 'The Grand Del Mar', 'Residence Inn San Antonio Downtown/Alamo Plaza', 'Drury Plaza Hotel Riverwalk', 'JW Marriott San Antonio Hill Country Resort & Spa', 'Westin La Cantera Hill Country Resort', 'Riverwalk Vista', 'The Westin Riverwalk', 'Mokara Hotel and Spa', 'Arizona Biltmore', \"The Clarendon Hotel - Phoenix's Urban Retreat\", 'Arizona Grand Resort & Spa', 'Pointe Hilton Squaw Peak Resort', 'Embassy Suites Phoenix Airport at 24th Street', 'Hilton Garden Inn Phoenix', 'Coast Phoenix Sky Harbor Hotel', 'Hilton Phoenix Airport', 'Hyatt Regency Phoenix', 'Marriott Phoenix Airport', 'Pointe Hilton Tapatio Cliffs Resort', 'Aloft Phoenix-Airport', 'The Ritz-Carlton Phoenix', 'DoubleTree Suites by Hilton Phoenix', 'Embassy Suites Hotel Phoenix Biltmore', 'Hilton Garden Inn Phoenix Airport North', 'Hilton Garden Inn Phoenix Airport', \"Marriott's Canyon Villas\", 'Westin Phoenix Downtown', 'Sheraton Phoenix Downtown Hotel', 'JW Marriott Desert Ridge Resort & Spa Phoenix', 'Sheraton Crescent Hotel', 'Omni Dallas Hotel at Park West', 'The Westin Galleria Dallas', 'Hotel Indigo Dallas Downtown', 'Hotel Lumen - a Kimpton Hotel', 'Hyatt Regency DFW', 'The Fairmont Dallas', 'Adolphus Hotel', 'Ritz-Carlton Dallas', 'Dallas Marriott Suites Medical/Market Center', 'Embassy Suites Hotel Dallas Love Field', 'Luxe Stoneleigh Hotel & Spa', 'Sheraton Suites Market Center', 'InterContinental Dallas', 'Springhill Suites Dallas Downtown West End', 'DoubleTree by Hilton Hotel Dallas - Campbell Centre', 'Crowne Plaza Dallas Market Center', 'Hilton Garden Inn Dallas/Market Center', 'Doubletree by Hilton Dallas Market Center', 'Dallas Addison Marriott Quorum By the Galleria', 'The Westin Park Central', 'Sheraton Dallas Hotel by the Galleria', 'Hilton Dallas Lincoln Centre', 'Hyatt Regency Dallas', 'Hilton Anatole', 'Hotel ZaZa Dallas', 'Aloft Dallas Downtown', 'Le Meridien Dallas by the Galleria', 'W Dallas Victory Hotel', 'Dallas Marriott City Center', 'Sheraton Dallas Hotel', 'Rosewood Crescent Hotel', 'The Magnolia Hotel Dallas', 'Renaissance Dallas Hotel', 'Omni Dallas Hotel', 'Warwick Melrose Hotel Dallas', 'The Joule, Dallas', 'Rosewood Mansion on Turtle Creek', 'Hotel Palomar Dallas - a Kimpton Hotel', 'Grand Hyatt DFW', 'Omni Jacksonville Hotel', 'Hyatt Regency Jacksonville Riverfront', 'Hyatt Place Jacksonville Airport', 'DoubleTree by Hilton San Jose', 'Holiday Inn San Jose-Airport', 'Fairfield Inn & Suites San Jose Airport', 'Four Points by Sheraton San Jose Downtown', 'San Jose Marriott', 'Moorpark Hotel', 'Hotel Valencia - Santana Row', 'Hilton San Jose', 'The Fairmont San Jose', 'The Driskill', 'Residence Inn Austin Downtown / Convention Center', 'The Orchard Hotel', 'Coventry Motor Inn', 'Hotel Vitale, a Joie de Vivre hotel', 'Hotel Monaco San Francisco - a Kimpton Hotel', 'Orchard Garden Hotel', 'Hotel Rex, a Joie de Vivre hotel', 'The Ritz-Carlton', 'Harbor Court Hotel - a Kimpton Hotel', 'Hotel Abri', 'Hotel Triton - a Kimpton Hotel', \"BEST WESTERN PLUS Tuscan Inn at Fisherman's Wharf\", 'Renaissance San Francisco Stanford Court Hotel', 'Columbus Motor Inn', 'Westin San Francisco Market Street', 'CLIFT San Francisco', 'The Stratford', 'Hilton San Francisco Financial District', 'Beresford Arms', 'The Westin St. Francis', 'Holiday Inn San Francisco Golden Gateway', 'The Opal San Francisco', 'Hotel Whitcomb', 'Holiday Inn Civic Center (San Francisco)', 'King George Hotel', 'Nob Hill Motor Inn', \"Hilton San Francisco Fisherman's Wharf\", 'Hotel Fusion', 'Holiday Inn San Francisco Fishermans Wharf', \"Radisson Hotel Fisherman's Wharf\", 'Hilton San Francisco Union Square', \"Marriott San Francisco Fisherman's Wharf\", 'Courtyard San Francisco Downtown', 'Villa Florence, A JRK Hotel', 'Hotel Adagio', 'Club Quarters San Francisco', 'Sir Francis Drake Hotel - a Kimpton Hotel', \"Sheraton Fisherman's Wharf Hotel\", 'Hyatt Regency San Francisco', 'San Francisco Marriott Marquis', 'Prescott Hotel - a Kimpton Hotel', \"Hyatt at Fisherman's Wharf\", 'The Mosser', 'Hotel Carlton, a Joie de Vivre hotel', 'Hotel Diva', 'Hotel Kabuki, a Joie de Vivre hotel', 'Baldwin Hotel', \"Holiday Inn Express Hotel & Suites San Francisco Fisherman's Wharf\", \"Courtyard by Marriott Fisherman's Wharf\", 'Palace Hotel', 'InterContinental Mark Hopkins San Francisco', 'Hotel Nikko San Francisco', 'Taj Campton Place', 'Hotel Tomo, a Joie de Vivre hotel', 'Serrano Hotel - a Kimpton Hotel', 'W San Francisco', 'San Francisco Marriott Union Square', 'JW Marriott San Francisco Union Square', 'Le Meridien San Francisco', 'Handlery Union Square Hotel', 'The Fairmont San Francisco', 'Parc 55 Wyndham', 'Grand Hyatt San Francisco', 'The Huntington Hotel & Nob Hill Spa', 'InterContinental San Francisco', 'Courtyard Austin Downtown/Convention Center', 'Barton Creek Resort & Spa', 'Embassy Suites Austin - Downtown/Town Lake Austin Texas', 'Radisson Hotel & Suites Austin Downtown', 'Holiday Inn Austin NW Plaza/Arboretum', 'Hyatt Place Austin North Central', 'DoubleTree by Hilton Austin - University Area', 'Hampton Inn Austin/Airport Area South', 'InterContinental Stephen F. Austin', 'Sheraton Austin at the Capitol', 'Holiday Inn Austin Town Lake', 'Hilton Garden Inn Austin Downtown/Convention Center', 'Renaissance Austin Hotel', 'Hyatt Regency Austin', 'Hilton Austin Airport', 'Hilton Austin', 'Austin Marriott South', 'Wyndham Garden Austin', 'Omni Austin at South Park', 'Doubletree by Hilton Austin', 'Embassy Suites Hotel Austin Central', 'Hampton Inn & Suites Austin Downtown', 'Chancellor Hotel on Union Square', 'Galleria Park, a Joie de Vivre hotel', 'St. Regis Hotel, San Francisco', 'Hotel Palomar San Francisco - a Kimpton Hotel', 'Omni Austin Hotel Downtown', 'Crowne Plaza Austin', 'Omni San Francisco Hotel', 'Four Seasons Hotel San Francisco', 'The Donatello Hotel', 'Argonaut Hotel - a Kimpton Hotel', 'Hotel Drisco', 'Conrad Indianapolis', 'Fairmont Heritage Place, Ghirardelli Square', 'Courtyard by Marriott Austin Airport', 'AT&T Executive Education and Conference Center', 'The Westin Austin at The Domain', 'W Austin', 'Four Seasons Hotel Austin', 'Hilton Garden Inn Indianapolis Downtown', 'Marriott Indianapolis Downtown', 'Crowne Plaza Indianapolis Downtown (Union Station)', 'Hilton Indianapolis North', 'Sheraton Indianapolis City Centre Hotel', 'University Place Conference Center & Hotel Indianapolis', 'The Westin Indianapolis', 'Embassy Suites Indianapolis - Downtown', 'Crowne Plaza Indianapolis Airport', 'Hyatt Regency Indianapolis', 'Hilton Indianapolis', 'Homewood Suites by Hilton Indianapolis-Downtown', 'Omni Severin Hotel', 'JW Marriott Indianapolis', 'Charlotte Marriott Executive Park', 'Westin Charlotte', 'Omni Charlotte Hotel', 'Embassy Suites Hotel Charlotte', 'Sheraton Charlotte Airport Hotel', 'Hilton Charlotte Center City', 'Charlotte Marriott City Center', 'Charlotte Marriott SouthPark', 'The Westin Detroit Metropolitan Airport', 'Marriott Detroit Airport', 'Detroit Marriott at the Renaissance Center', 'Hilton Garden Inn Detroit Downtown', 'Doubletree by Hilton Detroit Downtown - Fort Shelby', 'MGM Grand Detroit', 'Doubletree by Hilton Hotel Detroit-Dearborn', 'The Westin Book Cadillac Detroit', 'The Blackwell', 'Renaissance Charlotte Suites', 'Renaissance Charlotte SouthPark Hotel', 'The Ballantyne Hotel and Lodge', 'The Ritz-Carlton, Charlotte', 'Hilton Charlotte University Place', 'Courtyard by Marriott Fort Worth Downtown/Blackstone', 'Sheraton Fort Worth Hotel and Spa', 'Renaissance Worthington Hotel Fort Worth', 'HYATT house Charlotte Center City', 'Marriott Hotel & Golf Club at Champions Circle', 'Hilton Fort Worth', 'Omni Fort Worth Hotel', 'Embassy Suites Fort Worth Downtown', 'Hyatt Regency Columbus', 'Sheraton Suites Columbus', 'DoubleTree Suites by Hilton Hotel Columbus Downtown', 'Crowne Plaza Columbus North', 'Renaissance Columbus Downtown Hotel', 'Doubletree Hotel Columbus Worthington', 'The Westin Columbus', 'Hilton Garden Inn Columbus Airport', 'Crowne Plaza Columbus Downtown', 'Four Points by Sheraton Columbus Ohio Airport', 'Hilton Columbus at Easton', 'Hyatt Place El Paso Airport', 'Embassy Suites Columbus - Airport', 'Hilton Columbus/Polaris', 'Hampton Inn and Suites Columbus Downtown', 'The Peabody Memphis', 'Embassy Suites Memphis', 'The Westin Memphis Beale Street', 'Hampton Inn & Suites Seattle Downtown', 'The Westin Seattle', 'SpringHill Suites Seattle Downtown/South Lake Union', 'Renaissance Seattle Hotel', 'Hilton Seattle Airport & Conference Center', 'Warwick Seattle Hotel', 'Marriott Seattle Sea-Tac Airport', 'Hotel Max', 'Doubletree by Hilton Seattle Airport', 'W Seattle', 'Holiday Inn Express Seattle City Center', 'Hilton Seattle', 'Red Lion Hotel on Fifth Avenue Seattle', 'Mediterranean Inn', 'Holiday Inn Seattle', 'Coast Gateway Hotel', 'Radisson Hotel Seattle Airport', 'Embassy Suites Seattle - Tacoma International Airport', 'Homewood Suites Seattle-Downtown', 'The Edgewater Hotel Seattle', 'Crowne Plaza Seattle Downtown Area', 'Red Lion Hotel Seattle Airport', 'Moore Hotel', 'Marriott Waterfront Seattle', 'Silver Cloud Hotel Stadium', 'Courtyard Seattle Downtown/Pioneer Square', 'DoubleTree Suites by Hilton Hotel Seattle Airport - Southcenter', 'Sheraton Seattle Hotel', 'La Quinta Inn & Suites Seattle Downtown', 'Silver Cloud Hotel - Broadway', 'Hotel Deca, Seattle', 'Residence Inn Seattle Downtown/Lake Union', 'Homewood Suites Seattle Convention Center Pike Street', 'Watertown Hotel Seattle', 'The Paramount Hotel', 'Grand Hyatt Seattle', 'Hyatt At Olive 8', 'Hotel Vintage Park - a Kimpton Hotel', 'Silver Cloud Inn - Lake Union', 'The Arctic Club Seattle - a DoubleTree by Hilton Hotel', 'Cedarbrook Lodge', 'Hotel 1000', 'Four Seasons Hotel Seattle', 'Alexis Hotel - a Kimpton Hotel', 'The Sorrento Hotel', 'The Maxwell Hotel Seattle', 'Mayflower Park', 'Hotel Andra', 'Pan Pacific Seattle', 'Hotel Monaco Seattle - a Kimpton Hotel', 'The Fairmont Olympic Seattle', 'Inn at the Market', 'Onyx Hotel - a Kimpton Hotel', 'Sheraton Boston Hotel', 'DoubleTree Suites by Hilton - Boston', 'Hilton Boston Downtown / Financial District', 'Hampton Inn & Suites Boston Crosstown Center', 'Hyatt Regency Boston', 'DoubleTree by Hilton Hotel Boston - Downtown', 'Courtyard Boston-South Boston', 'Courtyard by Marriott Boston Logan Airport', 'Holiday Inn Boston at Beacon Hill', 'DoubleTree Club by Hilton Hotel Boston Bayside', 'The Boston Park Plaza Hotel & Towers', 'Bulfinch Hotel Boston', 'Courtyard Boston Downtown / Tremont', 'The Midtown Hotel', 'Hilton Boston Logan Airport', 'Hilton Boston Back Bay', 'Embassy Suites Boston Logan Airport', \"Hyatt Harborside at Boston's Logan International Airport\", 'W Boston', 'Taj Boston', 'Boston Marriott Copley Place', 'The Westin Boston Waterfront', 'Eliot Hotel', 'Renaissance Boston Waterfront Hotel', 'Omni Parker House', 'Club Quarters Boston', 'Charlesmark Hotel', 'The Westin Copley Place', 'Copley Square Hotel', 'Ritz-Carlton Boston Common', 'InterContinental Boston', 'Millennium Bostonian Hotel', 'The Fairmont Copley Plaza, Boston', 'Boston Marriott Long Wharf', 'The Liberty Hotel', 'Harborside Inn', 'Ames - A Morgans Original', 'Courtyard by Marriott Boston Copley Square', 'The Back Bay Hotel', 'Fairmont Battery Wharf', 'The Langham, Boston', 'Seaport Boston Hotel', 'Mandarin Oriental, Boston', 'Colonnade Hotel', \"Marriott's Custom House\", 'Nine Zero Hotel - a Kimpton Hotel', 'XV Beacon', 'Boston Harbor Hotel', 'The Lenox Hotel', 'Four Seasons Hotel Boston', 'Hotel Commonwealth', 'Hilton Memphis', \"Elvis Presley's Heartbreak Hotel\", 'Crowne Plaza Hotel Memphis', 'DoubleTree by Hilton Memphis Downtown', 'Memphis Marriott Downtown', 'Hampton Inn & Suites Memphis - Beale Street', 'Residence Inn Memphis Downtown', 'Madison Hotel', 'Days Inn Inner Harbor', 'Renaissance Baltimore Harborplace Hotel', 'Tremont Suites Hotel and Grand Historic Venue', 'Homewood Suites by Hilton Baltimore', 'Baltimore Marriott Inner Harbor at Camden Yards', 'Radisson Plaza Lord Baltimore', 'Hyatt Regency Baltimore', 'Hampton Inn & Suites Baltimore Inner Harbor', 'Hilton Baltimore', 'Courtyard by Marriott Baltimore Downtown / Inner Harbor', 'Sheraton Baltimore City Center Hotel', 'Sheraton Inner Harbor Hotel', 'Four Points by Sheraton BWI Airport', 'Hilton Garden Inn Baltimore Inner Harbor', 'Royal Sonesta Harbor Court Baltimore', 'Residence Inn by Marriott Baltimore Downtown/Inner Harbor', 'Hampton Inn Baltimore-Downtown-Convention Center', 'Monaco Baltimore, a Kimpton Hotel', 'Baltimore Marriott Waterfront', \"Henderson's Wharf Inn\", 'Loews Denver Hotel', 'Renaissance Denver Hotel', 'Crowne Plaza Hotel Denver', 'TownePlace Suites Denver Downtown', 'Sheraton Denver Downtown Hotel', 'Denver Marriott City Center', 'Denver Marriott Tech Center', 'The Westin Denver Downtown', 'Doubletree by Hilton Hotel Denver', 'Hyatt Regency Denver Tech Center', 'Courtyard by Marriott Denver Airport', 'Grand Hyatt Denver Downtown', 'Embassy Suites Denver-International Airport', 'Four Seasons Baltimore', 'The Curtis', 'Warwick Denver Hotel', 'Hampton Inn & Suites Denver Downtown', 'Hilton Garden Inn Denver Downtown', 'HYATT house Denver Airport', 'Hotel Monaco Denver - a Kimpton Hotel', 'The Brown Palace Hotel and Spa', 'Courtyard by Marriott Denver Downtown', 'The Oxford Hotel', 'Hyatt Regency Denver At Colorado Convention Center', 'JW Marriott Denver Cherry Creek', 'Residence Inn Denver City Center', 'Hotel Teatro', 'Magnolia Hotel Denver', 'The Ritz-Carlton, Denver', 'Country Inn & Suites By Carlson, Denver International Airport', 'Four Seasons Hotel Denver', 'Embassy Suites Denver - Downtown / Convention Center', 'The Ritz-Carlton, Washington DC', 'Hotel Lombardy', 'Rouge, a Kimpton Hotel', 'Hilton Garden Inn Washington, DC Downtown', 'Embassy Suites Washington-Convention Center', 'The Westin Georgetown, Washington D.C.', 'Omni Shoreham Hotel', 'Comfort Inn Downtown DC / Convention Center', 'Embassy Suites Hotel Washington, D.C.', 'Mandarin Oriental, Washington D.C.', 'Washington Plaza', 'The Quincy', 'Washington Marriott Wardman Park', 'Hyatt Regency Washington on Capitol Hill', 'Courtyard Washington Embassy Row', 'Washington Marriott', 'DoubleTree Hotel Washington DC', 'Four Points by Sheraton', 'Days Inn Connecticut Ave.', \"L'Enfant Plaza Hotel\", 'Harrington Hotel', 'DoubleTree Suites Washington, DC', 'The Westin Washington, D.C. City Center', 'Melrose Hotel, Washington DC', 'Holiday Inn Washington - Capitol', 'The Churchill Hotel', 'Holiday Inn Washington - Central / White House', 'Hamilton Crowne Plaza Hotel', 'W Washington DC', 'Courtyard by Marriott Washington DC \\\\ Dupont Circle', 'Georgetown Suites', 'Grand Hyatt Washington', 'Washington Hilton', 'Renaissance Washington, DC Dupont Circle Hotel', 'Capital Hilton', 'Courtyard Washington Capitol Hill/Navy Yard', 'The Mayflower Renaissance Washington, DC Hotel', 'Beacon Hotel & Corporate Quarters', 'State Plaza Hotel', 'Renaissance Washington, DC Hotel', 'Homewood Suites Washington, DC', 'The River Inn', 'St. Gregory Hotel & Suites', 'JW Marriott Washington DC', 'Embassy Suites Chevy Chase Pavilion', 'The Normandy Hotel', 'The Fairfax at Embassy Row, a Starwood Luxury Collection Hotel', 'Courtyard by Marriott Washington Convention Center', 'Washington Marriott at Metro Center', 'Washington Court Hotel on Capitol Hill', 'One Washington Circle Hotel', 'Hampton Inn Washington, DC-Convention Center', 'Residence Inn Washington/Dupont Circle', 'Donovan House - A Kimpton Hotel', 'Capitol Hill Hotel', 'Residence Inn Washington DC / Vermont Ave.', 'Fairfield Inn & Suites Washington, DC / Downtown', 'The Liaison Capitol Hill, An Affinia Hotel', 'Phoenix Park Hotel', 'The St. Regis Washington, D.C.', 'Madera, a Kimpton Hotel', 'Helix, a Kimpton Hotel', 'The Dupont Circle Hotel', 'Monaco Washington DC, a Kimpton Hotel', 'The Madison', 'Topaz, a Kimpton Hotel', 'Willard InterContinental Washington', 'The Fairmont Washington DC', 'Carlyle Suites Hotel', 'Hotel George, a Kimpton Hotel', 'Four Seasons Washington D.C.', 'Park Hyatt Washington', 'Sofitel Washington DC', 'Palomar Washington DC, a Kimpton Hotel', 'The Hay-Adams'])"
      ]
     },
     "execution_count": 49,
     "metadata": {},
     "output_type": "execute_result"
    }
   ],
   "source": [
    "name_to_rid.keys()"
   ]
  },
  {
   "cell_type": "code",
   "execution_count": 50,
   "metadata": {},
   "outputs": [],
   "source": [
    "list_knn=[]\n",
    "dict_hotel = {}\n",
    "\n",
    "#for each hotel in dataframe 'df_surprise'\n",
    "for name_hotel in name_to_rid.keys():\n",
    "    # Retrieve inner id of the hotel\n",
    "    hotel_raw_id = str(name_to_rid[name_hotel])\n",
    "    hotel_inner_id = algo_knn.trainset.to_inner_iid(hotel_raw_id)\n",
    "    \n",
    "    # Retrieve inner ids of the nearest neighbors of hotel\n",
    "    hotel_neighbors = algo_knn.get_neighbors(hotel_inner_id, k=10)\n",
    "    \n",
    "     # Convert inner ids of the neighbors into names.\n",
    "    hotel_neighbors = (algo_knn.trainset.to_raw_iid(inner_id)\n",
    "                       for inner_id in hotel_neighbors)\n",
    "    \n",
    "    hotel_neighbors = (rid_to_name[int(rid)]\n",
    "                       for rid in hotel_neighbors)\n",
    "    \n",
    "    dict_hotel[name_hotel] = list(hotel_neighbors)\n",
    "    \n",
    "    list_knn.append(dict_hotel)"
   ]
  },
  {
   "cell_type": "code",
   "execution_count": 51,
   "metadata": {},
   "outputs": [
    {
     "data": {
      "text/plain": [
       "['Hudson New York',\n",
       " 'Sir Francis Drake Hotel - a Kimpton Hotel',\n",
       " 'Omni Hotel at Independence Park',\n",
       " 'Doubletree Hotel Metropolitan - New York City',\n",
       " 'The Langham, Boston',\n",
       " 'Hotel Monaco Chicago - a Kimpton Hotel',\n",
       " 'Renaissance Washington, DC Hotel',\n",
       " 'The Boston Park Plaza Hotel & Towers',\n",
       " 'Hilton New York',\n",
       " 'Omni Parker House']"
      ]
     },
     "execution_count": 51,
     "metadata": {},
     "output_type": "execute_result"
    }
   ],
   "source": [
    "#find similar hotels to \"Hotel Beacon\"\n",
    "dict_hotel['Hotel Beacon']"
   ]
  },
  {
   "cell_type": "code",
   "execution_count": 52,
   "metadata": {},
   "outputs": [],
   "source": [
    "df_knn = pd.DataFrame.from_dict(dict_hotel, orient='index',columns=['r0','r1', 'r2', 'r3', 'r4', 'r5', 'r6', 'r7', 'r8', 'r9'])"
   ]
  },
  {
   "cell_type": "code",
   "execution_count": 53,
   "metadata": {},
   "outputs": [
    {
     "data": {
      "text/html": [
       "<div>\n",
       "<style scoped>\n",
       "    .dataframe tbody tr th:only-of-type {\n",
       "        vertical-align: middle;\n",
       "    }\n",
       "\n",
       "    .dataframe tbody tr th {\n",
       "        vertical-align: top;\n",
       "    }\n",
       "\n",
       "    .dataframe thead th {\n",
       "        text-align: right;\n",
       "    }\n",
       "</style>\n",
       "<table border=\"1\" class=\"dataframe\">\n",
       "  <thead>\n",
       "    <tr style=\"text-align: right;\">\n",
       "      <th></th>\n",
       "      <th>r0</th>\n",
       "      <th>r1</th>\n",
       "      <th>r2</th>\n",
       "      <th>r3</th>\n",
       "      <th>r4</th>\n",
       "      <th>r5</th>\n",
       "      <th>r6</th>\n",
       "      <th>r7</th>\n",
       "      <th>r8</th>\n",
       "      <th>r9</th>\n",
       "    </tr>\n",
       "  </thead>\n",
       "  <tbody>\n",
       "    <tr>\n",
       "      <th>Hotel Beacon</th>\n",
       "      <td>Hudson New York</td>\n",
       "      <td>Sir Francis Drake Hotel - a Kimpton Hotel</td>\n",
       "      <td>Omni Hotel at Independence Park</td>\n",
       "      <td>Doubletree Hotel Metropolitan - New York City</td>\n",
       "      <td>The Langham, Boston</td>\n",
       "      <td>Hotel Monaco Chicago - a Kimpton Hotel</td>\n",
       "      <td>Renaissance Washington, DC Hotel</td>\n",
       "      <td>The Boston Park Plaza Hotel &amp; Towers</td>\n",
       "      <td>Hilton New York</td>\n",
       "      <td>Omni Parker House</td>\n",
       "    </tr>\n",
       "    <tr>\n",
       "      <th>Andaz 5th Avenue</th>\n",
       "      <td>Four Seasons Hotel San Francisco</td>\n",
       "      <td>Andaz San Diego</td>\n",
       "      <td>Grand Hyatt New York</td>\n",
       "      <td>Hyatt At Olive 8</td>\n",
       "      <td>Conrad Chicago</td>\n",
       "      <td>Manchester Grand Hyatt San Diego</td>\n",
       "      <td>Mandarin Oriental, Washington D.C.</td>\n",
       "      <td>Hudson New York</td>\n",
       "      <td>Grand Hyatt Washington</td>\n",
       "      <td>Hyatt Regency Denver At Colorado Convention Ce...</td>\n",
       "    </tr>\n",
       "    <tr>\n",
       "      <th>The Setai Fifth Avenue, a Capella managed Hotel</th>\n",
       "      <td>Waldorf Astoria Chicago</td>\n",
       "      <td>The Grand Del Mar</td>\n",
       "      <td>Soho Grand Hotel</td>\n",
       "      <td>Four Seasons Hotel New York</td>\n",
       "      <td>The Standard, East Village</td>\n",
       "      <td>The St. Regis New York</td>\n",
       "      <td>XV Beacon</td>\n",
       "      <td>Ritz-Carlton Dallas</td>\n",
       "      <td>The London NYC</td>\n",
       "      <td>The Peninsula Chicago</td>\n",
       "    </tr>\n",
       "    <tr>\n",
       "      <th>The Chatwal</th>\n",
       "      <td>The St. Regis Houston</td>\n",
       "      <td>Mandarin Oriental, New York</td>\n",
       "      <td>Sofitel Chicago Water Tower</td>\n",
       "      <td>St. Regis Hotel, San Francisco</td>\n",
       "      <td>W New York - Union Square</td>\n",
       "      <td>Hilton New York</td>\n",
       "      <td>W Washington DC</td>\n",
       "      <td>Algonquin Hotel Times Square, Autograph Collec...</td>\n",
       "      <td>Trump International Hotel &amp; Tower Chicago</td>\n",
       "      <td>Ritz-Carlton Battery Park</td>\n",
       "    </tr>\n",
       "    <tr>\n",
       "      <th>Eventi - a Kimpton Hotel</th>\n",
       "      <td>Hotel Solamar - a Kimpton Hotel</td>\n",
       "      <td>The Muse Hotel New York</td>\n",
       "      <td>New York Marriott Marquis</td>\n",
       "      <td>Nine Zero Hotel - a Kimpton Hotel</td>\n",
       "      <td>Hotel Monaco Seattle - a Kimpton Hotel</td>\n",
       "      <td>Monaco Baltimore, a Kimpton Hotel</td>\n",
       "      <td>Hotel Palomar San Francisco - a Kimpton Hotel</td>\n",
       "      <td>Crowne Plaza Times Square Manhattan</td>\n",
       "      <td>Grand Hyatt New York</td>\n",
       "      <td>Andaz 5th Avenue</td>\n",
       "    </tr>\n",
       "  </tbody>\n",
       "</table>\n",
       "</div>"
      ],
      "text/plain": [
       "                                                                               r0  \\\n",
       "Hotel Beacon                                                      Hudson New York   \n",
       "Andaz 5th Avenue                                 Four Seasons Hotel San Francisco   \n",
       "The Setai Fifth Avenue, a Capella managed Hotel           Waldorf Astoria Chicago   \n",
       "The Chatwal                                                 The St. Regis Houston   \n",
       "Eventi - a Kimpton Hotel                          Hotel Solamar - a Kimpton Hotel   \n",
       "\n",
       "                                                                                        r1  \\\n",
       "Hotel Beacon                                     Sir Francis Drake Hotel - a Kimpton Hotel   \n",
       "Andaz 5th Avenue                                                           Andaz San Diego   \n",
       "The Setai Fifth Avenue, a Capella managed Hotel                          The Grand Del Mar   \n",
       "The Chatwal                                                    Mandarin Oriental, New York   \n",
       "Eventi - a Kimpton Hotel                                           The Muse Hotel New York   \n",
       "\n",
       "                                                                              r2  \\\n",
       "Hotel Beacon                                     Omni Hotel at Independence Park   \n",
       "Andaz 5th Avenue                                            Grand Hyatt New York   \n",
       "The Setai Fifth Avenue, a Capella managed Hotel                 Soho Grand Hotel   \n",
       "The Chatwal                                          Sofitel Chicago Water Tower   \n",
       "Eventi - a Kimpton Hotel                               New York Marriott Marquis   \n",
       "\n",
       "                                                                                            r3  \\\n",
       "Hotel Beacon                                     Doubletree Hotel Metropolitan - New York City   \n",
       "Andaz 5th Avenue                                                              Hyatt At Olive 8   \n",
       "The Setai Fifth Avenue, a Capella managed Hotel                    Four Seasons Hotel New York   \n",
       "The Chatwal                                                     St. Regis Hotel, San Francisco   \n",
       "Eventi - a Kimpton Hotel                                     Nine Zero Hotel - a Kimpton Hotel   \n",
       "\n",
       "                                                                                     r4  \\\n",
       "Hotel Beacon                                                        The Langham, Boston   \n",
       "Andaz 5th Avenue                                                         Conrad Chicago   \n",
       "The Setai Fifth Avenue, a Capella managed Hotel              The Standard, East Village   \n",
       "The Chatwal                                                   W New York - Union Square   \n",
       "Eventi - a Kimpton Hotel                         Hotel Monaco Seattle - a Kimpton Hotel   \n",
       "\n",
       "                                                                                     r5  \\\n",
       "Hotel Beacon                                     Hotel Monaco Chicago - a Kimpton Hotel   \n",
       "Andaz 5th Avenue                                       Manchester Grand Hyatt San Diego   \n",
       "The Setai Fifth Avenue, a Capella managed Hotel                  The St. Regis New York   \n",
       "The Chatwal                                                             Hilton New York   \n",
       "Eventi - a Kimpton Hotel                              Monaco Baltimore, a Kimpton Hotel   \n",
       "\n",
       "                                                                                            r6  \\\n",
       "Hotel Beacon                                                  Renaissance Washington, DC Hotel   \n",
       "Andaz 5th Avenue                                            Mandarin Oriental, Washington D.C.   \n",
       "The Setai Fifth Avenue, a Capella managed Hotel                                      XV Beacon   \n",
       "The Chatwal                                                                    W Washington DC   \n",
       "Eventi - a Kimpton Hotel                         Hotel Palomar San Francisco - a Kimpton Hotel   \n",
       "\n",
       "                                                                                                r7  \\\n",
       "Hotel Beacon                                                  The Boston Park Plaza Hotel & Towers   \n",
       "Andaz 5th Avenue                                                                   Hudson New York   \n",
       "The Setai Fifth Avenue, a Capella managed Hotel                                Ritz-Carlton Dallas   \n",
       "The Chatwal                                      Algonquin Hotel Times Square, Autograph Collec...   \n",
       "Eventi - a Kimpton Hotel                                       Crowne Plaza Times Square Manhattan   \n",
       "\n",
       "                                                                                        r8  \\\n",
       "Hotel Beacon                                                               Hilton New York   \n",
       "Andaz 5th Avenue                                                    Grand Hyatt Washington   \n",
       "The Setai Fifth Avenue, a Capella managed Hotel                             The London NYC   \n",
       "The Chatwal                                      Trump International Hotel & Tower Chicago   \n",
       "Eventi - a Kimpton Hotel                                              Grand Hyatt New York   \n",
       "\n",
       "                                                                                                r9  \n",
       "Hotel Beacon                                                                     Omni Parker House  \n",
       "Andaz 5th Avenue                                 Hyatt Regency Denver At Colorado Convention Ce...  \n",
       "The Setai Fifth Avenue, a Capella managed Hotel                              The Peninsula Chicago  \n",
       "The Chatwal                                                              Ritz-Carlton Battery Park  \n",
       "Eventi - a Kimpton Hotel                                                          Andaz 5th Avenue  "
      ]
     },
     "execution_count": 53,
     "metadata": {},
     "output_type": "execute_result"
    }
   ],
   "source": [
    "df_knn.head()"
   ]
  },
  {
   "cell_type": "code",
   "execution_count": 54,
   "metadata": {},
   "outputs": [],
   "source": [
    "#write result of top 10 similar hotels in csv file\n",
    "df_knn.to_csv('df_knn.csv', index=True, index_label = 'id')"
   ]
  },
  {
   "cell_type": "markdown",
   "metadata": {},
   "source": [
    "# Top 10 hotels for cold start problem (hotel and user are both new)"
   ]
  },
  {
   "cell_type": "markdown",
   "metadata": {},
   "source": [
    "In situation if both user and hotel are new and don't have any review yet my system is gonna recommend top 10 the most popular hotel overall"
   ]
  },
  {
   "cell_type": "code",
   "execution_count": 55,
   "metadata": {},
   "outputs": [],
   "source": [
    "top_10_the_best = df_surprise.groupby(['offering_id'])['overall'].mean().sort_values(ascending=False)[:10]"
   ]
  },
  {
   "cell_type": "code",
   "execution_count": 56,
   "metadata": {},
   "outputs": [
    {
     "data": {
      "text/plain": [
       "offering_id\n",
       "2322597    4.869565\n",
       "1175274    4.809524\n",
       "576787     4.785714\n",
       "674283     4.772727\n",
       "93566      4.769231\n",
       "80983      4.766667\n",
       "1152288    4.764706\n",
       "1028569    4.764706\n",
       "781627     4.740741\n",
       "1516481    4.723077\n",
       "Name: overall, dtype: float64"
      ]
     },
     "execution_count": 56,
     "metadata": {},
     "output_type": "execute_result"
    }
   ],
   "source": [
    "top_10_the_best"
   ]
  },
  {
   "cell_type": "code",
   "execution_count": 57,
   "metadata": {},
   "outputs": [
    {
     "data": {
      "text/plain": [
       "831                                      The Surrey\n",
       "1012      Trump International Hotel & Tower Chicago\n",
       "1013                        Waldorf Astoria Chicago\n",
       "1314                                Greenwich Hotel\n",
       "1978                              The Grand Del Mar\n",
       "2558                            Conrad Indianapolis\n",
       "2963                                   Hotel Drisco\n",
       "2964    Fairmont Heritage Place, Ghirardelli Square\n",
       "3808                     Four Seasons Hotel Seattle\n",
       "4186                         Four Seasons Baltimore\n",
       "Name: name, dtype: object"
      ]
     },
     "execution_count": 57,
     "metadata": {},
     "output_type": "execute_result"
    }
   ],
   "source": [
    "df_offering[df_offering.offering_id.isin(top_10_the_best.index)].name\n"
   ]
  },
  {
   "cell_type": "code",
   "execution_count": null,
   "metadata": {},
   "outputs": [],
   "source": []
  },
  {
   "cell_type": "markdown",
   "metadata": {},
   "source": [
    "### Result:\n",
    "- I built collabarative filtering recommendation syste and get top 10 recommendation for each user.\n",
    "- Decided cold start problem using KNN or showing the most popular hotels overall.\n",
    "- Created streamlit app to demonstrate work of my recommendation system."
   ]
  }
 ],
 "metadata": {
  "kernelspec": {
   "display_name": "Python 3",
   "language": "python",
   "name": "python3"
  },
  "language_info": {
   "codemirror_mode": {
    "name": "ipython",
    "version": 3
   },
   "file_extension": ".py",
   "mimetype": "text/x-python",
   "name": "python",
   "nbconvert_exporter": "python",
   "pygments_lexer": "ipython3",
   "version": "3.8.5"
  }
 },
 "nbformat": 4,
 "nbformat_minor": 4
}
