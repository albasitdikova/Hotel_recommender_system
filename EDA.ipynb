{
 "cells": [
  {
   "cell_type": "code",
   "execution_count": 1,
   "metadata": {},
   "outputs": [],
   "source": [
    "import pandas as pd\n",
    "import random\n",
    "import json"
   ]
  },
  {
   "cell_type": "code",
   "execution_count": 2,
   "metadata": {},
   "outputs": [],
   "source": [
    "import matplotlib.pyplot as plt\n",
    "\n",
    "%matplotlib inline"
   ]
  },
  {
   "cell_type": "markdown",
   "metadata": {},
   "source": [
    "# Read the data"
   ]
  },
  {
   "cell_type": "markdown",
   "metadata": {},
   "source": [
    "Re-writing data in more convinient format and unnest columns"
   ]
  },
  {
   "cell_type": "markdown",
   "metadata": {},
   "source": [
    "## Read data from file \"offering.txt\" that contains info about hotels"
   ]
  },
  {
   "cell_type": "code",
   "execution_count": 3,
   "metadata": {},
   "outputs": [],
   "source": [
    "#read data from txt\n",
    "with open('offering.txt', 'r') as handle:\n",
    "    json_data_offering = [json.loads(line) for line in handle]"
   ]
  },
  {
   "cell_type": "code",
   "execution_count": 4,
   "metadata": {},
   "outputs": [],
   "source": [
    "#write data to json for easier data reading\n",
    "with open('offerings.json', 'w') as f1:\n",
    "    json.dump(json_data_offering, f1)"
   ]
  },
  {
   "cell_type": "code",
   "execution_count": 5,
   "metadata": {},
   "outputs": [],
   "source": [
    "#read data into dataframe\n",
    "df_offering = pd.read_json('offerings.json')"
   ]
  },
  {
   "cell_type": "code",
   "execution_count": 6,
   "metadata": {},
   "outputs": [
    {
     "data": {
      "text/html": [
       "<div>\n",
       "<style scoped>\n",
       "    .dataframe tbody tr th:only-of-type {\n",
       "        vertical-align: middle;\n",
       "    }\n",
       "\n",
       "    .dataframe tbody tr th {\n",
       "        vertical-align: top;\n",
       "    }\n",
       "\n",
       "    .dataframe thead th {\n",
       "        text-align: right;\n",
       "    }\n",
       "</style>\n",
       "<table border=\"1\" class=\"dataframe\">\n",
       "  <thead>\n",
       "    <tr style=\"text-align: right;\">\n",
       "      <th></th>\n",
       "      <th>hotel_class</th>\n",
       "      <th>region_id</th>\n",
       "      <th>url</th>\n",
       "      <th>phone</th>\n",
       "      <th>details</th>\n",
       "      <th>address</th>\n",
       "      <th>type</th>\n",
       "      <th>id</th>\n",
       "      <th>name</th>\n",
       "    </tr>\n",
       "  </thead>\n",
       "  <tbody>\n",
       "    <tr>\n",
       "      <th>0</th>\n",
       "      <td>4.0</td>\n",
       "      <td>60763</td>\n",
       "      <td>http://www.tripadvisor.com/Hotel_Review-g60763...</td>\n",
       "      <td></td>\n",
       "      <td>NaN</td>\n",
       "      <td>{'region': 'NY', 'street-address': '147 West 4...</td>\n",
       "      <td>hotel</td>\n",
       "      <td>113317</td>\n",
       "      <td>Casablanca Hotel Times Square</td>\n",
       "    </tr>\n",
       "    <tr>\n",
       "      <th>1</th>\n",
       "      <td>5.0</td>\n",
       "      <td>32655</td>\n",
       "      <td>http://www.tripadvisor.com/Hotel_Review-g32655...</td>\n",
       "      <td></td>\n",
       "      <td>NaN</td>\n",
       "      <td>{'region': 'CA', 'street-address': '300 S Dohe...</td>\n",
       "      <td>hotel</td>\n",
       "      <td>76049</td>\n",
       "      <td>Four Seasons Hotel Los Angeles at Beverly Hills</td>\n",
       "    </tr>\n",
       "    <tr>\n",
       "      <th>2</th>\n",
       "      <td>3.5</td>\n",
       "      <td>60763</td>\n",
       "      <td>http://www.tripadvisor.com/Hotel_Review-g60763...</td>\n",
       "      <td></td>\n",
       "      <td>NaN</td>\n",
       "      <td>{'region': 'NY', 'street-address': '790 Eighth...</td>\n",
       "      <td>hotel</td>\n",
       "      <td>99352</td>\n",
       "      <td>Hilton Garden Inn Times Square</td>\n",
       "    </tr>\n",
       "    <tr>\n",
       "      <th>3</th>\n",
       "      <td>4.0</td>\n",
       "      <td>60763</td>\n",
       "      <td>http://www.tripadvisor.com/Hotel_Review-g60763...</td>\n",
       "      <td></td>\n",
       "      <td>NaN</td>\n",
       "      <td>{'region': 'NY', 'street-address': '152 West 5...</td>\n",
       "      <td>hotel</td>\n",
       "      <td>93589</td>\n",
       "      <td>The Michelangelo Hotel</td>\n",
       "    </tr>\n",
       "    <tr>\n",
       "      <th>4</th>\n",
       "      <td>4.0</td>\n",
       "      <td>60763</td>\n",
       "      <td>http://www.tripadvisor.com/Hotel_Review-g60763...</td>\n",
       "      <td></td>\n",
       "      <td>NaN</td>\n",
       "      <td>{'region': 'NY', 'street-address': '130 West 4...</td>\n",
       "      <td>hotel</td>\n",
       "      <td>217616</td>\n",
       "      <td>The Muse Hotel New York</td>\n",
       "    </tr>\n",
       "  </tbody>\n",
       "</table>\n",
       "</div>"
      ],
      "text/plain": [
       "   hotel_class  region_id                                                url  \\\n",
       "0          4.0      60763  http://www.tripadvisor.com/Hotel_Review-g60763...   \n",
       "1          5.0      32655  http://www.tripadvisor.com/Hotel_Review-g32655...   \n",
       "2          3.5      60763  http://www.tripadvisor.com/Hotel_Review-g60763...   \n",
       "3          4.0      60763  http://www.tripadvisor.com/Hotel_Review-g60763...   \n",
       "4          4.0      60763  http://www.tripadvisor.com/Hotel_Review-g60763...   \n",
       "\n",
       "  phone  details                                            address   type  \\\n",
       "0            NaN  {'region': 'NY', 'street-address': '147 West 4...  hotel   \n",
       "1            NaN  {'region': 'CA', 'street-address': '300 S Dohe...  hotel   \n",
       "2            NaN  {'region': 'NY', 'street-address': '790 Eighth...  hotel   \n",
       "3            NaN  {'region': 'NY', 'street-address': '152 West 5...  hotel   \n",
       "4            NaN  {'region': 'NY', 'street-address': '130 West 4...  hotel   \n",
       "\n",
       "       id                                             name  \n",
       "0  113317                    Casablanca Hotel Times Square  \n",
       "1   76049  Four Seasons Hotel Los Angeles at Beverly Hills  \n",
       "2   99352                   Hilton Garden Inn Times Square  \n",
       "3   93589                           The Michelangelo Hotel  \n",
       "4  217616                          The Muse Hotel New York  "
      ]
     },
     "execution_count": 6,
     "metadata": {},
     "output_type": "execute_result"
    }
   ],
   "source": [
    "df_offering.head()"
   ]
  },
  {
   "cell_type": "markdown",
   "metadata": {},
   "source": [
    "From DataFrame I can see that column \"address\" is list of dictionaries"
   ]
  },
  {
   "cell_type": "code",
   "execution_count": 7,
   "metadata": {},
   "outputs": [],
   "source": [
    "#unnest column 'address'\n",
    "df_offering = df_offering.drop('address', 1).assign(**pd.DataFrame(df_offering.address.values.tolist()))"
   ]
  },
  {
   "cell_type": "code",
   "execution_count": 8,
   "metadata": {},
   "outputs": [
    {
     "data": {
      "text/html": [
       "<div>\n",
       "<style scoped>\n",
       "    .dataframe tbody tr th:only-of-type {\n",
       "        vertical-align: middle;\n",
       "    }\n",
       "\n",
       "    .dataframe tbody tr th {\n",
       "        vertical-align: top;\n",
       "    }\n",
       "\n",
       "    .dataframe thead th {\n",
       "        text-align: right;\n",
       "    }\n",
       "</style>\n",
       "<table border=\"1\" class=\"dataframe\">\n",
       "  <thead>\n",
       "    <tr style=\"text-align: right;\">\n",
       "      <th></th>\n",
       "      <th>hotel_class</th>\n",
       "      <th>region_id</th>\n",
       "      <th>url</th>\n",
       "      <th>phone</th>\n",
       "      <th>details</th>\n",
       "      <th>type</th>\n",
       "      <th>id</th>\n",
       "      <th>name</th>\n",
       "      <th>region</th>\n",
       "      <th>street-address</th>\n",
       "      <th>postal-code</th>\n",
       "      <th>locality</th>\n",
       "    </tr>\n",
       "  </thead>\n",
       "  <tbody>\n",
       "    <tr>\n",
       "      <th>0</th>\n",
       "      <td>4.0</td>\n",
       "      <td>60763</td>\n",
       "      <td>http://www.tripadvisor.com/Hotel_Review-g60763...</td>\n",
       "      <td></td>\n",
       "      <td>NaN</td>\n",
       "      <td>hotel</td>\n",
       "      <td>113317</td>\n",
       "      <td>Casablanca Hotel Times Square</td>\n",
       "      <td>NY</td>\n",
       "      <td>147 West 43rd Street</td>\n",
       "      <td>10036</td>\n",
       "      <td>New York City</td>\n",
       "    </tr>\n",
       "    <tr>\n",
       "      <th>1</th>\n",
       "      <td>5.0</td>\n",
       "      <td>32655</td>\n",
       "      <td>http://www.tripadvisor.com/Hotel_Review-g32655...</td>\n",
       "      <td></td>\n",
       "      <td>NaN</td>\n",
       "      <td>hotel</td>\n",
       "      <td>76049</td>\n",
       "      <td>Four Seasons Hotel Los Angeles at Beverly Hills</td>\n",
       "      <td>CA</td>\n",
       "      <td>300 S Doheny Dr</td>\n",
       "      <td>90048</td>\n",
       "      <td>Los Angeles</td>\n",
       "    </tr>\n",
       "    <tr>\n",
       "      <th>2</th>\n",
       "      <td>3.5</td>\n",
       "      <td>60763</td>\n",
       "      <td>http://www.tripadvisor.com/Hotel_Review-g60763...</td>\n",
       "      <td></td>\n",
       "      <td>NaN</td>\n",
       "      <td>hotel</td>\n",
       "      <td>99352</td>\n",
       "      <td>Hilton Garden Inn Times Square</td>\n",
       "      <td>NY</td>\n",
       "      <td>790 Eighth Avenue</td>\n",
       "      <td>10019</td>\n",
       "      <td>New York City</td>\n",
       "    </tr>\n",
       "    <tr>\n",
       "      <th>3</th>\n",
       "      <td>4.0</td>\n",
       "      <td>60763</td>\n",
       "      <td>http://www.tripadvisor.com/Hotel_Review-g60763...</td>\n",
       "      <td></td>\n",
       "      <td>NaN</td>\n",
       "      <td>hotel</td>\n",
       "      <td>93589</td>\n",
       "      <td>The Michelangelo Hotel</td>\n",
       "      <td>NY</td>\n",
       "      <td>152 West 51st Street</td>\n",
       "      <td>10019</td>\n",
       "      <td>New York City</td>\n",
       "    </tr>\n",
       "    <tr>\n",
       "      <th>4</th>\n",
       "      <td>4.0</td>\n",
       "      <td>60763</td>\n",
       "      <td>http://www.tripadvisor.com/Hotel_Review-g60763...</td>\n",
       "      <td></td>\n",
       "      <td>NaN</td>\n",
       "      <td>hotel</td>\n",
       "      <td>217616</td>\n",
       "      <td>The Muse Hotel New York</td>\n",
       "      <td>NY</td>\n",
       "      <td>130 West 46th Street</td>\n",
       "      <td>10036</td>\n",
       "      <td>New York City</td>\n",
       "    </tr>\n",
       "  </tbody>\n",
       "</table>\n",
       "</div>"
      ],
      "text/plain": [
       "   hotel_class  region_id                                                url  \\\n",
       "0          4.0      60763  http://www.tripadvisor.com/Hotel_Review-g60763...   \n",
       "1          5.0      32655  http://www.tripadvisor.com/Hotel_Review-g32655...   \n",
       "2          3.5      60763  http://www.tripadvisor.com/Hotel_Review-g60763...   \n",
       "3          4.0      60763  http://www.tripadvisor.com/Hotel_Review-g60763...   \n",
       "4          4.0      60763  http://www.tripadvisor.com/Hotel_Review-g60763...   \n",
       "\n",
       "  phone  details   type      id  \\\n",
       "0            NaN  hotel  113317   \n",
       "1            NaN  hotel   76049   \n",
       "2            NaN  hotel   99352   \n",
       "3            NaN  hotel   93589   \n",
       "4            NaN  hotel  217616   \n",
       "\n",
       "                                              name region  \\\n",
       "0                    Casablanca Hotel Times Square     NY   \n",
       "1  Four Seasons Hotel Los Angeles at Beverly Hills     CA   \n",
       "2                   Hilton Garden Inn Times Square     NY   \n",
       "3                           The Michelangelo Hotel     NY   \n",
       "4                          The Muse Hotel New York     NY   \n",
       "\n",
       "         street-address postal-code       locality  \n",
       "0  147 West 43rd Street       10036  New York City  \n",
       "1       300 S Doheny Dr       90048    Los Angeles  \n",
       "2     790 Eighth Avenue       10019  New York City  \n",
       "3  152 West 51st Street       10019  New York City  \n",
       "4  130 West 46th Street       10036  New York City  "
      ]
     },
     "execution_count": 8,
     "metadata": {},
     "output_type": "execute_result"
    }
   ],
   "source": [
    "df_offering.head()"
   ]
  },
  {
   "cell_type": "code",
   "execution_count": 9,
   "metadata": {},
   "outputs": [],
   "source": [
    "#write this dataframe in convenient format\n",
    "df_offering.to_csv('df_offering.csv', index=False)"
   ]
  },
  {
   "cell_type": "markdown",
   "metadata": {},
   "source": [
    " "
   ]
  },
  {
   "cell_type": "markdown",
   "metadata": {},
   "source": [
    "## Read data from file \"review.txt\" that contains all reviews and information about reviews"
   ]
  },
  {
   "cell_type": "code",
   "execution_count": 10,
   "metadata": {},
   "outputs": [],
   "source": [
    "#read data from txt\n",
    "with open('review.txt', 'r') as handle:\n",
    "    json_data_reviews = [json.loads(line) for line in handle]"
   ]
  },
  {
   "cell_type": "code",
   "execution_count": 11,
   "metadata": {},
   "outputs": [],
   "source": [
    "#write txt to json format for easier data reading\n",
    "with open('reviews.json', 'w') as f:\n",
    "    json.dump(json_data_reviews, f)"
   ]
  },
  {
   "cell_type": "code",
   "execution_count": 12,
   "metadata": {},
   "outputs": [],
   "source": [
    "#read data into dataframe\n",
    "df_reviews = pd.read_json('reviews.json')"
   ]
  },
  {
   "cell_type": "code",
   "execution_count": 13,
   "metadata": {},
   "outputs": [
    {
     "data": {
      "text/html": [
       "<div>\n",
       "<style scoped>\n",
       "    .dataframe tbody tr th:only-of-type {\n",
       "        vertical-align: middle;\n",
       "    }\n",
       "\n",
       "    .dataframe tbody tr th {\n",
       "        vertical-align: top;\n",
       "    }\n",
       "\n",
       "    .dataframe thead th {\n",
       "        text-align: right;\n",
       "    }\n",
       "</style>\n",
       "<table border=\"1\" class=\"dataframe\">\n",
       "  <thead>\n",
       "    <tr style=\"text-align: right;\">\n",
       "      <th></th>\n",
       "      <th>ratings</th>\n",
       "      <th>title</th>\n",
       "      <th>text</th>\n",
       "      <th>author</th>\n",
       "      <th>date_stayed</th>\n",
       "      <th>offering_id</th>\n",
       "      <th>num_helpful_votes</th>\n",
       "      <th>date</th>\n",
       "      <th>id</th>\n",
       "      <th>via_mobile</th>\n",
       "    </tr>\n",
       "  </thead>\n",
       "  <tbody>\n",
       "    <tr>\n",
       "      <th>0</th>\n",
       "      <td>{'service': 5.0, 'cleanliness': 5.0, 'overall'...</td>\n",
       "      <td>“Truly is \"Jewel of the Upper Wets Side\"”</td>\n",
       "      <td>Stayed in a king suite for 11 nights and yes i...</td>\n",
       "      <td>{'username': 'Papa_Panda', 'num_cities': 22, '...</td>\n",
       "      <td>December 2012</td>\n",
       "      <td>93338</td>\n",
       "      <td>0</td>\n",
       "      <td>2012-12-17</td>\n",
       "      <td>147643103</td>\n",
       "      <td>False</td>\n",
       "    </tr>\n",
       "    <tr>\n",
       "      <th>1</th>\n",
       "      <td>{'service': 5.0, 'cleanliness': 5.0, 'overall'...</td>\n",
       "      <td>“My home away from home!”</td>\n",
       "      <td>On every visit to NYC, the Hotel Beacon is the...</td>\n",
       "      <td>{'username': 'Maureen V', 'num_reviews': 2, 'n...</td>\n",
       "      <td>December 2012</td>\n",
       "      <td>93338</td>\n",
       "      <td>0</td>\n",
       "      <td>2012-12-17</td>\n",
       "      <td>147639004</td>\n",
       "      <td>False</td>\n",
       "    </tr>\n",
       "    <tr>\n",
       "      <th>2</th>\n",
       "      <td>{'service': 4.0, 'cleanliness': 5.0, 'overall'...</td>\n",
       "      <td>“Great Stay”</td>\n",
       "      <td>This is a great property in Midtown. We two di...</td>\n",
       "      <td>{'username': 'vuguru', 'num_cities': 12, 'num_...</td>\n",
       "      <td>December 2012</td>\n",
       "      <td>1762573</td>\n",
       "      <td>0</td>\n",
       "      <td>2012-12-18</td>\n",
       "      <td>147697954</td>\n",
       "      <td>False</td>\n",
       "    </tr>\n",
       "    <tr>\n",
       "      <th>3</th>\n",
       "      <td>{'service': 5.0, 'cleanliness': 5.0, 'overall'...</td>\n",
       "      <td>“Modern Convenience”</td>\n",
       "      <td>The Andaz is a nice hotel in a central locatio...</td>\n",
       "      <td>{'username': 'Hotel-Designer', 'num_cities': 5...</td>\n",
       "      <td>August 2012</td>\n",
       "      <td>1762573</td>\n",
       "      <td>0</td>\n",
       "      <td>2012-12-17</td>\n",
       "      <td>147625723</td>\n",
       "      <td>False</td>\n",
       "    </tr>\n",
       "    <tr>\n",
       "      <th>4</th>\n",
       "      <td>{'service': 4.0, 'cleanliness': 5.0, 'overall'...</td>\n",
       "      <td>“Its the best of the Andaz Brand in the US....”</td>\n",
       "      <td>I have stayed at each of the US Andaz properti...</td>\n",
       "      <td>{'username': 'JamesE339', 'num_cities': 34, 'n...</td>\n",
       "      <td>December 2012</td>\n",
       "      <td>1762573</td>\n",
       "      <td>0</td>\n",
       "      <td>2012-12-17</td>\n",
       "      <td>147612823</td>\n",
       "      <td>False</td>\n",
       "    </tr>\n",
       "  </tbody>\n",
       "</table>\n",
       "</div>"
      ],
      "text/plain": [
       "                                             ratings  \\\n",
       "0  {'service': 5.0, 'cleanliness': 5.0, 'overall'...   \n",
       "1  {'service': 5.0, 'cleanliness': 5.0, 'overall'...   \n",
       "2  {'service': 4.0, 'cleanliness': 5.0, 'overall'...   \n",
       "3  {'service': 5.0, 'cleanliness': 5.0, 'overall'...   \n",
       "4  {'service': 4.0, 'cleanliness': 5.0, 'overall'...   \n",
       "\n",
       "                                             title  \\\n",
       "0        “Truly is \"Jewel of the Upper Wets Side\"”   \n",
       "1                        “My home away from home!”   \n",
       "2                                     “Great Stay”   \n",
       "3                             “Modern Convenience”   \n",
       "4  “Its the best of the Andaz Brand in the US....”   \n",
       "\n",
       "                                                text  \\\n",
       "0  Stayed in a king suite for 11 nights and yes i...   \n",
       "1  On every visit to NYC, the Hotel Beacon is the...   \n",
       "2  This is a great property in Midtown. We two di...   \n",
       "3  The Andaz is a nice hotel in a central locatio...   \n",
       "4  I have stayed at each of the US Andaz properti...   \n",
       "\n",
       "                                              author    date_stayed  \\\n",
       "0  {'username': 'Papa_Panda', 'num_cities': 22, '...  December 2012   \n",
       "1  {'username': 'Maureen V', 'num_reviews': 2, 'n...  December 2012   \n",
       "2  {'username': 'vuguru', 'num_cities': 12, 'num_...  December 2012   \n",
       "3  {'username': 'Hotel-Designer', 'num_cities': 5...    August 2012   \n",
       "4  {'username': 'JamesE339', 'num_cities': 34, 'n...  December 2012   \n",
       "\n",
       "   offering_id  num_helpful_votes       date         id  via_mobile  \n",
       "0        93338                  0 2012-12-17  147643103       False  \n",
       "1        93338                  0 2012-12-17  147639004       False  \n",
       "2      1762573                  0 2012-12-18  147697954       False  \n",
       "3      1762573                  0 2012-12-17  147625723       False  \n",
       "4      1762573                  0 2012-12-17  147612823       False  "
      ]
     },
     "execution_count": 13,
     "metadata": {},
     "output_type": "execute_result"
    }
   ],
   "source": [
    "df_reviews.head()"
   ]
  },
  {
   "cell_type": "markdown",
   "metadata": {},
   "source": [
    "From DataFrame I can see that column \"ratings\" and \"author\" is list of dictionaries"
   ]
  },
  {
   "cell_type": "code",
   "execution_count": 14,
   "metadata": {},
   "outputs": [],
   "source": [
    "#unnest column 'rating'\n",
    "df_reviews = df_reviews.drop('ratings', 1).assign(**pd.DataFrame(df_reviews.ratings.values.tolist()))"
   ]
  },
  {
   "cell_type": "code",
   "execution_count": 15,
   "metadata": {},
   "outputs": [],
   "source": [
    "#unnest column 'author'\n",
    "df_reviews = df_reviews.drop('author', 1).assign(**pd.DataFrame(df_reviews.author.values.tolist()))"
   ]
  },
  {
   "cell_type": "code",
   "execution_count": 16,
   "metadata": {},
   "outputs": [
    {
     "data": {
      "text/html": [
       "<div>\n",
       "<style scoped>\n",
       "    .dataframe tbody tr th:only-of-type {\n",
       "        vertical-align: middle;\n",
       "    }\n",
       "\n",
       "    .dataframe tbody tr th {\n",
       "        vertical-align: top;\n",
       "    }\n",
       "\n",
       "    .dataframe thead th {\n",
       "        text-align: right;\n",
       "    }\n",
       "</style>\n",
       "<table border=\"1\" class=\"dataframe\">\n",
       "  <thead>\n",
       "    <tr style=\"text-align: right;\">\n",
       "      <th></th>\n",
       "      <th>title</th>\n",
       "      <th>text</th>\n",
       "      <th>date_stayed</th>\n",
       "      <th>offering_id</th>\n",
       "      <th>num_helpful_votes</th>\n",
       "      <th>date</th>\n",
       "      <th>id</th>\n",
       "      <th>via_mobile</th>\n",
       "      <th>service</th>\n",
       "      <th>cleanliness</th>\n",
       "      <th>...</th>\n",
       "      <th>value</th>\n",
       "      <th>location</th>\n",
       "      <th>sleep_quality</th>\n",
       "      <th>rooms</th>\n",
       "      <th>check_in_front_desk</th>\n",
       "      <th>business_service_(e_g_internet_access)</th>\n",
       "      <th>username</th>\n",
       "      <th>num_cities</th>\n",
       "      <th>num_reviews</th>\n",
       "      <th>num_type_reviews</th>\n",
       "    </tr>\n",
       "  </thead>\n",
       "  <tbody>\n",
       "    <tr>\n",
       "      <th>0</th>\n",
       "      <td>“Truly is \"Jewel of the Upper Wets Side\"”</td>\n",
       "      <td>Stayed in a king suite for 11 nights and yes i...</td>\n",
       "      <td>December 2012</td>\n",
       "      <td>93338</td>\n",
       "      <td>12.0</td>\n",
       "      <td>2012-12-17</td>\n",
       "      <td>8C0B42FF3C0FA366A21CFD785302A032</td>\n",
       "      <td>False</td>\n",
       "      <td>5.0</td>\n",
       "      <td>5.0</td>\n",
       "      <td>...</td>\n",
       "      <td>5.0</td>\n",
       "      <td>Gold Coast</td>\n",
       "      <td>5.0</td>\n",
       "      <td>5.0</td>\n",
       "      <td>NaN</td>\n",
       "      <td>NaN</td>\n",
       "      <td>Papa_Panda</td>\n",
       "      <td>22.0</td>\n",
       "      <td>29.0</td>\n",
       "      <td>24.0</td>\n",
       "    </tr>\n",
       "    <tr>\n",
       "      <th>1</th>\n",
       "      <td>“My home away from home!”</td>\n",
       "      <td>On every visit to NYC, the Hotel Beacon is the...</td>\n",
       "      <td>December 2012</td>\n",
       "      <td>93338</td>\n",
       "      <td>NaN</td>\n",
       "      <td>2012-12-17</td>\n",
       "      <td>E3C85CA9DBBBC77E0DB534ABE93E4713</td>\n",
       "      <td>False</td>\n",
       "      <td>5.0</td>\n",
       "      <td>5.0</td>\n",
       "      <td>...</td>\n",
       "      <td>5.0</td>\n",
       "      <td>Sydney, New South Wales, Australia</td>\n",
       "      <td>5.0</td>\n",
       "      <td>5.0</td>\n",
       "      <td>NaN</td>\n",
       "      <td>NaN</td>\n",
       "      <td>Maureen V</td>\n",
       "      <td>2.0</td>\n",
       "      <td>2.0</td>\n",
       "      <td>NaN</td>\n",
       "    </tr>\n",
       "    <tr>\n",
       "      <th>2</th>\n",
       "      <td>“Great Stay”</td>\n",
       "      <td>This is a great property in Midtown. We two di...</td>\n",
       "      <td>December 2012</td>\n",
       "      <td>1762573</td>\n",
       "      <td>17.0</td>\n",
       "      <td>2012-12-18</td>\n",
       "      <td>FB1032DECE1162CB3556D05F278AAFFD</td>\n",
       "      <td>False</td>\n",
       "      <td>4.0</td>\n",
       "      <td>5.0</td>\n",
       "      <td>...</td>\n",
       "      <td>4.0</td>\n",
       "      <td>Houston</td>\n",
       "      <td>4.0</td>\n",
       "      <td>4.0</td>\n",
       "      <td>NaN</td>\n",
       "      <td>NaN</td>\n",
       "      <td>vuguru</td>\n",
       "      <td>12.0</td>\n",
       "      <td>14.0</td>\n",
       "      <td>14.0</td>\n",
       "    </tr>\n",
       "    <tr>\n",
       "      <th>3</th>\n",
       "      <td>“Modern Convenience”</td>\n",
       "      <td>The Andaz is a nice hotel in a central locatio...</td>\n",
       "      <td>August 2012</td>\n",
       "      <td>1762573</td>\n",
       "      <td>26.0</td>\n",
       "      <td>2012-12-17</td>\n",
       "      <td>EC3E275EE7590694889C8C7EE0D13961</td>\n",
       "      <td>False</td>\n",
       "      <td>5.0</td>\n",
       "      <td>5.0</td>\n",
       "      <td>...</td>\n",
       "      <td>5.0</td>\n",
       "      <td>Laguna Beach, CA</td>\n",
       "      <td>5.0</td>\n",
       "      <td>5.0</td>\n",
       "      <td>NaN</td>\n",
       "      <td>NaN</td>\n",
       "      <td>Hotel-Designer</td>\n",
       "      <td>5.0</td>\n",
       "      <td>5.0</td>\n",
       "      <td>5.0</td>\n",
       "    </tr>\n",
       "    <tr>\n",
       "      <th>4</th>\n",
       "      <td>“Its the best of the Andaz Brand in the US....”</td>\n",
       "      <td>I have stayed at each of the US Andaz properti...</td>\n",
       "      <td>December 2012</td>\n",
       "      <td>1762573</td>\n",
       "      <td>65.0</td>\n",
       "      <td>2012-12-17</td>\n",
       "      <td>BA524A238B1171206691A6CC3F28F266</td>\n",
       "      <td>False</td>\n",
       "      <td>4.0</td>\n",
       "      <td>5.0</td>\n",
       "      <td>...</td>\n",
       "      <td>3.0</td>\n",
       "      <td>Saint Louis, Missouri</td>\n",
       "      <td>5.0</td>\n",
       "      <td>5.0</td>\n",
       "      <td>NaN</td>\n",
       "      <td>NaN</td>\n",
       "      <td>JamesE339</td>\n",
       "      <td>34.0</td>\n",
       "      <td>104.0</td>\n",
       "      <td>49.0</td>\n",
       "    </tr>\n",
       "  </tbody>\n",
       "</table>\n",
       "<p>5 rows × 21 columns</p>\n",
       "</div>"
      ],
      "text/plain": [
       "                                             title  \\\n",
       "0        “Truly is \"Jewel of the Upper Wets Side\"”   \n",
       "1                        “My home away from home!”   \n",
       "2                                     “Great Stay”   \n",
       "3                             “Modern Convenience”   \n",
       "4  “Its the best of the Andaz Brand in the US....”   \n",
       "\n",
       "                                                text    date_stayed  \\\n",
       "0  Stayed in a king suite for 11 nights and yes i...  December 2012   \n",
       "1  On every visit to NYC, the Hotel Beacon is the...  December 2012   \n",
       "2  This is a great property in Midtown. We two di...  December 2012   \n",
       "3  The Andaz is a nice hotel in a central locatio...    August 2012   \n",
       "4  I have stayed at each of the US Andaz properti...  December 2012   \n",
       "\n",
       "   offering_id  num_helpful_votes       date  \\\n",
       "0        93338               12.0 2012-12-17   \n",
       "1        93338                NaN 2012-12-17   \n",
       "2      1762573               17.0 2012-12-18   \n",
       "3      1762573               26.0 2012-12-17   \n",
       "4      1762573               65.0 2012-12-17   \n",
       "\n",
       "                                 id  via_mobile  service  cleanliness  ...  \\\n",
       "0  8C0B42FF3C0FA366A21CFD785302A032       False      5.0          5.0  ...   \n",
       "1  E3C85CA9DBBBC77E0DB534ABE93E4713       False      5.0          5.0  ...   \n",
       "2  FB1032DECE1162CB3556D05F278AAFFD       False      4.0          5.0  ...   \n",
       "3  EC3E275EE7590694889C8C7EE0D13961       False      5.0          5.0  ...   \n",
       "4  BA524A238B1171206691A6CC3F28F266       False      4.0          5.0  ...   \n",
       "\n",
       "   value                            location sleep_quality  rooms  \\\n",
       "0    5.0                          Gold Coast           5.0    5.0   \n",
       "1    5.0  Sydney, New South Wales, Australia           5.0    5.0   \n",
       "2    4.0                             Houston           4.0    4.0   \n",
       "3    5.0                    Laguna Beach, CA           5.0    5.0   \n",
       "4    3.0               Saint Louis, Missouri           5.0    5.0   \n",
       "\n",
       "   check_in_front_desk  business_service_(e_g_internet_access)  \\\n",
       "0                  NaN                                     NaN   \n",
       "1                  NaN                                     NaN   \n",
       "2                  NaN                                     NaN   \n",
       "3                  NaN                                     NaN   \n",
       "4                  NaN                                     NaN   \n",
       "\n",
       "         username num_cities  num_reviews  num_type_reviews  \n",
       "0      Papa_Panda       22.0         29.0              24.0  \n",
       "1       Maureen V        2.0          2.0               NaN  \n",
       "2          vuguru       12.0         14.0              14.0  \n",
       "3  Hotel-Designer        5.0          5.0               5.0  \n",
       "4       JamesE339       34.0        104.0              49.0  \n",
       "\n",
       "[5 rows x 21 columns]"
      ]
     },
     "execution_count": 16,
     "metadata": {},
     "output_type": "execute_result"
    }
   ],
   "source": [
    "df_reviews.head()"
   ]
  },
  {
   "cell_type": "markdown",
   "metadata": {},
   "source": [
    " "
   ]
  },
  {
   "cell_type": "markdown",
   "metadata": {},
   "source": [
    "# Merge 2 dataframes"
   ]
  },
  {
   "cell_type": "markdown",
   "metadata": {},
   "source": [
    "Merge 2 dataframes to have all information with reviews and all information about hotel in one table"
   ]
  },
  {
   "cell_type": "code",
   "execution_count": 17,
   "metadata": {},
   "outputs": [
    {
     "data": {
      "text/html": [
       "<div>\n",
       "<style scoped>\n",
       "    .dataframe tbody tr th:only-of-type {\n",
       "        vertical-align: middle;\n",
       "    }\n",
       "\n",
       "    .dataframe tbody tr th {\n",
       "        vertical-align: top;\n",
       "    }\n",
       "\n",
       "    .dataframe thead th {\n",
       "        text-align: right;\n",
       "    }\n",
       "</style>\n",
       "<table border=\"1\" class=\"dataframe\">\n",
       "  <thead>\n",
       "    <tr style=\"text-align: right;\">\n",
       "      <th></th>\n",
       "      <th>hotel_class</th>\n",
       "      <th>region_id</th>\n",
       "      <th>url</th>\n",
       "      <th>phone</th>\n",
       "      <th>details</th>\n",
       "      <th>type</th>\n",
       "      <th>offering_id</th>\n",
       "      <th>name</th>\n",
       "      <th>region</th>\n",
       "      <th>street-address</th>\n",
       "      <th>postal-code</th>\n",
       "      <th>locality</th>\n",
       "    </tr>\n",
       "  </thead>\n",
       "  <tbody>\n",
       "    <tr>\n",
       "      <th>0</th>\n",
       "      <td>4.0</td>\n",
       "      <td>60763</td>\n",
       "      <td>http://www.tripadvisor.com/Hotel_Review-g60763...</td>\n",
       "      <td></td>\n",
       "      <td>NaN</td>\n",
       "      <td>hotel</td>\n",
       "      <td>113317</td>\n",
       "      <td>Casablanca Hotel Times Square</td>\n",
       "      <td>NY</td>\n",
       "      <td>147 West 43rd Street</td>\n",
       "      <td>10036</td>\n",
       "      <td>New York City</td>\n",
       "    </tr>\n",
       "    <tr>\n",
       "      <th>1</th>\n",
       "      <td>5.0</td>\n",
       "      <td>32655</td>\n",
       "      <td>http://www.tripadvisor.com/Hotel_Review-g32655...</td>\n",
       "      <td></td>\n",
       "      <td>NaN</td>\n",
       "      <td>hotel</td>\n",
       "      <td>76049</td>\n",
       "      <td>Four Seasons Hotel Los Angeles at Beverly Hills</td>\n",
       "      <td>CA</td>\n",
       "      <td>300 S Doheny Dr</td>\n",
       "      <td>90048</td>\n",
       "      <td>Los Angeles</td>\n",
       "    </tr>\n",
       "    <tr>\n",
       "      <th>2</th>\n",
       "      <td>3.5</td>\n",
       "      <td>60763</td>\n",
       "      <td>http://www.tripadvisor.com/Hotel_Review-g60763...</td>\n",
       "      <td></td>\n",
       "      <td>NaN</td>\n",
       "      <td>hotel</td>\n",
       "      <td>99352</td>\n",
       "      <td>Hilton Garden Inn Times Square</td>\n",
       "      <td>NY</td>\n",
       "      <td>790 Eighth Avenue</td>\n",
       "      <td>10019</td>\n",
       "      <td>New York City</td>\n",
       "    </tr>\n",
       "    <tr>\n",
       "      <th>3</th>\n",
       "      <td>4.0</td>\n",
       "      <td>60763</td>\n",
       "      <td>http://www.tripadvisor.com/Hotel_Review-g60763...</td>\n",
       "      <td></td>\n",
       "      <td>NaN</td>\n",
       "      <td>hotel</td>\n",
       "      <td>93589</td>\n",
       "      <td>The Michelangelo Hotel</td>\n",
       "      <td>NY</td>\n",
       "      <td>152 West 51st Street</td>\n",
       "      <td>10019</td>\n",
       "      <td>New York City</td>\n",
       "    </tr>\n",
       "    <tr>\n",
       "      <th>4</th>\n",
       "      <td>4.0</td>\n",
       "      <td>60763</td>\n",
       "      <td>http://www.tripadvisor.com/Hotel_Review-g60763...</td>\n",
       "      <td></td>\n",
       "      <td>NaN</td>\n",
       "      <td>hotel</td>\n",
       "      <td>217616</td>\n",
       "      <td>The Muse Hotel New York</td>\n",
       "      <td>NY</td>\n",
       "      <td>130 West 46th Street</td>\n",
       "      <td>10036</td>\n",
       "      <td>New York City</td>\n",
       "    </tr>\n",
       "  </tbody>\n",
       "</table>\n",
       "</div>"
      ],
      "text/plain": [
       "   hotel_class  region_id                                                url  \\\n",
       "0          4.0      60763  http://www.tripadvisor.com/Hotel_Review-g60763...   \n",
       "1          5.0      32655  http://www.tripadvisor.com/Hotel_Review-g32655...   \n",
       "2          3.5      60763  http://www.tripadvisor.com/Hotel_Review-g60763...   \n",
       "3          4.0      60763  http://www.tripadvisor.com/Hotel_Review-g60763...   \n",
       "4          4.0      60763  http://www.tripadvisor.com/Hotel_Review-g60763...   \n",
       "\n",
       "  phone  details   type  offering_id  \\\n",
       "0            NaN  hotel       113317   \n",
       "1            NaN  hotel        76049   \n",
       "2            NaN  hotel        99352   \n",
       "3            NaN  hotel        93589   \n",
       "4            NaN  hotel       217616   \n",
       "\n",
       "                                              name region  \\\n",
       "0                    Casablanca Hotel Times Square     NY   \n",
       "1  Four Seasons Hotel Los Angeles at Beverly Hills     CA   \n",
       "2                   Hilton Garden Inn Times Square     NY   \n",
       "3                           The Michelangelo Hotel     NY   \n",
       "4                          The Muse Hotel New York     NY   \n",
       "\n",
       "         street-address postal-code       locality  \n",
       "0  147 West 43rd Street       10036  New York City  \n",
       "1       300 S Doheny Dr       90048    Los Angeles  \n",
       "2     790 Eighth Avenue       10019  New York City  \n",
       "3  152 West 51st Street       10019  New York City  \n",
       "4  130 West 46th Street       10036  New York City  "
      ]
     },
     "execution_count": 17,
     "metadata": {},
     "output_type": "execute_result"
    }
   ],
   "source": [
    "#change name of column to merge 2 tables\n",
    "df_offering = df_offering.rename(columns={'id': 'offering_id'})\n",
    "df_offering.head()"
   ]
  },
  {
   "cell_type": "code",
   "execution_count": 18,
   "metadata": {},
   "outputs": [],
   "source": [
    "df_offering['offering_id'] = df_offering['offering_id'].astype(int)"
   ]
  },
  {
   "cell_type": "code",
   "execution_count": 19,
   "metadata": {},
   "outputs": [],
   "source": [
    "#merge Dataframes \"offering\" and \"reviews\"\n",
    "df_union = pd.merge(df_reviews, df_offering, on=[\"offering_id\"])"
   ]
  },
  {
   "cell_type": "code",
   "execution_count": 20,
   "metadata": {},
   "outputs": [
    {
     "data": {
      "text/html": [
       "<div>\n",
       "<style scoped>\n",
       "    .dataframe tbody tr th:only-of-type {\n",
       "        vertical-align: middle;\n",
       "    }\n",
       "\n",
       "    .dataframe tbody tr th {\n",
       "        vertical-align: top;\n",
       "    }\n",
       "\n",
       "    .dataframe thead th {\n",
       "        text-align: right;\n",
       "    }\n",
       "</style>\n",
       "<table border=\"1\" class=\"dataframe\">\n",
       "  <thead>\n",
       "    <tr style=\"text-align: right;\">\n",
       "      <th></th>\n",
       "      <th>title</th>\n",
       "      <th>text</th>\n",
       "      <th>date_stayed</th>\n",
       "      <th>offering_id</th>\n",
       "      <th>num_helpful_votes</th>\n",
       "      <th>date</th>\n",
       "      <th>id</th>\n",
       "      <th>via_mobile</th>\n",
       "      <th>service</th>\n",
       "      <th>cleanliness</th>\n",
       "      <th>...</th>\n",
       "      <th>region_id</th>\n",
       "      <th>url</th>\n",
       "      <th>phone</th>\n",
       "      <th>details</th>\n",
       "      <th>type</th>\n",
       "      <th>name</th>\n",
       "      <th>region</th>\n",
       "      <th>street-address</th>\n",
       "      <th>postal-code</th>\n",
       "      <th>locality</th>\n",
       "    </tr>\n",
       "  </thead>\n",
       "  <tbody>\n",
       "    <tr>\n",
       "      <th>0</th>\n",
       "      <td>“Truly is \"Jewel of the Upper Wets Side\"”</td>\n",
       "      <td>Stayed in a king suite for 11 nights and yes i...</td>\n",
       "      <td>December 2012</td>\n",
       "      <td>93338</td>\n",
       "      <td>12.0</td>\n",
       "      <td>2012-12-17</td>\n",
       "      <td>8C0B42FF3C0FA366A21CFD785302A032</td>\n",
       "      <td>False</td>\n",
       "      <td>5.0</td>\n",
       "      <td>5.0</td>\n",
       "      <td>...</td>\n",
       "      <td>60763</td>\n",
       "      <td>http://www.tripadvisor.com/Hotel_Review-g60763...</td>\n",
       "      <td></td>\n",
       "      <td>NaN</td>\n",
       "      <td>hotel</td>\n",
       "      <td>Hotel Beacon</td>\n",
       "      <td>NY</td>\n",
       "      <td>2130 Broadway at 75th Street</td>\n",
       "      <td>10023</td>\n",
       "      <td>New York City</td>\n",
       "    </tr>\n",
       "    <tr>\n",
       "      <th>1</th>\n",
       "      <td>“My home away from home!”</td>\n",
       "      <td>On every visit to NYC, the Hotel Beacon is the...</td>\n",
       "      <td>December 2012</td>\n",
       "      <td>93338</td>\n",
       "      <td>NaN</td>\n",
       "      <td>2012-12-17</td>\n",
       "      <td>E3C85CA9DBBBC77E0DB534ABE93E4713</td>\n",
       "      <td>False</td>\n",
       "      <td>5.0</td>\n",
       "      <td>5.0</td>\n",
       "      <td>...</td>\n",
       "      <td>60763</td>\n",
       "      <td>http://www.tripadvisor.com/Hotel_Review-g60763...</td>\n",
       "      <td></td>\n",
       "      <td>NaN</td>\n",
       "      <td>hotel</td>\n",
       "      <td>Hotel Beacon</td>\n",
       "      <td>NY</td>\n",
       "      <td>2130 Broadway at 75th Street</td>\n",
       "      <td>10023</td>\n",
       "      <td>New York City</td>\n",
       "    </tr>\n",
       "    <tr>\n",
       "      <th>2</th>\n",
       "      <td>“Excellent location”</td>\n",
       "      <td>Loved the hotel. Great location - only 2 block...</td>\n",
       "      <td>December 2012</td>\n",
       "      <td>93338</td>\n",
       "      <td>1.0</td>\n",
       "      <td>2012-12-17</td>\n",
       "      <td>035080D10D186778123E6A58C11E0608</td>\n",
       "      <td>False</td>\n",
       "      <td>5.0</td>\n",
       "      <td>5.0</td>\n",
       "      <td>...</td>\n",
       "      <td>60763</td>\n",
       "      <td>http://www.tripadvisor.com/Hotel_Review-g60763...</td>\n",
       "      <td></td>\n",
       "      <td>NaN</td>\n",
       "      <td>hotel</td>\n",
       "      <td>Hotel Beacon</td>\n",
       "      <td>NY</td>\n",
       "      <td>2130 Broadway at 75th Street</td>\n",
       "      <td>10023</td>\n",
       "      <td>New York City</td>\n",
       "    </tr>\n",
       "    <tr>\n",
       "      <th>3</th>\n",
       "      <td>“All-round fantastic NYC hotel”</td>\n",
       "      <td>Our first stay on the upper west side and can'...</td>\n",
       "      <td>December 2012</td>\n",
       "      <td>93338</td>\n",
       "      <td>NaN</td>\n",
       "      <td>2012-12-17</td>\n",
       "      <td>412A714D6BF1607A01CC828645DD70AE</td>\n",
       "      <td>False</td>\n",
       "      <td>5.0</td>\n",
       "      <td>5.0</td>\n",
       "      <td>...</td>\n",
       "      <td>60763</td>\n",
       "      <td>http://www.tripadvisor.com/Hotel_Review-g60763...</td>\n",
       "      <td></td>\n",
       "      <td>NaN</td>\n",
       "      <td>hotel</td>\n",
       "      <td>Hotel Beacon</td>\n",
       "      <td>NY</td>\n",
       "      <td>2130 Broadway at 75th Street</td>\n",
       "      <td>10023</td>\n",
       "      <td>New York City</td>\n",
       "    </tr>\n",
       "    <tr>\n",
       "      <th>4</th>\n",
       "      <td>“Great hotel in nice area”</td>\n",
       "      <td>Great room, very big with huge bed! Great loca...</td>\n",
       "      <td>December 2012</td>\n",
       "      <td>93338</td>\n",
       "      <td>3.0</td>\n",
       "      <td>2012-12-17</td>\n",
       "      <td>72B051F423790BE5F0EF6A9FD23EB77E</td>\n",
       "      <td>False</td>\n",
       "      <td>5.0</td>\n",
       "      <td>5.0</td>\n",
       "      <td>...</td>\n",
       "      <td>60763</td>\n",
       "      <td>http://www.tripadvisor.com/Hotel_Review-g60763...</td>\n",
       "      <td></td>\n",
       "      <td>NaN</td>\n",
       "      <td>hotel</td>\n",
       "      <td>Hotel Beacon</td>\n",
       "      <td>NY</td>\n",
       "      <td>2130 Broadway at 75th Street</td>\n",
       "      <td>10023</td>\n",
       "      <td>New York City</td>\n",
       "    </tr>\n",
       "  </tbody>\n",
       "</table>\n",
       "<p>5 rows × 32 columns</p>\n",
       "</div>"
      ],
      "text/plain": [
       "                                       title  \\\n",
       "0  “Truly is \"Jewel of the Upper Wets Side\"”   \n",
       "1                  “My home away from home!”   \n",
       "2                       “Excellent location”   \n",
       "3            “All-round fantastic NYC hotel”   \n",
       "4                 “Great hotel in nice area”   \n",
       "\n",
       "                                                text    date_stayed  \\\n",
       "0  Stayed in a king suite for 11 nights and yes i...  December 2012   \n",
       "1  On every visit to NYC, the Hotel Beacon is the...  December 2012   \n",
       "2  Loved the hotel. Great location - only 2 block...  December 2012   \n",
       "3  Our first stay on the upper west side and can'...  December 2012   \n",
       "4  Great room, very big with huge bed! Great loca...  December 2012   \n",
       "\n",
       "   offering_id  num_helpful_votes       date  \\\n",
       "0        93338               12.0 2012-12-17   \n",
       "1        93338                NaN 2012-12-17   \n",
       "2        93338                1.0 2012-12-17   \n",
       "3        93338                NaN 2012-12-17   \n",
       "4        93338                3.0 2012-12-17   \n",
       "\n",
       "                                 id  via_mobile  service  cleanliness  ...  \\\n",
       "0  8C0B42FF3C0FA366A21CFD785302A032       False      5.0          5.0  ...   \n",
       "1  E3C85CA9DBBBC77E0DB534ABE93E4713       False      5.0          5.0  ...   \n",
       "2  035080D10D186778123E6A58C11E0608       False      5.0          5.0  ...   \n",
       "3  412A714D6BF1607A01CC828645DD70AE       False      5.0          5.0  ...   \n",
       "4  72B051F423790BE5F0EF6A9FD23EB77E       False      5.0          5.0  ...   \n",
       "\n",
       "   region_id                                                url phone  \\\n",
       "0      60763  http://www.tripadvisor.com/Hotel_Review-g60763...         \n",
       "1      60763  http://www.tripadvisor.com/Hotel_Review-g60763...         \n",
       "2      60763  http://www.tripadvisor.com/Hotel_Review-g60763...         \n",
       "3      60763  http://www.tripadvisor.com/Hotel_Review-g60763...         \n",
       "4      60763  http://www.tripadvisor.com/Hotel_Review-g60763...         \n",
       "\n",
       "   details   type          name  region                street-address  \\\n",
       "0      NaN  hotel  Hotel Beacon      NY  2130 Broadway at 75th Street   \n",
       "1      NaN  hotel  Hotel Beacon      NY  2130 Broadway at 75th Street   \n",
       "2      NaN  hotel  Hotel Beacon      NY  2130 Broadway at 75th Street   \n",
       "3      NaN  hotel  Hotel Beacon      NY  2130 Broadway at 75th Street   \n",
       "4      NaN  hotel  Hotel Beacon      NY  2130 Broadway at 75th Street   \n",
       "\n",
       "   postal-code       locality  \n",
       "0        10023  New York City  \n",
       "1        10023  New York City  \n",
       "2        10023  New York City  \n",
       "3        10023  New York City  \n",
       "4        10023  New York City  \n",
       "\n",
       "[5 rows x 32 columns]"
      ]
     },
     "execution_count": 20,
     "metadata": {},
     "output_type": "execute_result"
    }
   ],
   "source": [
    "df_union.head()"
   ]
  },
  {
   "cell_type": "code",
   "execution_count": 21,
   "metadata": {},
   "outputs": [
    {
     "data": {
      "text/plain": [
       "(878561, 32)"
      ]
     },
     "execution_count": 21,
     "metadata": {},
     "output_type": "execute_result"
    }
   ],
   "source": [
    "df_union.shape"
   ]
  },
  {
   "cell_type": "code",
   "execution_count": 22,
   "metadata": {},
   "outputs": [
    {
     "data": {
      "text/plain": [
       "Index(['title', 'text', 'date_stayed', 'offering_id', 'num_helpful_votes',\n",
       "       'date', 'id', 'via_mobile', 'service', 'cleanliness', 'overall',\n",
       "       'value', 'location', 'sleep_quality', 'rooms', 'check_in_front_desk',\n",
       "       'business_service_(e_g_internet_access)', 'username', 'num_cities',\n",
       "       'num_reviews', 'num_type_reviews', 'hotel_class', 'region_id', 'url',\n",
       "       'phone', 'details', 'type', 'name', 'region', 'street-address',\n",
       "       'postal-code', 'locality'],\n",
       "      dtype='object')"
      ]
     },
     "execution_count": 22,
     "metadata": {},
     "output_type": "execute_result"
    }
   ],
   "source": [
    "df_union.columns"
   ]
  },
  {
   "cell_type": "markdown",
   "metadata": {},
   "source": [
    "# Clean data, delete null rows"
   ]
  },
  {
   "cell_type": "code",
   "execution_count": 23,
   "metadata": {},
   "outputs": [],
   "source": [
    "#delete rows where username is empty\n",
    "df_union.drop(df_union.loc[df_union['username']==''].index, inplace=True)"
   ]
  },
  {
   "cell_type": "code",
   "execution_count": 24,
   "metadata": {},
   "outputs": [],
   "source": [
    "#delete rows where username, overall or offering_id is null\n",
    "df_union.dropna(subset=['username', 'overall', 'offering_id'], inplace=True)"
   ]
  },
  {
   "cell_type": "code",
   "execution_count": 25,
   "metadata": {},
   "outputs": [
    {
     "data": {
      "text/plain": [
       "CATID_                              299\n",
       "6562BBD4EA770FE84E579622F68FA181     63\n",
       "869E5453ED1ECD12EC2E210BEB6B922E     54\n",
       "6C62B19C4DB8C600576B763C68AF0759     52\n",
       "85223AA53CB0DE6A6EB7B3C1E99981B1     52\n",
       "                                   ... \n",
       "5752615EAE5C0BD88315B12699ED7480      1\n",
       "9DA37F0391BB53C34512CB4715B6F8AB      1\n",
       "8D76CF95689FAE0D30FA5202AB9355ED      1\n",
       "C12FDAD15CFC603D7EFFEF7F35B13D57      1\n",
       "0786371B2869F4D4401D5DA0E1406135      1\n",
       "Name: id, Length: 576687, dtype: int64"
      ]
     },
     "execution_count": 25,
     "metadata": {},
     "output_type": "execute_result"
    }
   ],
   "source": [
    "df_union.id.value_counts()"
   ]
  },
  {
   "cell_type": "code",
   "execution_count": 26,
   "metadata": {},
   "outputs": [
    {
     "data": {
      "text/plain": [
       "Michael S         116\n",
       "David B            99\n",
       "John S             96\n",
       "David S            92\n",
       "David M            90\n",
       "                 ... \n",
       "bostonwoody         1\n",
       "NewYork5family      1\n",
       "DonnaGisbert        1\n",
       "nanook00            1\n",
       "islebet04           1\n",
       "Name: username, Length: 536951, dtype: int64"
      ]
     },
     "execution_count": 26,
     "metadata": {},
     "output_type": "execute_result"
    }
   ],
   "source": [
    "df_union.username.value_counts()"
   ]
  },
  {
   "cell_type": "markdown",
   "metadata": {},
   "source": [
    "## EDA and more Data cleaning"
   ]
  },
  {
   "cell_type": "markdown",
   "metadata": {},
   "source": [
    "Let's do some EDA to get analize data and remove 'bad' data:\n",
    "- how many reviews in each rating score: 5.0, 4.0, 3.0, 2.0, 1.0\n",
    "- average rating for each hotel\n",
    "- count number of reviews for each hotel\n",
    "- count number of reviews for each user\n",
    "- avarage rating for each city\n",
    "- count number of hotels in each city"
   ]
  },
  {
   "cell_type": "code",
   "execution_count": null,
   "metadata": {},
   "outputs": [],
   "source": []
  },
  {
   "cell_type": "markdown",
   "metadata": {},
   "source": [
    "- how many reviews in each rating score: 5.0, 4.0, 3.0, 2.0, 1.0"
   ]
  },
  {
   "cell_type": "code",
   "execution_count": 27,
   "metadata": {},
   "outputs": [
    {
     "data": {
      "text/plain": [
       "5.0    322891\n",
       "4.0    265721\n",
       "3.0    112252\n",
       "2.0     53310\n",
       "1.0     47319\n",
       "0.0         1\n",
       "Name: overall, dtype: int64"
      ]
     },
     "execution_count": 27,
     "metadata": {},
     "output_type": "execute_result"
    }
   ],
   "source": [
    "df_union.overall.value_counts()"
   ]
  },
  {
   "cell_type": "markdown",
   "metadata": {},
   "source": [
    "Here's one review with rating '0', looks like mistake because users were able to leave rating only from 1 to 5. I'm gonna delete this from Dataframe"
   ]
  },
  {
   "cell_type": "code",
   "execution_count": 28,
   "metadata": {},
   "outputs": [],
   "source": [
    "#delete reviews with rating 0\n",
    "df_union.drop(df_union.loc[df_union['overall']==0].index, inplace=True)"
   ]
  },
  {
   "cell_type": "markdown",
   "metadata": {},
   "source": [
    "- average rating for each hotel"
   ]
  },
  {
   "cell_type": "code",
   "execution_count": 29,
   "metadata": {},
   "outputs": [],
   "source": [
    "ratings = df_union.groupby(['name'])['overall'].mean().sort_values(ascending=False)"
   ]
  },
  {
   "cell_type": "code",
   "execution_count": 30,
   "metadata": {},
   "outputs": [
    {
     "data": {
      "text/plain": [
       "3.4996344683539036"
      ]
     },
     "execution_count": 30,
     "metadata": {},
     "output_type": "execute_result"
    }
   ],
   "source": [
    "ratings.mean()"
   ]
  },
  {
   "cell_type": "code",
   "execution_count": 31,
   "metadata": {},
   "outputs": [
    {
     "data": {
      "text/plain": [
       "name\n",
       "The Richardson House                               5.0\n",
       "Staybridge Suites Houston Iah - Beltway 8          5.0\n",
       "Oakwood at 777 6th Avenue                          5.0\n",
       "Sierra Royale                                      5.0\n",
       "Scottish Inns & Suites - Willowbrook               5.0\n",
       "Economy Inn Motel                                  5.0\n",
       "Austin Motor Inn                                   5.0\n",
       "Wyndham                                            5.0\n",
       "InTown Suites Indianapolis Northwest               5.0\n",
       "Sawmill Extended Stay                              5.0\n",
       "Value Place Northland                              5.0\n",
       "Braeswood Hotel & Convention Center                5.0\n",
       "Americas Best Value Inn & Suites-Houston/FM 249    5.0\n",
       "New York Escape                                    5.0\n",
       "Inter-Continental Central Park South New York      5.0\n",
       "Woodland Inn & Suites                              5.0\n",
       "All Star Hotel                                     5.0\n",
       "Thompson Hotel                                     5.0\n",
       "Synergy Avalon Mission Bay                         5.0\n",
       "Hotel Delmonico                                    5.0\n",
       "Horizon Inn Motel                                  5.0\n",
       "Passport Inn San Antonio                           5.0\n",
       "Adams Mark Hotel                                   5.0\n",
       "Palace Inn and Suites - Willowbrook                5.0\n",
       "Adlon Hotel                                        5.0\n",
       "Residence Inn Houston I-10 West                    5.0\n",
       "Hilton Garden Inn Houston NW America Plaza         5.0\n",
       "The Hotel Waterfront Ivy                           5.0\n",
       "Airport Inn And Suites                             5.0\n",
       "Candlewoods Suites Medical Center                  5.0\n",
       "Name: overall, dtype: float64"
      ]
     },
     "execution_count": 31,
     "metadata": {},
     "output_type": "execute_result"
    }
   ],
   "source": [
    "#hotels with rating 5.0\n",
    "ratings[ratings==5.0]"
   ]
  },
  {
   "cell_type": "markdown",
   "metadata": {},
   "source": [
    "- count number of reviews for each hotel"
   ]
  },
  {
   "cell_type": "code",
   "execution_count": 32,
   "metadata": {},
   "outputs": [],
   "source": [
    "reviews_count = df_union.groupby(['name'])['overall'].count().sort_values(ascending=False)"
   ]
  },
  {
   "cell_type": "code",
   "execution_count": 33,
   "metadata": {},
   "outputs": [
    {
     "data": {
      "text/plain": [
       "name\n",
       "Hotel Pennsylvania New York    3797\n",
       "Waldorf Astoria New York       3146\n",
       "Park Central                   2998\n",
       "The New Yorker Hotel           2847\n",
       "Affinia Manhattan              2836\n",
       "                               ... \n",
       "Oakwood at Longacre House         1\n",
       "Wyndham                           1\n",
       "Bar X Motel                       1\n",
       "Valley Lodge Motel                1\n",
       "Lincoln Motel                     1\n",
       "Name: overall, Length: 3855, dtype: int64"
      ]
     },
     "execution_count": 33,
     "metadata": {},
     "output_type": "execute_result"
    }
   ],
   "source": [
    "reviews_count"
   ]
  },
  {
   "cell_type": "markdown",
   "metadata": {},
   "source": [
    "- count number of reviews for each user"
   ]
  },
  {
   "cell_type": "code",
   "execution_count": 34,
   "metadata": {},
   "outputs": [],
   "source": [
    "reviews_count_byuser = df_union.groupby(['id'])['overall'].count().sort_values(ascending=False)"
   ]
  },
  {
   "cell_type": "code",
   "execution_count": 35,
   "metadata": {},
   "outputs": [
    {
     "data": {
      "text/plain": [
       "id\n",
       "CATID_                              299\n",
       "6562BBD4EA770FE84E579622F68FA181     63\n",
       "869E5453ED1ECD12EC2E210BEB6B922E     54\n",
       "85223AA53CB0DE6A6EB7B3C1E99981B1     52\n",
       "6C62B19C4DB8C600576B763C68AF0759     52\n",
       "                                   ... \n",
       "A0C0ABF1FDB3C9DE56BA848DA14F6348      1\n",
       "A0C0D203DEB1B61000BBF9259A4B5A22      1\n",
       "A0C0DCCEC004AABAEFB5CD88A6ED4BDA      1\n",
       "A0C0E290EABB5C946BF70442D7CDE19A      1\n",
       "7FC56E9337C70B8D630FCFB59E9A988E      1\n",
       "Name: overall, Length: 576686, dtype: int64"
      ]
     },
     "execution_count": 35,
     "metadata": {},
     "output_type": "execute_result"
    }
   ],
   "source": [
    "reviews_count_byuser"
   ]
  },
  {
   "cell_type": "markdown",
   "metadata": {},
   "source": [
    "Looks like 'CATID_' user has different format of id. This data look like wrong, I'm gonna delete it from dataframe"
   ]
  },
  {
   "cell_type": "code",
   "execution_count": 36,
   "metadata": {},
   "outputs": [],
   "source": [
    "#delete user with id CATID_\n",
    "df_union.drop(df_union.loc[df_union['id']=='CATID_'].index, inplace=True)"
   ]
  },
  {
   "cell_type": "markdown",
   "metadata": {},
   "source": [
    "- avarage rating for each city"
   ]
  },
  {
   "cell_type": "code",
   "execution_count": 37,
   "metadata": {},
   "outputs": [],
   "source": [
    "ratings_by_city = df_union.groupby(['locality'])['overall'].mean().sort_values(ascending=False)"
   ]
  },
  {
   "cell_type": "code",
   "execution_count": 38,
   "metadata": {},
   "outputs": [
    {
     "data": {
      "text/plain": [
       "locality\n",
       "Chicago          4.089721\n",
       "Seattle          4.068587\n",
       "Boston           4.065164\n",
       "Washington DC    4.025626\n",
       "Denver           4.014887\n",
       "Dallas           4.005859\n",
       "New York City    3.981072\n",
       "Detroit          3.972244\n",
       "Phoenix          3.965624\n",
       "Fort Worth       3.956700\n",
       "Baltimore        3.948594\n",
       "San Francisco    3.943632\n",
       "Houston          3.931909\n",
       "San Diego        3.918941\n",
       "San Antonio      3.903860\n",
       "Austin           3.842848\n",
       "Jacksonville     3.831773\n",
       "Philadelphia     3.827356\n",
       "Charlotte        3.795706\n",
       "Indianapolis     3.788758\n",
       "Los Angeles      3.772860\n",
       "San Jose         3.739944\n",
       "El Paso          3.702073\n",
       "Memphis          3.693258\n",
       "Columbus         3.592757\n",
       "Name: overall, dtype: float64"
      ]
     },
     "execution_count": 38,
     "metadata": {},
     "output_type": "execute_result"
    }
   ],
   "source": [
    "ratings_by_city"
   ]
  },
  {
   "cell_type": "markdown",
   "metadata": {},
   "source": [
    "- number of reviews for each city"
   ]
  },
  {
   "cell_type": "code",
   "execution_count": 39,
   "metadata": {},
   "outputs": [
    {
     "data": {
      "text/plain": [
       "New York City    435\n",
       "Houston          428\n",
       "San Antonio      343\n",
       "Los Angeles      296\n",
       "San Diego        245\n",
       "San Francisco    236\n",
       "Dallas           186\n",
       "Austin           185\n",
       "Indianapolis     183\n",
       "Phoenix          178\n",
       "Charlotte        166\n",
       "Chicago          165\n",
       "Columbus         140\n",
       "Denver           140\n",
       "Jacksonville     131\n",
       "Memphis          129\n",
       "Washington DC    125\n",
       "Seattle          121\n",
       "Fort Worth        97\n",
       "Philadelphia      81\n",
       "El Paso           77\n",
       "Boston            75\n",
       "San Jose          70\n",
       "Baltimore         69\n",
       "Detroit           32\n",
       "Name: locality, dtype: int64"
      ]
     },
     "execution_count": 39,
     "metadata": {},
     "output_type": "execute_result"
    }
   ],
   "source": [
    "df_offering.locality.value_counts()"
   ]
  },
  {
   "cell_type": "code",
   "execution_count": null,
   "metadata": {},
   "outputs": [],
   "source": []
  },
  {
   "cell_type": "code",
   "execution_count": 40,
   "metadata": {},
   "outputs": [],
   "source": [
    "#write all cleaned data into csv file to be able read it from another Notebook\n",
    "df_union.to_csv('df_union_all.csv', index=False)"
   ]
  }
 ],
 "metadata": {
  "kernelspec": {
   "display_name": "Python 3",
   "language": "python",
   "name": "python3"
  },
  "language_info": {
   "codemirror_mode": {
    "name": "ipython",
    "version": 3
   },
   "file_extension": ".py",
   "mimetype": "text/x-python",
   "name": "python",
   "nbconvert_exporter": "python",
   "pygments_lexer": "ipython3",
   "version": "3.8.5"
  }
 },
 "nbformat": 4,
 "nbformat_minor": 4
}
